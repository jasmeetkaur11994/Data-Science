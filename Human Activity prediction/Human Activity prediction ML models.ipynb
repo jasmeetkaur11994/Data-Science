{
 "cells": [
  {
   "cell_type": "markdown",
   "id": "c085bb04",
   "metadata": {},
   "source": [
    "## EXE - 4\n",
    "### Submitted by:\n",
    "### Jasmeet Kaur\n",
    "### Student ID: 100881373\n",
    "\n",
    "_____________________________________________________________________________________________________________________________"
   ]
  },
  {
   "cell_type": "markdown",
   "id": "b2ca4fed",
   "metadata": {},
   "source": [
    "Table of Contents:\n",
    "1. Business Problem\n",
    "2. Importing the Dataset\n",
    "3. Exploratory Data Analysis (EDA) <br>\n",
    "  3.1 Data Overview <br>\n",
    "  3.2 Data Cleaning/ Data wrangling (Deleting Duplicate Lines etc.)<br>\n",
    "  3.3 Report: Making Frequency Distribution and Pie Chart of target variable  <br>\n",
    "  3.4 Statistical Analysis <br>\n",
    "4. Data Preprocessing\n",
    "  4.1 Outlier Management <br>\n",
    "  4.2 Feature Engineering and Selection <br>\n",
    "5. Model Preparation\n",
    "  5.1 Splitting the dataset into Train and Test Sets <br>\n",
    "  5.2 Feature Scaling <br>\n",
    "6. Machine Learning Models\n",
    "  6.1 SVM REGRESSION MODEL <br>\n",
    "     6.1.1 6.1.1 Building Model <br>\n",
    "     6.1.2 Assessing the model <br>\n",
    "7. Randomized Grid Search Cross Validation\n",
    "  7.1 Building Model <br>\n",
    "  7.2 Assessing model <br>\n",
    "  \n",
    "8. Cross Validation using K - Stratification\n",
    "9. Summary :Comparison of SVM Models\n",
    "10. Conclusion"
   ]
  },
  {
   "cell_type": "markdown",
   "id": "3819e7b6",
   "metadata": {},
   "source": [
    "\n",
    "## 1. Business Problem\n",
    "Human activity recognition is crucial in human-to-human contact and interpersonal relationships. It is tough to extract information about a person's identity, personality, and psychological condition. One of the critical objects of research in the scientific fields of computer vision and machine learning is the human capacity to identify another person's activity. A multimodal activity recognition system is required for many applications, including video surveillance systems, human-computer interfaces, and robotics for human behavior characterization. Human activity recognition is an essential topic that focuses on recognizing a person's movement or action based on sensor data. Movements are everyday indoor activities such as walking, conversing, standing, and sitting. They might also be more concentrated tasks, such as those conducted in a kitchen or manufacturing floor. Sensor data, such as video, radar, or other wireless means, may be captured remotely. Data may also be collected directly on the subject, carrying specialized gear or smartphones equipped with accelerometers and gyroscopes.\n",
    "Sensor data for activity detection has traditionally been difficult and costly, necessitating bespoke gear. \n",
    "\n",
    "The given jupyter notebook presents Human Activity Recognition as a multi avriate time series classification problem. The goal is to forecast activity based on the given dataset as a snapshot of sensor data, often from one or a few sensors. Thus the jupyter notebook illustrates multivariate time series classification challenge.\n",
    "\n",
    "It is a difficult challenge since there are no clear or straightforward methods to match the recorded sensor data to particular human behaviors. Each subject may conduct an activity differently, resulting in variances in the recorded sensor data.\n",
    "\n",
    "<b>Dataset Information:</b><br>\n",
    "Human Activity Recognition database built from the recordings of 30 subjects performing activities of daily living (ADL) while carrying a waist-mounted smartphone with embedded inertial sensors.\n",
    "\n",
    "Data Set Characteristics: Multivariate, Time-Series\n",
    "\n",
    "The experiments have been carried out with a group of 30 volunteers within an age bracket of 19-48 years. Each person performed six activities (WALKING, WALKINGUPSTAIRS, WALKINGDOWNSTAIRS, SITTING, STANDING, LAYING) wearing a smartphone (Samsung Galaxy S II) on the waist. Using its embedded accelerometer and gyroscope, we captured 3-axial linear acceleration and 3-axial angular velocity at a constant rate of 50Hz. The experiments have been video-recorded to label the data manually. The obtained dataset has been randomly partitioned into two sets, where 70% of the volunteers was selected for generating the training data and 30% the test data.\n",
    "\n",
    "The sensor signals (accelerometer and gyroscope) were pre-processed by applying noise filters and then sampled in fixed-width sliding windows of 2.56 sec and 50% overlap (128 readings/window). The sensor acceleration signal, which has gravitational and body motion components, was separated using a Butterworth low-pass filter into body acceleration and gravity. The gravitational force is assumed to have only low frequency components, therefore a filter with 0.3 Hz cutoff frequency was used. From each window, a vector of features was obtained by calculating variables from the time and frequency domain."
   ]
  },
  {
   "cell_type": "markdown",
   "id": "9c3a70fb",
   "metadata": {},
   "source": [
    "### Importing required modules"
   ]
  },
  {
   "cell_type": "code",
   "execution_count": 1,
   "id": "893ad446",
   "metadata": {},
   "outputs": [
    {
     "name": "stdout",
     "output_type": "stream",
     "text": [
      "Requirement already satisfied: sweetviz in c:\\users\\100902467\\anaconda3\\lib\\site-packages (2.1.4)\n",
      "Requirement already satisfied: tqdm>=4.43.0 in c:\\users\\100902467\\anaconda3\\lib\\site-packages (from sweetviz) (4.64.0)\n",
      "Requirement already satisfied: importlib-resources>=1.2.0 in c:\\users\\100902467\\anaconda3\\lib\\site-packages (from sweetviz) (5.10.0)\n",
      "Requirement already satisfied: pandas!=1.0.0,!=1.0.1,!=1.0.2,>=0.25.3 in c:\\users\\100902467\\anaconda3\\lib\\site-packages (from sweetviz) (1.4.2)\n",
      "Requirement already satisfied: numpy>=1.16.0 in c:\\users\\100902467\\anaconda3\\lib\\site-packages (from sweetviz) (1.21.5)\n",
      "Requirement already satisfied: jinja2>=2.11.1 in c:\\users\\100902467\\anaconda3\\lib\\site-packages (from sweetviz) (2.11.3)\n",
      "Requirement already satisfied: matplotlib>=3.1.3 in c:\\users\\100902467\\anaconda3\\lib\\site-packages (from sweetviz) (3.5.1)\n",
      "Requirement already satisfied: scipy>=1.3.2 in c:\\users\\100902467\\anaconda3\\lib\\site-packages (from sweetviz) (1.7.3)\n",
      "Requirement already satisfied: zipp>=3.1.0 in c:\\users\\100902467\\anaconda3\\lib\\site-packages (from importlib-resources>=1.2.0->sweetviz) (3.7.0)\n",
      "Requirement already satisfied: MarkupSafe>=0.23 in c:\\users\\100902467\\anaconda3\\lib\\site-packages (from jinja2>=2.11.1->sweetviz) (2.0.1)\n",
      "Requirement already satisfied: pyparsing>=2.2.1 in c:\\users\\100902467\\anaconda3\\lib\\site-packages (from matplotlib>=3.1.3->sweetviz) (3.0.4)\n",
      "Requirement already satisfied: pillow>=6.2.0 in c:\\users\\100902467\\anaconda3\\lib\\site-packages (from matplotlib>=3.1.3->sweetviz) (9.0.1)\n",
      "Requirement already satisfied: packaging>=20.0 in c:\\users\\100902467\\anaconda3\\lib\\site-packages (from matplotlib>=3.1.3->sweetviz) (21.3)\n",
      "Requirement already satisfied: cycler>=0.10 in c:\\users\\100902467\\anaconda3\\lib\\site-packages (from matplotlib>=3.1.3->sweetviz) (0.11.0)\n",
      "Requirement already satisfied: kiwisolver>=1.0.1 in c:\\users\\100902467\\anaconda3\\lib\\site-packages (from matplotlib>=3.1.3->sweetviz) (1.3.2)\n",
      "Requirement already satisfied: python-dateutil>=2.7 in c:\\users\\100902467\\anaconda3\\lib\\site-packages (from matplotlib>=3.1.3->sweetviz) (2.8.2)\n",
      "Requirement already satisfied: fonttools>=4.22.0 in c:\\users\\100902467\\anaconda3\\lib\\site-packages (from matplotlib>=3.1.3->sweetviz) (4.25.0)\n",
      "Requirement already satisfied: pytz>=2020.1 in c:\\users\\100902467\\anaconda3\\lib\\site-packages (from pandas!=1.0.0,!=1.0.1,!=1.0.2,>=0.25.3->sweetviz) (2021.3)\n",
      "Requirement already satisfied: six>=1.5 in c:\\users\\100902467\\anaconda3\\lib\\site-packages (from python-dateutil>=2.7->matplotlib>=3.1.3->sweetviz) (1.16.0)\n",
      "Requirement already satisfied: colorama in c:\\users\\100902467\\anaconda3\\lib\\site-packages (from tqdm>=4.43.0->sweetviz) (0.4.4)\n"
     ]
    },
    {
     "data": {
      "text/html": [
       "        <script type=\"text/javascript\">\n",
       "        window.PlotlyConfig = {MathJaxConfig: 'local'};\n",
       "        if (window.MathJax) {MathJax.Hub.Config({SVG: {font: \"STIX-Web\"}});}\n",
       "        if (typeof require !== 'undefined') {\n",
       "        require.undef(\"plotly\");\n",
       "        requirejs.config({\n",
       "            paths: {\n",
       "                'plotly': ['https://cdn.plot.ly/plotly-2.9.0.min']\n",
       "            }\n",
       "        });\n",
       "        require(['plotly'], function(Plotly) {\n",
       "            window._Plotly = Plotly;\n",
       "        });\n",
       "        }\n",
       "        </script>\n",
       "        "
      ]
     },
     "metadata": {},
     "output_type": "display_data"
    }
   ],
   "source": [
    "!pip install sweetviz\n",
    "import sweetviz as sv\n",
    "import numpy as np \n",
    "import pandas as pd\n",
    "import os\n",
    "from sklearn.neighbors import KNeighborsClassifier\n",
    "from sklearn.tree import DecisionTreeClassifier\n",
    "from sklearn.ensemble import RandomForestClassifier\n",
    "from sklearn.model_selection import train_test_split\n",
    "from sklearn.model_selection import cross_val_score\n",
    "from sklearn.model_selection import StratifiedKFold\n",
    "from sklearn.metrics import accuracy_score\n",
    "import matplotlib.pyplot as plt\n",
    "from sklearn.model_selection import train_test_split\n",
    "from PIL import  Image\n",
    "get_ipython().run_line_magic('matplotlib', 'inline')\n",
    "import seaborn as sns\n",
    "import itertools\n",
    "import matplotlib.pyplot as plt\n",
    "import warnings\n",
    "import plotly.express as px\n",
    "warnings.filterwarnings(\"ignore\")\n",
    "import io\n",
    "import plotly.offline as py\n",
    "py.init_notebook_mode(connected=True)\n",
    "import plotly.graph_objs as go\n",
    "import plotly.tools as tls\n",
    "import plotly.figure_factory as ff\n",
    "from sklearn.model_selection import cross_val_score, GridSearchCV\n",
    "from sklearn.neighbors import KNeighborsClassifier, NeighborhoodComponentsAnalysis, LocalOutlierFactor\n"
   ]
  },
  {
   "cell_type": "markdown",
   "id": "4c56b77d",
   "metadata": {},
   "source": [
    "## 2. Importing the dataset"
   ]
  },
  {
   "cell_type": "code",
   "execution_count": 2,
   "id": "85a62c1b",
   "metadata": {
    "scrolled": true
   },
   "outputs": [
    {
     "data": {
      "text/html": [
       "<div>\n",
       "<style scoped>\n",
       "    .dataframe tbody tr th:only-of-type {\n",
       "        vertical-align: middle;\n",
       "    }\n",
       "\n",
       "    .dataframe tbody tr th {\n",
       "        vertical-align: top;\n",
       "    }\n",
       "\n",
       "    .dataframe thead th {\n",
       "        text-align: right;\n",
       "    }\n",
       "</style>\n",
       "<table border=\"1\" class=\"dataframe\">\n",
       "  <thead>\n",
       "    <tr style=\"text-align: right;\">\n",
       "      <th></th>\n",
       "      <th>tBodyAcc-mean()-X</th>\n",
       "      <th>tBodyAcc-mean()-Y</th>\n",
       "      <th>tBodyAcc-mean()-Z</th>\n",
       "      <th>tBodyAcc-std()-X</th>\n",
       "      <th>tBodyAcc-std()-Y</th>\n",
       "      <th>tBodyAcc-std()-Z</th>\n",
       "      <th>tBodyAcc-mad()-X</th>\n",
       "      <th>tBodyAcc-mad()-Y</th>\n",
       "      <th>tBodyAcc-mad()-Z</th>\n",
       "      <th>tBodyAcc-max()-X</th>\n",
       "      <th>...</th>\n",
       "      <th>fBodyBodyGyroJerkMag-kurtosis()</th>\n",
       "      <th>angle(tBodyAccMean,gravity)</th>\n",
       "      <th>angle(tBodyAccJerkMean),gravityMean)</th>\n",
       "      <th>angle(tBodyGyroMean,gravityMean)</th>\n",
       "      <th>angle(tBodyGyroJerkMean,gravityMean)</th>\n",
       "      <th>angle(X,gravityMean)</th>\n",
       "      <th>angle(Y,gravityMean)</th>\n",
       "      <th>angle(Z,gravityMean)</th>\n",
       "      <th>subject</th>\n",
       "      <th>Activity</th>\n",
       "    </tr>\n",
       "  </thead>\n",
       "  <tbody>\n",
       "    <tr>\n",
       "      <th>0</th>\n",
       "      <td>0.257178</td>\n",
       "      <td>-0.023285</td>\n",
       "      <td>-0.014654</td>\n",
       "      <td>-0.938404</td>\n",
       "      <td>-0.920091</td>\n",
       "      <td>-0.667683</td>\n",
       "      <td>-0.952501</td>\n",
       "      <td>-0.925249</td>\n",
       "      <td>-0.674302</td>\n",
       "      <td>-0.894088</td>\n",
       "      <td>...</td>\n",
       "      <td>-0.705974</td>\n",
       "      <td>0.006462</td>\n",
       "      <td>0.162920</td>\n",
       "      <td>-0.825886</td>\n",
       "      <td>0.271151</td>\n",
       "      <td>-0.720009</td>\n",
       "      <td>0.276801</td>\n",
       "      <td>-0.057978</td>\n",
       "      <td>2</td>\n",
       "      <td>STANDING</td>\n",
       "    </tr>\n",
       "    <tr>\n",
       "      <th>1</th>\n",
       "      <td>0.286027</td>\n",
       "      <td>-0.013163</td>\n",
       "      <td>-0.119083</td>\n",
       "      <td>-0.975415</td>\n",
       "      <td>-0.967458</td>\n",
       "      <td>-0.944958</td>\n",
       "      <td>-0.986799</td>\n",
       "      <td>-0.968401</td>\n",
       "      <td>-0.945823</td>\n",
       "      <td>-0.894088</td>\n",
       "      <td>...</td>\n",
       "      <td>-0.594944</td>\n",
       "      <td>-0.083495</td>\n",
       "      <td>0.017500</td>\n",
       "      <td>-0.434375</td>\n",
       "      <td>0.920593</td>\n",
       "      <td>-0.698091</td>\n",
       "      <td>0.281343</td>\n",
       "      <td>-0.083898</td>\n",
       "      <td>2</td>\n",
       "      <td>STANDING</td>\n",
       "    </tr>\n",
       "    <tr>\n",
       "      <th>2</th>\n",
       "      <td>0.275485</td>\n",
       "      <td>-0.026050</td>\n",
       "      <td>-0.118152</td>\n",
       "      <td>-0.993819</td>\n",
       "      <td>-0.969926</td>\n",
       "      <td>-0.962748</td>\n",
       "      <td>-0.994403</td>\n",
       "      <td>-0.970735</td>\n",
       "      <td>-0.963483</td>\n",
       "      <td>-0.939260</td>\n",
       "      <td>...</td>\n",
       "      <td>-0.640736</td>\n",
       "      <td>-0.034956</td>\n",
       "      <td>0.202302</td>\n",
       "      <td>0.064103</td>\n",
       "      <td>0.145068</td>\n",
       "      <td>-0.702771</td>\n",
       "      <td>0.280083</td>\n",
       "      <td>-0.079346</td>\n",
       "      <td>2</td>\n",
       "      <td>STANDING</td>\n",
       "    </tr>\n",
       "    <tr>\n",
       "      <th>3</th>\n",
       "      <td>0.270298</td>\n",
       "      <td>-0.032614</td>\n",
       "      <td>-0.117520</td>\n",
       "      <td>-0.994743</td>\n",
       "      <td>-0.973268</td>\n",
       "      <td>-0.967091</td>\n",
       "      <td>-0.995274</td>\n",
       "      <td>-0.974471</td>\n",
       "      <td>-0.968897</td>\n",
       "      <td>-0.938610</td>\n",
       "      <td>...</td>\n",
       "      <td>-0.736124</td>\n",
       "      <td>-0.017067</td>\n",
       "      <td>0.154438</td>\n",
       "      <td>0.340134</td>\n",
       "      <td>0.296407</td>\n",
       "      <td>-0.698954</td>\n",
       "      <td>0.284114</td>\n",
       "      <td>-0.077108</td>\n",
       "      <td>2</td>\n",
       "      <td>STANDING</td>\n",
       "    </tr>\n",
       "    <tr>\n",
       "      <th>4</th>\n",
       "      <td>0.274833</td>\n",
       "      <td>-0.027848</td>\n",
       "      <td>-0.129527</td>\n",
       "      <td>-0.993852</td>\n",
       "      <td>-0.967445</td>\n",
       "      <td>-0.978295</td>\n",
       "      <td>-0.994111</td>\n",
       "      <td>-0.965953</td>\n",
       "      <td>-0.977346</td>\n",
       "      <td>-0.938610</td>\n",
       "      <td>...</td>\n",
       "      <td>-0.846595</td>\n",
       "      <td>-0.002223</td>\n",
       "      <td>-0.040046</td>\n",
       "      <td>0.736715</td>\n",
       "      <td>-0.118545</td>\n",
       "      <td>-0.692245</td>\n",
       "      <td>0.290722</td>\n",
       "      <td>-0.073857</td>\n",
       "      <td>2</td>\n",
       "      <td>STANDING</td>\n",
       "    </tr>\n",
       "  </tbody>\n",
       "</table>\n",
       "<p>5 rows × 563 columns</p>\n",
       "</div>"
      ],
      "text/plain": [
       "   tBodyAcc-mean()-X  tBodyAcc-mean()-Y  tBodyAcc-mean()-Z  tBodyAcc-std()-X  \\\n",
       "0           0.257178          -0.023285          -0.014654         -0.938404   \n",
       "1           0.286027          -0.013163          -0.119083         -0.975415   \n",
       "2           0.275485          -0.026050          -0.118152         -0.993819   \n",
       "3           0.270298          -0.032614          -0.117520         -0.994743   \n",
       "4           0.274833          -0.027848          -0.129527         -0.993852   \n",
       "\n",
       "   tBodyAcc-std()-Y  tBodyAcc-std()-Z  tBodyAcc-mad()-X  tBodyAcc-mad()-Y  \\\n",
       "0         -0.920091         -0.667683         -0.952501         -0.925249   \n",
       "1         -0.967458         -0.944958         -0.986799         -0.968401   \n",
       "2         -0.969926         -0.962748         -0.994403         -0.970735   \n",
       "3         -0.973268         -0.967091         -0.995274         -0.974471   \n",
       "4         -0.967445         -0.978295         -0.994111         -0.965953   \n",
       "\n",
       "   tBodyAcc-mad()-Z  tBodyAcc-max()-X  ...  fBodyBodyGyroJerkMag-kurtosis()  \\\n",
       "0         -0.674302         -0.894088  ...                        -0.705974   \n",
       "1         -0.945823         -0.894088  ...                        -0.594944   \n",
       "2         -0.963483         -0.939260  ...                        -0.640736   \n",
       "3         -0.968897         -0.938610  ...                        -0.736124   \n",
       "4         -0.977346         -0.938610  ...                        -0.846595   \n",
       "\n",
       "   angle(tBodyAccMean,gravity)  angle(tBodyAccJerkMean),gravityMean)  \\\n",
       "0                     0.006462                              0.162920   \n",
       "1                    -0.083495                              0.017500   \n",
       "2                    -0.034956                              0.202302   \n",
       "3                    -0.017067                              0.154438   \n",
       "4                    -0.002223                             -0.040046   \n",
       "\n",
       "   angle(tBodyGyroMean,gravityMean)  angle(tBodyGyroJerkMean,gravityMean)  \\\n",
       "0                         -0.825886                              0.271151   \n",
       "1                         -0.434375                              0.920593   \n",
       "2                          0.064103                              0.145068   \n",
       "3                          0.340134                              0.296407   \n",
       "4                          0.736715                             -0.118545   \n",
       "\n",
       "   angle(X,gravityMean)  angle(Y,gravityMean)  angle(Z,gravityMean)  subject  \\\n",
       "0             -0.720009              0.276801             -0.057978        2   \n",
       "1             -0.698091              0.281343             -0.083898        2   \n",
       "2             -0.702771              0.280083             -0.079346        2   \n",
       "3             -0.698954              0.284114             -0.077108        2   \n",
       "4             -0.692245              0.290722             -0.073857        2   \n",
       "\n",
       "   Activity  \n",
       "0  STANDING  \n",
       "1  STANDING  \n",
       "2  STANDING  \n",
       "3  STANDING  \n",
       "4  STANDING  \n",
       "\n",
       "[5 rows x 563 columns]"
      ]
     },
     "execution_count": 2,
     "metadata": {},
     "output_type": "execute_result"
    }
   ],
   "source": [
    "#Reading the dataset stored as a .csv file.\n",
    "dataset = pd.read_csv(\"C:/Users/100902467/Desktop/AI Algo/SVM/test.csv\")\n",
    "\n",
    "#Displaying the first five rows of the dataset.\n",
    "dataset.head()\n"
   ]
  },
  {
   "cell_type": "markdown",
   "id": "4e3f5f13",
   "metadata": {},
   "source": [
    "## 3. Exploratory Data Analysis"
   ]
  },
  {
   "cell_type": "markdown",
   "id": "77bd8148",
   "metadata": {},
   "source": [
    "#### 3.1 Data overview"
   ]
  },
  {
   "cell_type": "code",
   "execution_count": 3,
   "id": "5c4cbaa4",
   "metadata": {
    "scrolled": true
   },
   "outputs": [
    {
     "name": "stdout",
     "output_type": "stream",
     "text": [
      "Rows     :  2947\n",
      "Columns  :  563\n",
      "\n",
      "Features : \n",
      " ['tBodyAcc-mean()-X', 'tBodyAcc-mean()-Y', 'tBodyAcc-mean()-Z', 'tBodyAcc-std()-X', 'tBodyAcc-std()-Y', 'tBodyAcc-std()-Z', 'tBodyAcc-mad()-X', 'tBodyAcc-mad()-Y', 'tBodyAcc-mad()-Z', 'tBodyAcc-max()-X', 'tBodyAcc-max()-Y', 'tBodyAcc-max()-Z', 'tBodyAcc-min()-X', 'tBodyAcc-min()-Y', 'tBodyAcc-min()-Z', 'tBodyAcc-sma()', 'tBodyAcc-energy()-X', 'tBodyAcc-energy()-Y', 'tBodyAcc-energy()-Z', 'tBodyAcc-iqr()-X', 'tBodyAcc-iqr()-Y', 'tBodyAcc-iqr()-Z', 'tBodyAcc-entropy()-X', 'tBodyAcc-entropy()-Y', 'tBodyAcc-entropy()-Z', 'tBodyAcc-arCoeff()-X,1', 'tBodyAcc-arCoeff()-X,2', 'tBodyAcc-arCoeff()-X,3', 'tBodyAcc-arCoeff()-X,4', 'tBodyAcc-arCoeff()-Y,1', 'tBodyAcc-arCoeff()-Y,2', 'tBodyAcc-arCoeff()-Y,3', 'tBodyAcc-arCoeff()-Y,4', 'tBodyAcc-arCoeff()-Z,1', 'tBodyAcc-arCoeff()-Z,2', 'tBodyAcc-arCoeff()-Z,3', 'tBodyAcc-arCoeff()-Z,4', 'tBodyAcc-correlation()-X,Y', 'tBodyAcc-correlation()-X,Z', 'tBodyAcc-correlation()-Y,Z', 'tGravityAcc-mean()-X', 'tGravityAcc-mean()-Y', 'tGravityAcc-mean()-Z', 'tGravityAcc-std()-X', 'tGravityAcc-std()-Y', 'tGravityAcc-std()-Z', 'tGravityAcc-mad()-X', 'tGravityAcc-mad()-Y', 'tGravityAcc-mad()-Z', 'tGravityAcc-max()-X', 'tGravityAcc-max()-Y', 'tGravityAcc-max()-Z', 'tGravityAcc-min()-X', 'tGravityAcc-min()-Y', 'tGravityAcc-min()-Z', 'tGravityAcc-sma()', 'tGravityAcc-energy()-X', 'tGravityAcc-energy()-Y', 'tGravityAcc-energy()-Z', 'tGravityAcc-iqr()-X', 'tGravityAcc-iqr()-Y', 'tGravityAcc-iqr()-Z', 'tGravityAcc-entropy()-X', 'tGravityAcc-entropy()-Y', 'tGravityAcc-entropy()-Z', 'tGravityAcc-arCoeff()-X,1', 'tGravityAcc-arCoeff()-X,2', 'tGravityAcc-arCoeff()-X,3', 'tGravityAcc-arCoeff()-X,4', 'tGravityAcc-arCoeff()-Y,1', 'tGravityAcc-arCoeff()-Y,2', 'tGravityAcc-arCoeff()-Y,3', 'tGravityAcc-arCoeff()-Y,4', 'tGravityAcc-arCoeff()-Z,1', 'tGravityAcc-arCoeff()-Z,2', 'tGravityAcc-arCoeff()-Z,3', 'tGravityAcc-arCoeff()-Z,4', 'tGravityAcc-correlation()-X,Y', 'tGravityAcc-correlation()-X,Z', 'tGravityAcc-correlation()-Y,Z', 'tBodyAccJerk-mean()-X', 'tBodyAccJerk-mean()-Y', 'tBodyAccJerk-mean()-Z', 'tBodyAccJerk-std()-X', 'tBodyAccJerk-std()-Y', 'tBodyAccJerk-std()-Z', 'tBodyAccJerk-mad()-X', 'tBodyAccJerk-mad()-Y', 'tBodyAccJerk-mad()-Z', 'tBodyAccJerk-max()-X', 'tBodyAccJerk-max()-Y', 'tBodyAccJerk-max()-Z', 'tBodyAccJerk-min()-X', 'tBodyAccJerk-min()-Y', 'tBodyAccJerk-min()-Z', 'tBodyAccJerk-sma()', 'tBodyAccJerk-energy()-X', 'tBodyAccJerk-energy()-Y', 'tBodyAccJerk-energy()-Z', 'tBodyAccJerk-iqr()-X', 'tBodyAccJerk-iqr()-Y', 'tBodyAccJerk-iqr()-Z', 'tBodyAccJerk-entropy()-X', 'tBodyAccJerk-entropy()-Y', 'tBodyAccJerk-entropy()-Z', 'tBodyAccJerk-arCoeff()-X,1', 'tBodyAccJerk-arCoeff()-X,2', 'tBodyAccJerk-arCoeff()-X,3', 'tBodyAccJerk-arCoeff()-X,4', 'tBodyAccJerk-arCoeff()-Y,1', 'tBodyAccJerk-arCoeff()-Y,2', 'tBodyAccJerk-arCoeff()-Y,3', 'tBodyAccJerk-arCoeff()-Y,4', 'tBodyAccJerk-arCoeff()-Z,1', 'tBodyAccJerk-arCoeff()-Z,2', 'tBodyAccJerk-arCoeff()-Z,3', 'tBodyAccJerk-arCoeff()-Z,4', 'tBodyAccJerk-correlation()-X,Y', 'tBodyAccJerk-correlation()-X,Z', 'tBodyAccJerk-correlation()-Y,Z', 'tBodyGyro-mean()-X', 'tBodyGyro-mean()-Y', 'tBodyGyro-mean()-Z', 'tBodyGyro-std()-X', 'tBodyGyro-std()-Y', 'tBodyGyro-std()-Z', 'tBodyGyro-mad()-X', 'tBodyGyro-mad()-Y', 'tBodyGyro-mad()-Z', 'tBodyGyro-max()-X', 'tBodyGyro-max()-Y', 'tBodyGyro-max()-Z', 'tBodyGyro-min()-X', 'tBodyGyro-min()-Y', 'tBodyGyro-min()-Z', 'tBodyGyro-sma()', 'tBodyGyro-energy()-X', 'tBodyGyro-energy()-Y', 'tBodyGyro-energy()-Z', 'tBodyGyro-iqr()-X', 'tBodyGyro-iqr()-Y', 'tBodyGyro-iqr()-Z', 'tBodyGyro-entropy()-X', 'tBodyGyro-entropy()-Y', 'tBodyGyro-entropy()-Z', 'tBodyGyro-arCoeff()-X,1', 'tBodyGyro-arCoeff()-X,2', 'tBodyGyro-arCoeff()-X,3', 'tBodyGyro-arCoeff()-X,4', 'tBodyGyro-arCoeff()-Y,1', 'tBodyGyro-arCoeff()-Y,2', 'tBodyGyro-arCoeff()-Y,3', 'tBodyGyro-arCoeff()-Y,4', 'tBodyGyro-arCoeff()-Z,1', 'tBodyGyro-arCoeff()-Z,2', 'tBodyGyro-arCoeff()-Z,3', 'tBodyGyro-arCoeff()-Z,4', 'tBodyGyro-correlation()-X,Y', 'tBodyGyro-correlation()-X,Z', 'tBodyGyro-correlation()-Y,Z', 'tBodyGyroJerk-mean()-X', 'tBodyGyroJerk-mean()-Y', 'tBodyGyroJerk-mean()-Z', 'tBodyGyroJerk-std()-X', 'tBodyGyroJerk-std()-Y', 'tBodyGyroJerk-std()-Z', 'tBodyGyroJerk-mad()-X', 'tBodyGyroJerk-mad()-Y', 'tBodyGyroJerk-mad()-Z', 'tBodyGyroJerk-max()-X', 'tBodyGyroJerk-max()-Y', 'tBodyGyroJerk-max()-Z', 'tBodyGyroJerk-min()-X', 'tBodyGyroJerk-min()-Y', 'tBodyGyroJerk-min()-Z', 'tBodyGyroJerk-sma()', 'tBodyGyroJerk-energy()-X', 'tBodyGyroJerk-energy()-Y', 'tBodyGyroJerk-energy()-Z', 'tBodyGyroJerk-iqr()-X', 'tBodyGyroJerk-iqr()-Y', 'tBodyGyroJerk-iqr()-Z', 'tBodyGyroJerk-entropy()-X', 'tBodyGyroJerk-entropy()-Y', 'tBodyGyroJerk-entropy()-Z', 'tBodyGyroJerk-arCoeff()-X,1', 'tBodyGyroJerk-arCoeff()-X,2', 'tBodyGyroJerk-arCoeff()-X,3', 'tBodyGyroJerk-arCoeff()-X,4', 'tBodyGyroJerk-arCoeff()-Y,1', 'tBodyGyroJerk-arCoeff()-Y,2', 'tBodyGyroJerk-arCoeff()-Y,3', 'tBodyGyroJerk-arCoeff()-Y,4', 'tBodyGyroJerk-arCoeff()-Z,1', 'tBodyGyroJerk-arCoeff()-Z,2', 'tBodyGyroJerk-arCoeff()-Z,3', 'tBodyGyroJerk-arCoeff()-Z,4', 'tBodyGyroJerk-correlation()-X,Y', 'tBodyGyroJerk-correlation()-X,Z', 'tBodyGyroJerk-correlation()-Y,Z', 'tBodyAccMag-mean()', 'tBodyAccMag-std()', 'tBodyAccMag-mad()', 'tBodyAccMag-max()', 'tBodyAccMag-min()', 'tBodyAccMag-sma()', 'tBodyAccMag-energy()', 'tBodyAccMag-iqr()', 'tBodyAccMag-entropy()', 'tBodyAccMag-arCoeff()1', 'tBodyAccMag-arCoeff()2', 'tBodyAccMag-arCoeff()3', 'tBodyAccMag-arCoeff()4', 'tGravityAccMag-mean()', 'tGravityAccMag-std()', 'tGravityAccMag-mad()', 'tGravityAccMag-max()', 'tGravityAccMag-min()', 'tGravityAccMag-sma()', 'tGravityAccMag-energy()', 'tGravityAccMag-iqr()', 'tGravityAccMag-entropy()', 'tGravityAccMag-arCoeff()1', 'tGravityAccMag-arCoeff()2', 'tGravityAccMag-arCoeff()3', 'tGravityAccMag-arCoeff()4', 'tBodyAccJerkMag-mean()', 'tBodyAccJerkMag-std()', 'tBodyAccJerkMag-mad()', 'tBodyAccJerkMag-max()', 'tBodyAccJerkMag-min()', 'tBodyAccJerkMag-sma()', 'tBodyAccJerkMag-energy()', 'tBodyAccJerkMag-iqr()', 'tBodyAccJerkMag-entropy()', 'tBodyAccJerkMag-arCoeff()1', 'tBodyAccJerkMag-arCoeff()2', 'tBodyAccJerkMag-arCoeff()3', 'tBodyAccJerkMag-arCoeff()4', 'tBodyGyroMag-mean()', 'tBodyGyroMag-std()', 'tBodyGyroMag-mad()', 'tBodyGyroMag-max()', 'tBodyGyroMag-min()', 'tBodyGyroMag-sma()', 'tBodyGyroMag-energy()', 'tBodyGyroMag-iqr()', 'tBodyGyroMag-entropy()', 'tBodyGyroMag-arCoeff()1', 'tBodyGyroMag-arCoeff()2', 'tBodyGyroMag-arCoeff()3', 'tBodyGyroMag-arCoeff()4', 'tBodyGyroJerkMag-mean()', 'tBodyGyroJerkMag-std()', 'tBodyGyroJerkMag-mad()', 'tBodyGyroJerkMag-max()', 'tBodyGyroJerkMag-min()', 'tBodyGyroJerkMag-sma()', 'tBodyGyroJerkMag-energy()', 'tBodyGyroJerkMag-iqr()', 'tBodyGyroJerkMag-entropy()', 'tBodyGyroJerkMag-arCoeff()1', 'tBodyGyroJerkMag-arCoeff()2', 'tBodyGyroJerkMag-arCoeff()3', 'tBodyGyroJerkMag-arCoeff()4', 'fBodyAcc-mean()-X', 'fBodyAcc-mean()-Y', 'fBodyAcc-mean()-Z', 'fBodyAcc-std()-X', 'fBodyAcc-std()-Y', 'fBodyAcc-std()-Z', 'fBodyAcc-mad()-X', 'fBodyAcc-mad()-Y', 'fBodyAcc-mad()-Z', 'fBodyAcc-max()-X', 'fBodyAcc-max()-Y', 'fBodyAcc-max()-Z', 'fBodyAcc-min()-X', 'fBodyAcc-min()-Y', 'fBodyAcc-min()-Z', 'fBodyAcc-sma()', 'fBodyAcc-energy()-X', 'fBodyAcc-energy()-Y', 'fBodyAcc-energy()-Z', 'fBodyAcc-iqr()-X', 'fBodyAcc-iqr()-Y', 'fBodyAcc-iqr()-Z', 'fBodyAcc-entropy()-X', 'fBodyAcc-entropy()-Y', 'fBodyAcc-entropy()-Z', 'fBodyAcc-maxInds-X', 'fBodyAcc-maxInds-Y', 'fBodyAcc-maxInds-Z', 'fBodyAcc-meanFreq()-X', 'fBodyAcc-meanFreq()-Y', 'fBodyAcc-meanFreq()-Z', 'fBodyAcc-skewness()-X', 'fBodyAcc-kurtosis()-X', 'fBodyAcc-skewness()-Y', 'fBodyAcc-kurtosis()-Y', 'fBodyAcc-skewness()-Z', 'fBodyAcc-kurtosis()-Z', 'fBodyAcc-bandsEnergy()-1,8', 'fBodyAcc-bandsEnergy()-9,16', 'fBodyAcc-bandsEnergy()-17,24', 'fBodyAcc-bandsEnergy()-25,32', 'fBodyAcc-bandsEnergy()-33,40', 'fBodyAcc-bandsEnergy()-41,48', 'fBodyAcc-bandsEnergy()-49,56', 'fBodyAcc-bandsEnergy()-57,64', 'fBodyAcc-bandsEnergy()-1,16', 'fBodyAcc-bandsEnergy()-17,32', 'fBodyAcc-bandsEnergy()-33,48', 'fBodyAcc-bandsEnergy()-49,64', 'fBodyAcc-bandsEnergy()-1,24', 'fBodyAcc-bandsEnergy()-25,48', 'fBodyAcc-bandsEnergy()-1,8.1', 'fBodyAcc-bandsEnergy()-9,16.1', 'fBodyAcc-bandsEnergy()-17,24.1', 'fBodyAcc-bandsEnergy()-25,32.1', 'fBodyAcc-bandsEnergy()-33,40.1', 'fBodyAcc-bandsEnergy()-41,48.1', 'fBodyAcc-bandsEnergy()-49,56.1', 'fBodyAcc-bandsEnergy()-57,64.1', 'fBodyAcc-bandsEnergy()-1,16.1', 'fBodyAcc-bandsEnergy()-17,32.1', 'fBodyAcc-bandsEnergy()-33,48.1', 'fBodyAcc-bandsEnergy()-49,64.1', 'fBodyAcc-bandsEnergy()-1,24.1', 'fBodyAcc-bandsEnergy()-25,48.1', 'fBodyAcc-bandsEnergy()-1,8.2', 'fBodyAcc-bandsEnergy()-9,16.2', 'fBodyAcc-bandsEnergy()-17,24.2', 'fBodyAcc-bandsEnergy()-25,32.2', 'fBodyAcc-bandsEnergy()-33,40.2', 'fBodyAcc-bandsEnergy()-41,48.2', 'fBodyAcc-bandsEnergy()-49,56.2', 'fBodyAcc-bandsEnergy()-57,64.2', 'fBodyAcc-bandsEnergy()-1,16.2', 'fBodyAcc-bandsEnergy()-17,32.2', 'fBodyAcc-bandsEnergy()-33,48.2', 'fBodyAcc-bandsEnergy()-49,64.2', 'fBodyAcc-bandsEnergy()-1,24.2', 'fBodyAcc-bandsEnergy()-25,48.2', 'fBodyAccJerk-mean()-X', 'fBodyAccJerk-mean()-Y', 'fBodyAccJerk-mean()-Z', 'fBodyAccJerk-std()-X', 'fBodyAccJerk-std()-Y', 'fBodyAccJerk-std()-Z', 'fBodyAccJerk-mad()-X', 'fBodyAccJerk-mad()-Y', 'fBodyAccJerk-mad()-Z', 'fBodyAccJerk-max()-X', 'fBodyAccJerk-max()-Y', 'fBodyAccJerk-max()-Z', 'fBodyAccJerk-min()-X', 'fBodyAccJerk-min()-Y', 'fBodyAccJerk-min()-Z', 'fBodyAccJerk-sma()', 'fBodyAccJerk-energy()-X', 'fBodyAccJerk-energy()-Y', 'fBodyAccJerk-energy()-Z', 'fBodyAccJerk-iqr()-X', 'fBodyAccJerk-iqr()-Y', 'fBodyAccJerk-iqr()-Z', 'fBodyAccJerk-entropy()-X', 'fBodyAccJerk-entropy()-Y', 'fBodyAccJerk-entropy()-Z', 'fBodyAccJerk-maxInds-X', 'fBodyAccJerk-maxInds-Y', 'fBodyAccJerk-maxInds-Z', 'fBodyAccJerk-meanFreq()-X', 'fBodyAccJerk-meanFreq()-Y', 'fBodyAccJerk-meanFreq()-Z', 'fBodyAccJerk-skewness()-X', 'fBodyAccJerk-kurtosis()-X', 'fBodyAccJerk-skewness()-Y', 'fBodyAccJerk-kurtosis()-Y', 'fBodyAccJerk-skewness()-Z', 'fBodyAccJerk-kurtosis()-Z', 'fBodyAccJerk-bandsEnergy()-1,8', 'fBodyAccJerk-bandsEnergy()-9,16', 'fBodyAccJerk-bandsEnergy()-17,24', 'fBodyAccJerk-bandsEnergy()-25,32', 'fBodyAccJerk-bandsEnergy()-33,40', 'fBodyAccJerk-bandsEnergy()-41,48', 'fBodyAccJerk-bandsEnergy()-49,56', 'fBodyAccJerk-bandsEnergy()-57,64', 'fBodyAccJerk-bandsEnergy()-1,16', 'fBodyAccJerk-bandsEnergy()-17,32', 'fBodyAccJerk-bandsEnergy()-33,48', 'fBodyAccJerk-bandsEnergy()-49,64', 'fBodyAccJerk-bandsEnergy()-1,24', 'fBodyAccJerk-bandsEnergy()-25,48', 'fBodyAccJerk-bandsEnergy()-1,8.1', 'fBodyAccJerk-bandsEnergy()-9,16.1', 'fBodyAccJerk-bandsEnergy()-17,24.1', 'fBodyAccJerk-bandsEnergy()-25,32.1', 'fBodyAccJerk-bandsEnergy()-33,40.1', 'fBodyAccJerk-bandsEnergy()-41,48.1', 'fBodyAccJerk-bandsEnergy()-49,56.1', 'fBodyAccJerk-bandsEnergy()-57,64.1', 'fBodyAccJerk-bandsEnergy()-1,16.1', 'fBodyAccJerk-bandsEnergy()-17,32.1', 'fBodyAccJerk-bandsEnergy()-33,48.1', 'fBodyAccJerk-bandsEnergy()-49,64.1', 'fBodyAccJerk-bandsEnergy()-1,24.1', 'fBodyAccJerk-bandsEnergy()-25,48.1', 'fBodyAccJerk-bandsEnergy()-1,8.2', 'fBodyAccJerk-bandsEnergy()-9,16.2', 'fBodyAccJerk-bandsEnergy()-17,24.2', 'fBodyAccJerk-bandsEnergy()-25,32.2', 'fBodyAccJerk-bandsEnergy()-33,40.2', 'fBodyAccJerk-bandsEnergy()-41,48.2', 'fBodyAccJerk-bandsEnergy()-49,56.2', 'fBodyAccJerk-bandsEnergy()-57,64.2', 'fBodyAccJerk-bandsEnergy()-1,16.2', 'fBodyAccJerk-bandsEnergy()-17,32.2', 'fBodyAccJerk-bandsEnergy()-33,48.2', 'fBodyAccJerk-bandsEnergy()-49,64.2', 'fBodyAccJerk-bandsEnergy()-1,24.2', 'fBodyAccJerk-bandsEnergy()-25,48.2', 'fBodyGyro-mean()-X', 'fBodyGyro-mean()-Y', 'fBodyGyro-mean()-Z', 'fBodyGyro-std()-X', 'fBodyGyro-std()-Y', 'fBodyGyro-std()-Z', 'fBodyGyro-mad()-X', 'fBodyGyro-mad()-Y', 'fBodyGyro-mad()-Z', 'fBodyGyro-max()-X', 'fBodyGyro-max()-Y', 'fBodyGyro-max()-Z', 'fBodyGyro-min()-X', 'fBodyGyro-min()-Y', 'fBodyGyro-min()-Z', 'fBodyGyro-sma()', 'fBodyGyro-energy()-X', 'fBodyGyro-energy()-Y', 'fBodyGyro-energy()-Z', 'fBodyGyro-iqr()-X', 'fBodyGyro-iqr()-Y', 'fBodyGyro-iqr()-Z', 'fBodyGyro-entropy()-X', 'fBodyGyro-entropy()-Y', 'fBodyGyro-entropy()-Z', 'fBodyGyro-maxInds-X', 'fBodyGyro-maxInds-Y', 'fBodyGyro-maxInds-Z', 'fBodyGyro-meanFreq()-X', 'fBodyGyro-meanFreq()-Y', 'fBodyGyro-meanFreq()-Z', 'fBodyGyro-skewness()-X', 'fBodyGyro-kurtosis()-X', 'fBodyGyro-skewness()-Y', 'fBodyGyro-kurtosis()-Y', 'fBodyGyro-skewness()-Z', 'fBodyGyro-kurtosis()-Z', 'fBodyGyro-bandsEnergy()-1,8', 'fBodyGyro-bandsEnergy()-9,16', 'fBodyGyro-bandsEnergy()-17,24', 'fBodyGyro-bandsEnergy()-25,32', 'fBodyGyro-bandsEnergy()-33,40', 'fBodyGyro-bandsEnergy()-41,48', 'fBodyGyro-bandsEnergy()-49,56', 'fBodyGyro-bandsEnergy()-57,64', 'fBodyGyro-bandsEnergy()-1,16', 'fBodyGyro-bandsEnergy()-17,32', 'fBodyGyro-bandsEnergy()-33,48', 'fBodyGyro-bandsEnergy()-49,64', 'fBodyGyro-bandsEnergy()-1,24', 'fBodyGyro-bandsEnergy()-25,48', 'fBodyGyro-bandsEnergy()-1,8.1', 'fBodyGyro-bandsEnergy()-9,16.1', 'fBodyGyro-bandsEnergy()-17,24.1', 'fBodyGyro-bandsEnergy()-25,32.1', 'fBodyGyro-bandsEnergy()-33,40.1', 'fBodyGyro-bandsEnergy()-41,48.1', 'fBodyGyro-bandsEnergy()-49,56.1', 'fBodyGyro-bandsEnergy()-57,64.1', 'fBodyGyro-bandsEnergy()-1,16.1', 'fBodyGyro-bandsEnergy()-17,32.1', 'fBodyGyro-bandsEnergy()-33,48.1', 'fBodyGyro-bandsEnergy()-49,64.1', 'fBodyGyro-bandsEnergy()-1,24.1', 'fBodyGyro-bandsEnergy()-25,48.1', 'fBodyGyro-bandsEnergy()-1,8.2', 'fBodyGyro-bandsEnergy()-9,16.2', 'fBodyGyro-bandsEnergy()-17,24.2', 'fBodyGyro-bandsEnergy()-25,32.2', 'fBodyGyro-bandsEnergy()-33,40.2', 'fBodyGyro-bandsEnergy()-41,48.2', 'fBodyGyro-bandsEnergy()-49,56.2', 'fBodyGyro-bandsEnergy()-57,64.2', 'fBodyGyro-bandsEnergy()-1,16.2', 'fBodyGyro-bandsEnergy()-17,32.2', 'fBodyGyro-bandsEnergy()-33,48.2', 'fBodyGyro-bandsEnergy()-49,64.2', 'fBodyGyro-bandsEnergy()-1,24.2', 'fBodyGyro-bandsEnergy()-25,48.2', 'fBodyAccMag-mean()', 'fBodyAccMag-std()', 'fBodyAccMag-mad()', 'fBodyAccMag-max()', 'fBodyAccMag-min()', 'fBodyAccMag-sma()', 'fBodyAccMag-energy()', 'fBodyAccMag-iqr()', 'fBodyAccMag-entropy()', 'fBodyAccMag-maxInds', 'fBodyAccMag-meanFreq()', 'fBodyAccMag-skewness()', 'fBodyAccMag-kurtosis()', 'fBodyBodyAccJerkMag-mean()', 'fBodyBodyAccJerkMag-std()', 'fBodyBodyAccJerkMag-mad()', 'fBodyBodyAccJerkMag-max()', 'fBodyBodyAccJerkMag-min()', 'fBodyBodyAccJerkMag-sma()', 'fBodyBodyAccJerkMag-energy()', 'fBodyBodyAccJerkMag-iqr()', 'fBodyBodyAccJerkMag-entropy()', 'fBodyBodyAccJerkMag-maxInds', 'fBodyBodyAccJerkMag-meanFreq()', 'fBodyBodyAccJerkMag-skewness()', 'fBodyBodyAccJerkMag-kurtosis()', 'fBodyBodyGyroMag-mean()', 'fBodyBodyGyroMag-std()', 'fBodyBodyGyroMag-mad()', 'fBodyBodyGyroMag-max()', 'fBodyBodyGyroMag-min()', 'fBodyBodyGyroMag-sma()', 'fBodyBodyGyroMag-energy()', 'fBodyBodyGyroMag-iqr()', 'fBodyBodyGyroMag-entropy()', 'fBodyBodyGyroMag-maxInds', 'fBodyBodyGyroMag-meanFreq()', 'fBodyBodyGyroMag-skewness()', 'fBodyBodyGyroMag-kurtosis()', 'fBodyBodyGyroJerkMag-mean()', 'fBodyBodyGyroJerkMag-std()', 'fBodyBodyGyroJerkMag-mad()', 'fBodyBodyGyroJerkMag-max()', 'fBodyBodyGyroJerkMag-min()', 'fBodyBodyGyroJerkMag-sma()', 'fBodyBodyGyroJerkMag-energy()', 'fBodyBodyGyroJerkMag-iqr()', 'fBodyBodyGyroJerkMag-entropy()', 'fBodyBodyGyroJerkMag-maxInds', 'fBodyBodyGyroJerkMag-meanFreq()', 'fBodyBodyGyroJerkMag-skewness()', 'fBodyBodyGyroJerkMag-kurtosis()', 'angle(tBodyAccMean,gravity)', 'angle(tBodyAccJerkMean),gravityMean)', 'angle(tBodyGyroMean,gravityMean)', 'angle(tBodyGyroJerkMean,gravityMean)', 'angle(X,gravityMean)', 'angle(Y,gravityMean)', 'angle(Z,gravityMean)', 'subject', 'Activity']\n",
      "\n",
      "Missing values :   0\n",
      "Unique values  :  \n",
      " tBodyAcc-mean()-X       2947\n",
      "tBodyAcc-mean()-Y       2947\n",
      "tBodyAcc-mean()-Z       2947\n",
      "tBodyAcc-std()-X        2947\n",
      "tBodyAcc-std()-Y        2947\n",
      "                        ... \n",
      "angle(X,gravityMean)    2947\n",
      "angle(Y,gravityMean)    2947\n",
      "angle(Z,gravityMean)    2947\n",
      "subject                    9\n",
      "Activity                   6\n",
      "Length: 563, dtype: int64\n"
     ]
    }
   ],
   "source": [
    "# Basic data statistics\n",
    "print (\"Rows     : \" ,dataset.shape[0])\n",
    "print (\"Columns  : \" ,dataset.shape[1])\n",
    "print (\"\\nFeatures : \\n\" ,dataset.columns.tolist())\n",
    "print (\"\\nMissing values :  \", dataset.isnull().sum().values.sum())\n",
    "print (\"Unique values  :  \\n\",dataset.nunique())\n",
    "\n"
   ]
  },
  {
   "cell_type": "markdown",
   "id": "058eb666",
   "metadata": {},
   "source": [
    "#### 3.2 Data Cleaning/ Data wrangling"
   ]
  },
  {
   "cell_type": "code",
   "execution_count": 4,
   "id": "1d07921a",
   "metadata": {},
   "outputs": [
    {
     "data": {
      "text/plain": [
       "2947"
      ]
     },
     "execution_count": 4,
     "metadata": {},
     "output_type": "execute_result"
    }
   ],
   "source": [
    "# Deleting Duplicate Lines and keeping last record\n",
    "dataset = dataset.drop_duplicates(keep='last')\n",
    "#Checking number of rows\n",
    "dataset.shape[0]"
   ]
  },
  {
   "cell_type": "markdown",
   "id": "425af347",
   "metadata": {},
   "source": [
    "##### The number of rows is same as before so no duplicate records were there in dataset"
   ]
  },
  {
   "cell_type": "markdown",
   "id": "1ce6d8b4",
   "metadata": {},
   "source": [
    "#### 3.3 Report: Making Frequency Distribution and Pie Chart of target variable"
   ]
  },
  {
   "cell_type": "code",
   "execution_count": 5,
   "id": "d0e4621d",
   "metadata": {},
   "outputs": [
    {
     "data": {
      "text/html": [
       "<div>\n",
       "<style scoped>\n",
       "    .dataframe tbody tr th:only-of-type {\n",
       "        vertical-align: middle;\n",
       "    }\n",
       "\n",
       "    .dataframe tbody tr th {\n",
       "        vertical-align: top;\n",
       "    }\n",
       "\n",
       "    .dataframe thead th {\n",
       "        text-align: right;\n",
       "    }\n",
       "</style>\n",
       "<table border=\"1\" class=\"dataframe\">\n",
       "  <thead>\n",
       "    <tr style=\"text-align: right;\">\n",
       "      <th>col_0</th>\n",
       "      <th>count</th>\n",
       "    </tr>\n",
       "    <tr>\n",
       "      <th>Activity</th>\n",
       "      <th></th>\n",
       "    </tr>\n",
       "  </thead>\n",
       "  <tbody>\n",
       "    <tr>\n",
       "      <th>LAYING</th>\n",
       "      <td>537</td>\n",
       "    </tr>\n",
       "    <tr>\n",
       "      <th>SITTING</th>\n",
       "      <td>491</td>\n",
       "    </tr>\n",
       "    <tr>\n",
       "      <th>STANDING</th>\n",
       "      <td>532</td>\n",
       "    </tr>\n",
       "    <tr>\n",
       "      <th>WALKING</th>\n",
       "      <td>496</td>\n",
       "    </tr>\n",
       "    <tr>\n",
       "      <th>WALKING_DOWNSTAIRS</th>\n",
       "      <td>420</td>\n",
       "    </tr>\n",
       "    <tr>\n",
       "      <th>WALKING_UPSTAIRS</th>\n",
       "      <td>471</td>\n",
       "    </tr>\n",
       "  </tbody>\n",
       "</table>\n",
       "</div>"
      ],
      "text/plain": [
       "col_0               count\n",
       "Activity                 \n",
       "LAYING                537\n",
       "SITTING               491\n",
       "STANDING              532\n",
       "WALKING               496\n",
       "WALKING_DOWNSTAIRS    420\n",
       "WALKING_UPSTAIRS      471"
      ]
     },
     "execution_count": 5,
     "metadata": {},
     "output_type": "execute_result"
    }
   ],
   "source": [
    "#Frequency distribution of classes\"\n",
    "train_outcome = pd.crosstab(index=dataset[\"Activity\"],  # Make a crosstab\n",
    "                              columns=\"count\")      # Name the count column\n",
    "\n",
    "train_outcome"
   ]
  },
  {
   "cell_type": "code",
   "execution_count": 6,
   "id": "5440b391",
   "metadata": {},
   "outputs": [
    {
     "data": {
      "image/png": "[encoded data removed]",
      "text/plain": [
       "<Figure size 432x288 with 1 Axes>"
      ]
     },
     "metadata": {},
     "output_type": "display_data"
    }
   ],
   "source": [
    "# Visualizing Outcome Distribution \n",
    "temp = dataset[\"Activity\"].value_counts()\n",
    "df = pd.DataFrame({'labels': temp.index,\n",
    "                   'values': temp.values\n",
    "                  })\n",
    "\n",
    "#df.plot(kind='pie',labels='labels',values='values', title='Activity Ditribution',subplots= \"True\")\n",
    "\n",
    "labels = df['labels']\n",
    "sizes = df['values']\n",
    "colors = ['yellowgreen', 'gold', 'lightskyblue', 'lightcoral','cyan','lightpink']\n",
    "patches, texts = plt.pie(sizes, colors=colors, shadow=True, startangle=90, pctdistance=1.1, labeldistance=1.2)\n",
    "plt.legend(patches, labels, loc=\"best\")\n",
    "plt.axis('equal')\n",
    "plt.tight_layout()\n",
    "plt.show()"
   ]
  },
  {
   "cell_type": "markdown",
   "id": "d02ff6d8",
   "metadata": {},
   "source": [
    "#### 3.4 Statistical Analysis"
   ]
  },
  {
   "cell_type": "markdown",
   "id": "adcc1d64",
   "metadata": {},
   "source": [
    "##### 3.4.1 Statistical Summary: \n",
    "Pandas dataframe.info() function is used to get a concise summary of the dataframe. It comes really handy when doing exploratory analysis of the data. It shows the data type of variables and count of non null values for the variables"
   ]
  },
  {
   "cell_type": "code",
   "execution_count": 7,
   "id": "26d0fdab",
   "metadata": {},
   "outputs": [
    {
     "name": "stdout",
     "output_type": "stream",
     "text": [
      "<class 'pandas.core.frame.DataFrame'>\n",
      "Int64Index: 2947 entries, 0 to 2946\n",
      "Columns: 563 entries, tBodyAcc-mean()-X to Activity\n",
      "dtypes: float64(561), int64(1), object(1)\n",
      "memory usage: 12.7+ MB\n"
     ]
    }
   ],
   "source": [
    "dataset.info()"
   ]
  },
  {
   "cell_type": "code",
   "execution_count": 8,
   "id": "8f947565",
   "metadata": {},
   "outputs": [
    {
     "name": "stdout",
     "output_type": "stream",
     "text": [
      "Any missing sample in training set: False\n"
     ]
    }
   ],
   "source": [
    "print(\"Any missing sample in training set:\",dataset.isnull().values.any())"
   ]
  },
  {
   "cell_type": "markdown",
   "id": "d59512a3",
   "metadata": {},
   "source": [
    "From the above results it can be inferred all the features except Activity are of floating type. Also none of the feature contains null value and have all 2947 records."
   ]
  },
  {
   "cell_type": "markdown",
   "id": "ec9a11b2",
   "metadata": {},
   "source": [
    "##### 3.4.2 Displaying Descriptive statistics\n",
    "Dataframe.describe() method is used for Descriptive statistics including those that summarize the central tendency, dispersion and shape of a dataset’s distribution, excluding NaN values"
   ]
  },
  {
   "cell_type": "code",
   "execution_count": 9,
   "id": "6b2dd0d9",
   "metadata": {
    "scrolled": false
   },
   "outputs": [
    {
     "data": {
      "text/html": [
       "<div>\n",
       "<style scoped>\n",
       "    .dataframe tbody tr th:only-of-type {\n",
       "        vertical-align: middle;\n",
       "    }\n",
       "\n",
       "    .dataframe tbody tr th {\n",
       "        vertical-align: top;\n",
       "    }\n",
       "\n",
       "    .dataframe thead th {\n",
       "        text-align: right;\n",
       "    }\n",
       "</style>\n",
       "<table border=\"1\" class=\"dataframe\">\n",
       "  <thead>\n",
       "    <tr style=\"text-align: right;\">\n",
       "      <th></th>\n",
       "      <th>tBodyAcc-mean()-X</th>\n",
       "      <th>tBodyAcc-mean()-Y</th>\n",
       "      <th>tBodyAcc-mean()-Z</th>\n",
       "      <th>tBodyAcc-std()-X</th>\n",
       "      <th>tBodyAcc-std()-Y</th>\n",
       "      <th>tBodyAcc-std()-Z</th>\n",
       "      <th>tBodyAcc-mad()-X</th>\n",
       "      <th>tBodyAcc-mad()-Y</th>\n",
       "      <th>tBodyAcc-mad()-Z</th>\n",
       "      <th>tBodyAcc-max()-X</th>\n",
       "      <th>...</th>\n",
       "      <th>fBodyBodyGyroJerkMag-skewness()</th>\n",
       "      <th>fBodyBodyGyroJerkMag-kurtosis()</th>\n",
       "      <th>angle(tBodyAccMean,gravity)</th>\n",
       "      <th>angle(tBodyAccJerkMean),gravityMean)</th>\n",
       "      <th>angle(tBodyGyroMean,gravityMean)</th>\n",
       "      <th>angle(tBodyGyroJerkMean,gravityMean)</th>\n",
       "      <th>angle(X,gravityMean)</th>\n",
       "      <th>angle(Y,gravityMean)</th>\n",
       "      <th>angle(Z,gravityMean)</th>\n",
       "      <th>subject</th>\n",
       "    </tr>\n",
       "  </thead>\n",
       "  <tbody>\n",
       "    <tr>\n",
       "      <th>count</th>\n",
       "      <td>2947.000000</td>\n",
       "      <td>2947.000000</td>\n",
       "      <td>2947.000000</td>\n",
       "      <td>2947.000000</td>\n",
       "      <td>2947.000000</td>\n",
       "      <td>2947.000000</td>\n",
       "      <td>2947.000000</td>\n",
       "      <td>2947.000000</td>\n",
       "      <td>2947.000000</td>\n",
       "      <td>2947.000000</td>\n",
       "      <td>...</td>\n",
       "      <td>2947.000000</td>\n",
       "      <td>2947.000000</td>\n",
       "      <td>2947.000000</td>\n",
       "      <td>2947.000000</td>\n",
       "      <td>2947.000000</td>\n",
       "      <td>2947.000000</td>\n",
       "      <td>2947.000000</td>\n",
       "      <td>2947.000000</td>\n",
       "      <td>2947.000000</td>\n",
       "      <td>2947.000000</td>\n",
       "    </tr>\n",
       "    <tr>\n",
       "      <th>mean</th>\n",
       "      <td>0.273996</td>\n",
       "      <td>-0.017863</td>\n",
       "      <td>-0.108386</td>\n",
       "      <td>-0.613635</td>\n",
       "      <td>-0.508330</td>\n",
       "      <td>-0.633797</td>\n",
       "      <td>-0.641278</td>\n",
       "      <td>-0.522676</td>\n",
       "      <td>-0.637038</td>\n",
       "      <td>-0.462063</td>\n",
       "      <td>...</td>\n",
       "      <td>-0.277593</td>\n",
       "      <td>-0.598756</td>\n",
       "      <td>0.005264</td>\n",
       "      <td>0.003799</td>\n",
       "      <td>0.040029</td>\n",
       "      <td>-0.017298</td>\n",
       "      <td>-0.513923</td>\n",
       "      <td>0.074886</td>\n",
       "      <td>-0.048720</td>\n",
       "      <td>12.986427</td>\n",
       "    </tr>\n",
       "    <tr>\n",
       "      <th>std</th>\n",
       "      <td>0.060570</td>\n",
       "      <td>0.025745</td>\n",
       "      <td>0.042747</td>\n",
       "      <td>0.412597</td>\n",
       "      <td>0.494269</td>\n",
       "      <td>0.362699</td>\n",
       "      <td>0.385199</td>\n",
       "      <td>0.479899</td>\n",
       "      <td>0.357753</td>\n",
       "      <td>0.523916</td>\n",
       "      <td>...</td>\n",
       "      <td>0.317245</td>\n",
       "      <td>0.311042</td>\n",
       "      <td>0.336147</td>\n",
       "      <td>0.445077</td>\n",
       "      <td>0.634989</td>\n",
       "      <td>0.501311</td>\n",
       "      <td>0.509205</td>\n",
       "      <td>0.324300</td>\n",
       "      <td>0.241467</td>\n",
       "      <td>6.950984</td>\n",
       "    </tr>\n",
       "    <tr>\n",
       "      <th>min</th>\n",
       "      <td>-0.592004</td>\n",
       "      <td>-0.362884</td>\n",
       "      <td>-0.576184</td>\n",
       "      <td>-0.999606</td>\n",
       "      <td>-1.000000</td>\n",
       "      <td>-0.998955</td>\n",
       "      <td>-0.999417</td>\n",
       "      <td>-0.999914</td>\n",
       "      <td>-0.998899</td>\n",
       "      <td>-0.952357</td>\n",
       "      <td>...</td>\n",
       "      <td>-1.000000</td>\n",
       "      <td>-1.000000</td>\n",
       "      <td>-1.000000</td>\n",
       "      <td>-0.993402</td>\n",
       "      <td>-0.998898</td>\n",
       "      <td>-0.991096</td>\n",
       "      <td>-0.984195</td>\n",
       "      <td>-0.913704</td>\n",
       "      <td>-0.949228</td>\n",
       "      <td>2.000000</td>\n",
       "    </tr>\n",
       "    <tr>\n",
       "      <th>25%</th>\n",
       "      <td>0.262075</td>\n",
       "      <td>-0.024961</td>\n",
       "      <td>-0.121162</td>\n",
       "      <td>-0.990914</td>\n",
       "      <td>-0.973664</td>\n",
       "      <td>-0.976122</td>\n",
       "      <td>-0.992333</td>\n",
       "      <td>-0.974131</td>\n",
       "      <td>-0.975352</td>\n",
       "      <td>-0.934447</td>\n",
       "      <td>...</td>\n",
       "      <td>-0.517494</td>\n",
       "      <td>-0.829593</td>\n",
       "      <td>-0.130541</td>\n",
       "      <td>-0.282600</td>\n",
       "      <td>-0.518924</td>\n",
       "      <td>-0.428375</td>\n",
       "      <td>-0.829722</td>\n",
       "      <td>0.022140</td>\n",
       "      <td>-0.098485</td>\n",
       "      <td>9.000000</td>\n",
       "    </tr>\n",
       "    <tr>\n",
       "      <th>50%</th>\n",
       "      <td>0.277113</td>\n",
       "      <td>-0.016967</td>\n",
       "      <td>-0.108458</td>\n",
       "      <td>-0.931214</td>\n",
       "      <td>-0.790972</td>\n",
       "      <td>-0.827534</td>\n",
       "      <td>-0.937664</td>\n",
       "      <td>-0.799907</td>\n",
       "      <td>-0.817005</td>\n",
       "      <td>-0.852659</td>\n",
       "      <td>...</td>\n",
       "      <td>-0.311023</td>\n",
       "      <td>-0.683672</td>\n",
       "      <td>0.005188</td>\n",
       "      <td>0.006767</td>\n",
       "      <td>0.047113</td>\n",
       "      <td>-0.026726</td>\n",
       "      <td>-0.729648</td>\n",
       "      <td>0.181563</td>\n",
       "      <td>-0.010671</td>\n",
       "      <td>12.000000</td>\n",
       "    </tr>\n",
       "    <tr>\n",
       "      <th>75%</th>\n",
       "      <td>0.288097</td>\n",
       "      <td>-0.010143</td>\n",
       "      <td>-0.097123</td>\n",
       "      <td>-0.267395</td>\n",
       "      <td>-0.105919</td>\n",
       "      <td>-0.311432</td>\n",
       "      <td>-0.321719</td>\n",
       "      <td>-0.133488</td>\n",
       "      <td>-0.322771</td>\n",
       "      <td>-0.009965</td>\n",
       "      <td>...</td>\n",
       "      <td>-0.083559</td>\n",
       "      <td>-0.458332</td>\n",
       "      <td>0.146200</td>\n",
       "      <td>0.288113</td>\n",
       "      <td>0.622151</td>\n",
       "      <td>0.394387</td>\n",
       "      <td>-0.545939</td>\n",
       "      <td>0.260252</td>\n",
       "      <td>0.092373</td>\n",
       "      <td>18.000000</td>\n",
       "    </tr>\n",
       "    <tr>\n",
       "      <th>max</th>\n",
       "      <td>0.671887</td>\n",
       "      <td>0.246106</td>\n",
       "      <td>0.494114</td>\n",
       "      <td>0.465299</td>\n",
       "      <td>1.000000</td>\n",
       "      <td>0.489703</td>\n",
       "      <td>0.439657</td>\n",
       "      <td>1.000000</td>\n",
       "      <td>0.427958</td>\n",
       "      <td>0.786436</td>\n",
       "      <td>...</td>\n",
       "      <td>1.000000</td>\n",
       "      <td>1.000000</td>\n",
       "      <td>0.998898</td>\n",
       "      <td>0.986347</td>\n",
       "      <td>1.000000</td>\n",
       "      <td>1.000000</td>\n",
       "      <td>0.833180</td>\n",
       "      <td>1.000000</td>\n",
       "      <td>0.973113</td>\n",
       "      <td>24.000000</td>\n",
       "    </tr>\n",
       "  </tbody>\n",
       "</table>\n",
       "<p>8 rows × 562 columns</p>\n",
       "</div>"
      ],
      "text/plain": [
       "       tBodyAcc-mean()-X  tBodyAcc-mean()-Y  tBodyAcc-mean()-Z  \\\n",
       "count        2947.000000        2947.000000        2947.000000   \n",
       "mean            0.273996          -0.017863          -0.108386   \n",
       "std             0.060570           0.025745           0.042747   \n",
       "min            -0.592004          -0.362884          -0.576184   \n",
       "25%             0.262075          -0.024961          -0.121162   \n",
       "50%             0.277113          -0.016967          -0.108458   \n",
       "75%             0.288097          -0.010143          -0.097123   \n",
       "max             0.671887           0.246106           0.494114   \n",
       "\n",
       "       tBodyAcc-std()-X  tBodyAcc-std()-Y  tBodyAcc-std()-Z  tBodyAcc-mad()-X  \\\n",
       "count       2947.000000       2947.000000       2947.000000       2947.000000   \n",
       "mean          -0.613635         -0.508330         -0.633797         -0.641278   \n",
       "std            0.412597          0.494269          0.362699          0.385199   \n",
       "min           -0.999606         -1.000000         -0.998955         -0.999417   \n",
       "25%           -0.990914         -0.973664         -0.976122         -0.992333   \n",
       "50%           -0.931214         -0.790972         -0.827534         -0.937664   \n",
       "75%           -0.267395         -0.105919         -0.311432         -0.321719   \n",
       "max            0.465299          1.000000          0.489703          0.439657   \n",
       "\n",
       "       tBodyAcc-mad()-Y  tBodyAcc-mad()-Z  tBodyAcc-max()-X  ...  \\\n",
       "count       2947.000000       2947.000000       2947.000000  ...   \n",
       "mean          -0.522676         -0.637038         -0.462063  ...   \n",
       "std            0.479899          0.357753          0.523916  ...   \n",
       "min           -0.999914         -0.998899         -0.952357  ...   \n",
       "25%           -0.974131         -0.975352         -0.934447  ...   \n",
       "50%           -0.799907         -0.817005         -0.852659  ...   \n",
       "75%           -0.133488         -0.322771         -0.009965  ...   \n",
       "max            1.000000          0.427958          0.786436  ...   \n",
       "\n",
       "       fBodyBodyGyroJerkMag-skewness()  fBodyBodyGyroJerkMag-kurtosis()  \\\n",
       "count                      2947.000000                      2947.000000   \n",
       "mean                         -0.277593                        -0.598756   \n",
       "std                           0.317245                         0.311042   \n",
       "min                          -1.000000                        -1.000000   \n",
       "25%                          -0.517494                        -0.829593   \n",
       "50%                          -0.311023                        -0.683672   \n",
       "75%                          -0.083559                        -0.458332   \n",
       "max                           1.000000                         1.000000   \n",
       "\n",
       "       angle(tBodyAccMean,gravity)  angle(tBodyAccJerkMean),gravityMean)  \\\n",
       "count                  2947.000000                           2947.000000   \n",
       "mean                      0.005264                              0.003799   \n",
       "std                       0.336147                              0.445077   \n",
       "min                      -1.000000                             -0.993402   \n",
       "25%                      -0.130541                             -0.282600   \n",
       "50%                       0.005188                              0.006767   \n",
       "75%                       0.146200                              0.288113   \n",
       "max                       0.998898                              0.986347   \n",
       "\n",
       "       angle(tBodyGyroMean,gravityMean)  angle(tBodyGyroJerkMean,gravityMean)  \\\n",
       "count                       2947.000000                           2947.000000   \n",
       "mean                           0.040029                             -0.017298   \n",
       "std                            0.634989                              0.501311   \n",
       "min                           -0.998898                             -0.991096   \n",
       "25%                           -0.518924                             -0.428375   \n",
       "50%                            0.047113                             -0.026726   \n",
       "75%                            0.622151                              0.394387   \n",
       "max                            1.000000                              1.000000   \n",
       "\n",
       "       angle(X,gravityMean)  angle(Y,gravityMean)  angle(Z,gravityMean)  \\\n",
       "count           2947.000000           2947.000000           2947.000000   \n",
       "mean              -0.513923              0.074886             -0.048720   \n",
       "std                0.509205              0.324300              0.241467   \n",
       "min               -0.984195             -0.913704             -0.949228   \n",
       "25%               -0.829722              0.022140             -0.098485   \n",
       "50%               -0.729648              0.181563             -0.010671   \n",
       "75%               -0.545939              0.260252              0.092373   \n",
       "max                0.833180              1.000000              0.973113   \n",
       "\n",
       "           subject  \n",
       "count  2947.000000  \n",
       "mean     12.986427  \n",
       "std       6.950984  \n",
       "min       2.000000  \n",
       "25%       9.000000  \n",
       "50%      12.000000  \n",
       "75%      18.000000  \n",
       "max      24.000000  \n",
       "\n",
       "[8 rows x 562 columns]"
      ]
     },
     "execution_count": 9,
     "metadata": {},
     "output_type": "execute_result"
    }
   ],
   "source": [
    "dataset.describe()"
   ]
  },
  {
   "cell_type": "markdown",
   "id": "15bc05b9",
   "metadata": {},
   "source": [
    "#### 3.5 Label Encoding Target Variable "
   ]
  },
  {
   "cell_type": "code",
   "execution_count": 10,
   "id": "df448768",
   "metadata": {},
   "outputs": [
    {
     "data": {
      "text/plain": [
       "array([2, 1, 0, 3, 4, 5])"
      ]
     },
     "execution_count": 10,
     "metadata": {},
     "output_type": "execute_result"
    }
   ],
   "source": [
    "# Import label encoder\n",
    "from sklearn import preprocessing\n",
    "  \n",
    "# label_encoder object knows how to understand word labels.\n",
    "label_encoder = preprocessing.LabelEncoder()\n",
    "  \n",
    "# Encode labels in column 'species'.\n",
    "dataset['Activity_encode']= label_encoder.fit_transform(dataset['Activity'])\n",
    "  \n",
    "dataset['Activity_encode'].unique()"
   ]
  },
  {
   "cell_type": "markdown",
   "id": "f3101332",
   "metadata": {},
   "source": [
    "#### 3.6 Analysing Distribution of Features"
   ]
  },
  {
   "cell_type": "code",
   "execution_count": 11,
   "id": "c75f86ad",
   "metadata": {},
   "outputs": [
    {
     "data": {
      "text/html": [
       "<div>\n",
       "<style scoped>\n",
       "    .dataframe tbody tr th:only-of-type {\n",
       "        vertical-align: middle;\n",
       "    }\n",
       "\n",
       "    .dataframe tbody tr th {\n",
       "        vertical-align: top;\n",
       "    }\n",
       "\n",
       "    .dataframe thead th {\n",
       "        text-align: right;\n",
       "    }\n",
       "</style>\n",
       "<table border=\"1\" class=\"dataframe\">\n",
       "  <thead>\n",
       "    <tr style=\"text-align: right;\">\n",
       "      <th></th>\n",
       "      <th>skewness</th>\n",
       "    </tr>\n",
       "  </thead>\n",
       "  <tbody>\n",
       "    <tr>\n",
       "      <th>tBodyAcc-mean()-X</th>\n",
       "      <td>-3.560410</td>\n",
       "    </tr>\n",
       "    <tr>\n",
       "      <th>tBodyAcc-mean()-Y</th>\n",
       "      <td>-0.515043</td>\n",
       "    </tr>\n",
       "    <tr>\n",
       "      <th>tBodyAcc-mean()-Z</th>\n",
       "      <td>1.420129</td>\n",
       "    </tr>\n",
       "    <tr>\n",
       "      <th>tBodyAcc-std()-X</th>\n",
       "      <td>0.494632</td>\n",
       "    </tr>\n",
       "    <tr>\n",
       "      <th>tBodyAcc-std()-Y</th>\n",
       "      <td>0.512983</td>\n",
       "    </tr>\n",
       "    <tr>\n",
       "      <th>...</th>\n",
       "      <td>...</td>\n",
       "    </tr>\n",
       "    <tr>\n",
       "      <th>angle(X,gravityMean)</th>\n",
       "      <td>1.485150</td>\n",
       "    </tr>\n",
       "    <tr>\n",
       "      <th>angle(Y,gravityMean)</th>\n",
       "      <td>-1.290936</td>\n",
       "    </tr>\n",
       "    <tr>\n",
       "      <th>angle(Z,gravityMean)</th>\n",
       "      <td>-1.004312</td>\n",
       "    </tr>\n",
       "    <tr>\n",
       "      <th>subject</th>\n",
       "      <td>0.020313</td>\n",
       "    </tr>\n",
       "    <tr>\n",
       "      <th>Activity_encode</th>\n",
       "      <td>0.085827</td>\n",
       "    </tr>\n",
       "  </tbody>\n",
       "</table>\n",
       "<p>563 rows × 1 columns</p>\n",
       "</div>"
      ],
      "text/plain": [
       "                      skewness\n",
       "tBodyAcc-mean()-X    -3.560410\n",
       "tBodyAcc-mean()-Y    -0.515043\n",
       "tBodyAcc-mean()-Z     1.420129\n",
       "tBodyAcc-std()-X      0.494632\n",
       "tBodyAcc-std()-Y      0.512983\n",
       "...                        ...\n",
       "angle(X,gravityMean)  1.485150\n",
       "angle(Y,gravityMean) -1.290936\n",
       "angle(Z,gravityMean) -1.004312\n",
       "subject               0.020313\n",
       "Activity_encode       0.085827\n",
       "\n",
       "[563 rows x 1 columns]"
      ]
     },
     "execution_count": 11,
     "metadata": {},
     "output_type": "execute_result"
    }
   ],
   "source": [
    "skewness = pd.DataFrame(dataset.skew(), columns = ['skewness'])\n",
    "skewness"
   ]
  },
  {
   "cell_type": "code",
   "execution_count": 12,
   "id": "d5668034",
   "metadata": {},
   "outputs": [
    {
     "data": {
      "text/html": [
       "<div>\n",
       "<style scoped>\n",
       "    .dataframe tbody tr th:only-of-type {\n",
       "        vertical-align: middle;\n",
       "    }\n",
       "\n",
       "    .dataframe tbody tr th {\n",
       "        vertical-align: top;\n",
       "    }\n",
       "\n",
       "    .dataframe thead th {\n",
       "        text-align: right;\n",
       "    }\n",
       "</style>\n",
       "<table border=\"1\" class=\"dataframe\">\n",
       "  <thead>\n",
       "    <tr style=\"text-align: right;\">\n",
       "      <th></th>\n",
       "      <th>skewness</th>\n",
       "    </tr>\n",
       "  </thead>\n",
       "  <tbody>\n",
       "    <tr>\n",
       "      <th>tBodyAcc-mean()-X</th>\n",
       "      <td>Negatively skewed</td>\n",
       "    </tr>\n",
       "    <tr>\n",
       "      <th>tBodyAcc-mean()-Y</th>\n",
       "      <td>Normal Distribution</td>\n",
       "    </tr>\n",
       "    <tr>\n",
       "      <th>tBodyAcc-mean()-Z</th>\n",
       "      <td>Positively skewed</td>\n",
       "    </tr>\n",
       "    <tr>\n",
       "      <th>tBodyAcc-std()-X</th>\n",
       "      <td>Normal Distribution</td>\n",
       "    </tr>\n",
       "    <tr>\n",
       "      <th>tBodyAcc-std()-Y</th>\n",
       "      <td>Normal Distribution</td>\n",
       "    </tr>\n",
       "    <tr>\n",
       "      <th>...</th>\n",
       "      <td>...</td>\n",
       "    </tr>\n",
       "    <tr>\n",
       "      <th>angle(X,gravityMean)</th>\n",
       "      <td>Positively skewed</td>\n",
       "    </tr>\n",
       "    <tr>\n",
       "      <th>angle(Y,gravityMean)</th>\n",
       "      <td>Negatively skewed</td>\n",
       "    </tr>\n",
       "    <tr>\n",
       "      <th>angle(Z,gravityMean)</th>\n",
       "      <td>Negatively skewed</td>\n",
       "    </tr>\n",
       "    <tr>\n",
       "      <th>subject</th>\n",
       "      <td>Normal Distribution</td>\n",
       "    </tr>\n",
       "    <tr>\n",
       "      <th>Activity_encode</th>\n",
       "      <td>Normal Distribution</td>\n",
       "    </tr>\n",
       "  </tbody>\n",
       "</table>\n",
       "<p>563 rows × 1 columns</p>\n",
       "</div>"
      ],
      "text/plain": [
       "                                 skewness\n",
       "tBodyAcc-mean()-X       Negatively skewed\n",
       "tBodyAcc-mean()-Y     Normal Distribution\n",
       "tBodyAcc-mean()-Z       Positively skewed\n",
       "tBodyAcc-std()-X      Normal Distribution\n",
       "tBodyAcc-std()-Y      Normal Distribution\n",
       "...                                   ...\n",
       "angle(X,gravityMean)    Positively skewed\n",
       "angle(Y,gravityMean)    Negatively skewed\n",
       "angle(Z,gravityMean)    Negatively skewed\n",
       "subject               Normal Distribution\n",
       "Activity_encode       Normal Distribution\n",
       "\n",
       "[563 rows x 1 columns]"
      ]
     },
     "execution_count": 12,
     "metadata": {},
     "output_type": "execute_result"
    }
   ],
   "source": [
    "skewness['skewness'] = [\"Positively skewed\" if i >= 1 else \"Negatively skewed\" if i <= -1 else \"Normal Distribution\" for i in skewness['skewness']]\n",
    "skewness"
   ]
  },
  {
   "cell_type": "markdown",
   "id": "c40827a8",
   "metadata": {},
   "source": [
    "<b>There are many skewed features on data. We must solve this issue too. This will be solved via Standardization in Data Preprocessing</b>"
   ]
  },
  {
   "cell_type": "markdown",
   "id": "93c3ea7d",
   "metadata": {},
   "source": [
    "## 4. Data Preprocessing"
   ]
  },
  {
   "cell_type": "markdown",
   "id": "ab349b60",
   "metadata": {},
   "source": [
    "#### 4.1 Outlier Management"
   ]
  },
  {
   "cell_type": "markdown",
   "id": "1ac1cff1",
   "metadata": {},
   "source": [
    "Local Outlier Factor method will be used to detect outliers and drop them\n",
    "Density based Outlier Detection: Local Outlier Factor (LOF) : Compare local density of one point to local density of its K-NN\n",
    "LOF > 1 ==> outlier / anomaly\n",
    "LOF < 1 ==> inlier"
   ]
  },
  {
   "cell_type": "code",
   "execution_count": 13,
   "id": "4fded10f",
   "metadata": {},
   "outputs": [],
   "source": [
    "y = dataset['Activity_encode']\n",
    "x = dataset.drop(['Activity_encode','Activity','subject'], axis = 1)\n",
    "columns = x.columns.tolist()"
   ]
  },
  {
   "cell_type": "code",
   "execution_count": 14,
   "id": "355a7a3a",
   "metadata": {},
   "outputs": [
    {
     "data": {
      "text/plain": [
       "['tBodyAcc-mean()-X',\n",
       " 'tBodyAcc-mean()-Y',\n",
       " 'tBodyAcc-mean()-Z',\n",
       " 'tBodyAcc-std()-X',\n",
       " 'tBodyAcc-std()-Y',\n",
       " 'tBodyAcc-std()-Z',\n",
       " 'tBodyAcc-mad()-X',\n",
       " 'tBodyAcc-mad()-Y',\n",
       " 'tBodyAcc-mad()-Z',\n",
       " 'tBodyAcc-max()-X',\n",
       " 'tBodyAcc-max()-Y',\n",
       " 'tBodyAcc-max()-Z',\n",
       " 'tBodyAcc-min()-X',\n",
       " 'tBodyAcc-min()-Y',\n",
       " 'tBodyAcc-min()-Z',\n",
       " 'tBodyAcc-sma()',\n",
       " 'tBodyAcc-energy()-X',\n",
       " 'tBodyAcc-energy()-Y',\n",
       " 'tBodyAcc-energy()-Z',\n",
       " 'tBodyAcc-iqr()-X',\n",
       " 'tBodyAcc-iqr()-Y',\n",
       " 'tBodyAcc-iqr()-Z',\n",
       " 'tBodyAcc-entropy()-X',\n",
       " 'tBodyAcc-entropy()-Y',\n",
       " 'tBodyAcc-entropy()-Z',\n",
       " 'tBodyAcc-arCoeff()-X,1',\n",
       " 'tBodyAcc-arCoeff()-X,2',\n",
       " 'tBodyAcc-arCoeff()-X,3',\n",
       " 'tBodyAcc-arCoeff()-X,4',\n",
       " 'tBodyAcc-arCoeff()-Y,1',\n",
       " 'tBodyAcc-arCoeff()-Y,2',\n",
       " 'tBodyAcc-arCoeff()-Y,3',\n",
       " 'tBodyAcc-arCoeff()-Y,4',\n",
       " 'tBodyAcc-arCoeff()-Z,1',\n",
       " 'tBodyAcc-arCoeff()-Z,2',\n",
       " 'tBodyAcc-arCoeff()-Z,3',\n",
       " 'tBodyAcc-arCoeff()-Z,4',\n",
       " 'tBodyAcc-correlation()-X,Y',\n",
       " 'tBodyAcc-correlation()-X,Z',\n",
       " 'tBodyAcc-correlation()-Y,Z',\n",
       " 'tGravityAcc-mean()-X',\n",
       " 'tGravityAcc-mean()-Y',\n",
       " 'tGravityAcc-mean()-Z',\n",
       " 'tGravityAcc-std()-X',\n",
       " 'tGravityAcc-std()-Y',\n",
       " 'tGravityAcc-std()-Z',\n",
       " 'tGravityAcc-mad()-X',\n",
       " 'tGravityAcc-mad()-Y',\n",
       " 'tGravityAcc-mad()-Z',\n",
       " 'tGravityAcc-max()-X',\n",
       " 'tGravityAcc-max()-Y',\n",
       " 'tGravityAcc-max()-Z',\n",
       " 'tGravityAcc-min()-X',\n",
       " 'tGravityAcc-min()-Y',\n",
       " 'tGravityAcc-min()-Z',\n",
       " 'tGravityAcc-sma()',\n",
       " 'tGravityAcc-energy()-X',\n",
       " 'tGravityAcc-energy()-Y',\n",
       " 'tGravityAcc-energy()-Z',\n",
       " 'tGravityAcc-iqr()-X',\n",
       " 'tGravityAcc-iqr()-Y',\n",
       " 'tGravityAcc-iqr()-Z',\n",
       " 'tGravityAcc-entropy()-X',\n",
       " 'tGravityAcc-entropy()-Y',\n",
       " 'tGravityAcc-entropy()-Z',\n",
       " 'tGravityAcc-arCoeff()-X,1',\n",
       " 'tGravityAcc-arCoeff()-X,2',\n",
       " 'tGravityAcc-arCoeff()-X,3',\n",
       " 'tGravityAcc-arCoeff()-X,4',\n",
       " 'tGravityAcc-arCoeff()-Y,1',\n",
       " 'tGravityAcc-arCoeff()-Y,2',\n",
       " 'tGravityAcc-arCoeff()-Y,3',\n",
       " 'tGravityAcc-arCoeff()-Y,4',\n",
       " 'tGravityAcc-arCoeff()-Z,1',\n",
       " 'tGravityAcc-arCoeff()-Z,2',\n",
       " 'tGravityAcc-arCoeff()-Z,3',\n",
       " 'tGravityAcc-arCoeff()-Z,4',\n",
       " 'tGravityAcc-correlation()-X,Y',\n",
       " 'tGravityAcc-correlation()-X,Z',\n",
       " 'tGravityAcc-correlation()-Y,Z',\n",
       " 'tBodyAccJerk-mean()-X',\n",
       " 'tBodyAccJerk-mean()-Y',\n",
       " 'tBodyAccJerk-mean()-Z',\n",
       " 'tBodyAccJerk-std()-X',\n",
       " 'tBodyAccJerk-std()-Y',\n",
       " 'tBodyAccJerk-std()-Z',\n",
       " 'tBodyAccJerk-mad()-X',\n",
       " 'tBodyAccJerk-mad()-Y',\n",
       " 'tBodyAccJerk-mad()-Z',\n",
       " 'tBodyAccJerk-max()-X',\n",
       " 'tBodyAccJerk-max()-Y',\n",
       " 'tBodyAccJerk-max()-Z',\n",
       " 'tBodyAccJerk-min()-X',\n",
       " 'tBodyAccJerk-min()-Y',\n",
       " 'tBodyAccJerk-min()-Z',\n",
       " 'tBodyAccJerk-sma()',\n",
       " 'tBodyAccJerk-energy()-X',\n",
       " 'tBodyAccJerk-energy()-Y',\n",
       " 'tBodyAccJerk-energy()-Z',\n",
       " 'tBodyAccJerk-iqr()-X',\n",
       " 'tBodyAccJerk-iqr()-Y',\n",
       " 'tBodyAccJerk-iqr()-Z',\n",
       " 'tBodyAccJerk-entropy()-X',\n",
       " 'tBodyAccJerk-entropy()-Y',\n",
       " 'tBodyAccJerk-entropy()-Z',\n",
       " 'tBodyAccJerk-arCoeff()-X,1',\n",
       " 'tBodyAccJerk-arCoeff()-X,2',\n",
       " 'tBodyAccJerk-arCoeff()-X,3',\n",
       " 'tBodyAccJerk-arCoeff()-X,4',\n",
       " 'tBodyAccJerk-arCoeff()-Y,1',\n",
       " 'tBodyAccJerk-arCoeff()-Y,2',\n",
       " 'tBodyAccJerk-arCoeff()-Y,3',\n",
       " 'tBodyAccJerk-arCoeff()-Y,4',\n",
       " 'tBodyAccJerk-arCoeff()-Z,1',\n",
       " 'tBodyAccJerk-arCoeff()-Z,2',\n",
       " 'tBodyAccJerk-arCoeff()-Z,3',\n",
       " 'tBodyAccJerk-arCoeff()-Z,4',\n",
       " 'tBodyAccJerk-correlation()-X,Y',\n",
       " 'tBodyAccJerk-correlation()-X,Z',\n",
       " 'tBodyAccJerk-correlation()-Y,Z',\n",
       " 'tBodyGyro-mean()-X',\n",
       " 'tBodyGyro-mean()-Y',\n",
       " 'tBodyGyro-mean()-Z',\n",
       " 'tBodyGyro-std()-X',\n",
       " 'tBodyGyro-std()-Y',\n",
       " 'tBodyGyro-std()-Z',\n",
       " 'tBodyGyro-mad()-X',\n",
       " 'tBodyGyro-mad()-Y',\n",
       " 'tBodyGyro-mad()-Z',\n",
       " 'tBodyGyro-max()-X',\n",
       " 'tBodyGyro-max()-Y',\n",
       " 'tBodyGyro-max()-Z',\n",
       " 'tBodyGyro-min()-X',\n",
       " 'tBodyGyro-min()-Y',\n",
       " 'tBodyGyro-min()-Z',\n",
       " 'tBodyGyro-sma()',\n",
       " 'tBodyGyro-energy()-X',\n",
       " 'tBodyGyro-energy()-Y',\n",
       " 'tBodyGyro-energy()-Z',\n",
       " 'tBodyGyro-iqr()-X',\n",
       " 'tBodyGyro-iqr()-Y',\n",
       " 'tBodyGyro-iqr()-Z',\n",
       " 'tBodyGyro-entropy()-X',\n",
       " 'tBodyGyro-entropy()-Y',\n",
       " 'tBodyGyro-entropy()-Z',\n",
       " 'tBodyGyro-arCoeff()-X,1',\n",
       " 'tBodyGyro-arCoeff()-X,2',\n",
       " 'tBodyGyro-arCoeff()-X,3',\n",
       " 'tBodyGyro-arCoeff()-X,4',\n",
       " 'tBodyGyro-arCoeff()-Y,1',\n",
       " 'tBodyGyro-arCoeff()-Y,2',\n",
       " 'tBodyGyro-arCoeff()-Y,3',\n",
       " 'tBodyGyro-arCoeff()-Y,4',\n",
       " 'tBodyGyro-arCoeff()-Z,1',\n",
       " 'tBodyGyro-arCoeff()-Z,2',\n",
       " 'tBodyGyro-arCoeff()-Z,3',\n",
       " 'tBodyGyro-arCoeff()-Z,4',\n",
       " 'tBodyGyro-correlation()-X,Y',\n",
       " 'tBodyGyro-correlation()-X,Z',\n",
       " 'tBodyGyro-correlation()-Y,Z',\n",
       " 'tBodyGyroJerk-mean()-X',\n",
       " 'tBodyGyroJerk-mean()-Y',\n",
       " 'tBodyGyroJerk-mean()-Z',\n",
       " 'tBodyGyroJerk-std()-X',\n",
       " 'tBodyGyroJerk-std()-Y',\n",
       " 'tBodyGyroJerk-std()-Z',\n",
       " 'tBodyGyroJerk-mad()-X',\n",
       " 'tBodyGyroJerk-mad()-Y',\n",
       " 'tBodyGyroJerk-mad()-Z',\n",
       " 'tBodyGyroJerk-max()-X',\n",
       " 'tBodyGyroJerk-max()-Y',\n",
       " 'tBodyGyroJerk-max()-Z',\n",
       " 'tBodyGyroJerk-min()-X',\n",
       " 'tBodyGyroJerk-min()-Y',\n",
       " 'tBodyGyroJerk-min()-Z',\n",
       " 'tBodyGyroJerk-sma()',\n",
       " 'tBodyGyroJerk-energy()-X',\n",
       " 'tBodyGyroJerk-energy()-Y',\n",
       " 'tBodyGyroJerk-energy()-Z',\n",
       " 'tBodyGyroJerk-iqr()-X',\n",
       " 'tBodyGyroJerk-iqr()-Y',\n",
       " 'tBodyGyroJerk-iqr()-Z',\n",
       " 'tBodyGyroJerk-entropy()-X',\n",
       " 'tBodyGyroJerk-entropy()-Y',\n",
       " 'tBodyGyroJerk-entropy()-Z',\n",
       " 'tBodyGyroJerk-arCoeff()-X,1',\n",
       " 'tBodyGyroJerk-arCoeff()-X,2',\n",
       " 'tBodyGyroJerk-arCoeff()-X,3',\n",
       " 'tBodyGyroJerk-arCoeff()-X,4',\n",
       " 'tBodyGyroJerk-arCoeff()-Y,1',\n",
       " 'tBodyGyroJerk-arCoeff()-Y,2',\n",
       " 'tBodyGyroJerk-arCoeff()-Y,3',\n",
       " 'tBodyGyroJerk-arCoeff()-Y,4',\n",
       " 'tBodyGyroJerk-arCoeff()-Z,1',\n",
       " 'tBodyGyroJerk-arCoeff()-Z,2',\n",
       " 'tBodyGyroJerk-arCoeff()-Z,3',\n",
       " 'tBodyGyroJerk-arCoeff()-Z,4',\n",
       " 'tBodyGyroJerk-correlation()-X,Y',\n",
       " 'tBodyGyroJerk-correlation()-X,Z',\n",
       " 'tBodyGyroJerk-correlation()-Y,Z',\n",
       " 'tBodyAccMag-mean()',\n",
       " 'tBodyAccMag-std()',\n",
       " 'tBodyAccMag-mad()',\n",
       " 'tBodyAccMag-max()',\n",
       " 'tBodyAccMag-min()',\n",
       " 'tBodyAccMag-sma()',\n",
       " 'tBodyAccMag-energy()',\n",
       " 'tBodyAccMag-iqr()',\n",
       " 'tBodyAccMag-entropy()',\n",
       " 'tBodyAccMag-arCoeff()1',\n",
       " 'tBodyAccMag-arCoeff()2',\n",
       " 'tBodyAccMag-arCoeff()3',\n",
       " 'tBodyAccMag-arCoeff()4',\n",
       " 'tGravityAccMag-mean()',\n",
       " 'tGravityAccMag-std()',\n",
       " 'tGravityAccMag-mad()',\n",
       " 'tGravityAccMag-max()',\n",
       " 'tGravityAccMag-min()',\n",
       " 'tGravityAccMag-sma()',\n",
       " 'tGravityAccMag-energy()',\n",
       " 'tGravityAccMag-iqr()',\n",
       " 'tGravityAccMag-entropy()',\n",
       " 'tGravityAccMag-arCoeff()1',\n",
       " 'tGravityAccMag-arCoeff()2',\n",
       " 'tGravityAccMag-arCoeff()3',\n",
       " 'tGravityAccMag-arCoeff()4',\n",
       " 'tBodyAccJerkMag-mean()',\n",
       " 'tBodyAccJerkMag-std()',\n",
       " 'tBodyAccJerkMag-mad()',\n",
       " 'tBodyAccJerkMag-max()',\n",
       " 'tBodyAccJerkMag-min()',\n",
       " 'tBodyAccJerkMag-sma()',\n",
       " 'tBodyAccJerkMag-energy()',\n",
       " 'tBodyAccJerkMag-iqr()',\n",
       " 'tBodyAccJerkMag-entropy()',\n",
       " 'tBodyAccJerkMag-arCoeff()1',\n",
       " 'tBodyAccJerkMag-arCoeff()2',\n",
       " 'tBodyAccJerkMag-arCoeff()3',\n",
       " 'tBodyAccJerkMag-arCoeff()4',\n",
       " 'tBodyGyroMag-mean()',\n",
       " 'tBodyGyroMag-std()',\n",
       " 'tBodyGyroMag-mad()',\n",
       " 'tBodyGyroMag-max()',\n",
       " 'tBodyGyroMag-min()',\n",
       " 'tBodyGyroMag-sma()',\n",
       " 'tBodyGyroMag-energy()',\n",
       " 'tBodyGyroMag-iqr()',\n",
       " 'tBodyGyroMag-entropy()',\n",
       " 'tBodyGyroMag-arCoeff()1',\n",
       " 'tBodyGyroMag-arCoeff()2',\n",
       " 'tBodyGyroMag-arCoeff()3',\n",
       " 'tBodyGyroMag-arCoeff()4',\n",
       " 'tBodyGyroJerkMag-mean()',\n",
       " 'tBodyGyroJerkMag-std()',\n",
       " 'tBodyGyroJerkMag-mad()',\n",
       " 'tBodyGyroJerkMag-max()',\n",
       " 'tBodyGyroJerkMag-min()',\n",
       " 'tBodyGyroJerkMag-sma()',\n",
       " 'tBodyGyroJerkMag-energy()',\n",
       " 'tBodyGyroJerkMag-iqr()',\n",
       " 'tBodyGyroJerkMag-entropy()',\n",
       " 'tBodyGyroJerkMag-arCoeff()1',\n",
       " 'tBodyGyroJerkMag-arCoeff()2',\n",
       " 'tBodyGyroJerkMag-arCoeff()3',\n",
       " 'tBodyGyroJerkMag-arCoeff()4',\n",
       " 'fBodyAcc-mean()-X',\n",
       " 'fBodyAcc-mean()-Y',\n",
       " 'fBodyAcc-mean()-Z',\n",
       " 'fBodyAcc-std()-X',\n",
       " 'fBodyAcc-std()-Y',\n",
       " 'fBodyAcc-std()-Z',\n",
       " 'fBodyAcc-mad()-X',\n",
       " 'fBodyAcc-mad()-Y',\n",
       " 'fBodyAcc-mad()-Z',\n",
       " 'fBodyAcc-max()-X',\n",
       " 'fBodyAcc-max()-Y',\n",
       " 'fBodyAcc-max()-Z',\n",
       " 'fBodyAcc-min()-X',\n",
       " 'fBodyAcc-min()-Y',\n",
       " 'fBodyAcc-min()-Z',\n",
       " 'fBodyAcc-sma()',\n",
       " 'fBodyAcc-energy()-X',\n",
       " 'fBodyAcc-energy()-Y',\n",
       " 'fBodyAcc-energy()-Z',\n",
       " 'fBodyAcc-iqr()-X',\n",
       " 'fBodyAcc-iqr()-Y',\n",
       " 'fBodyAcc-iqr()-Z',\n",
       " 'fBodyAcc-entropy()-X',\n",
       " 'fBodyAcc-entropy()-Y',\n",
       " 'fBodyAcc-entropy()-Z',\n",
       " 'fBodyAcc-maxInds-X',\n",
       " 'fBodyAcc-maxInds-Y',\n",
       " 'fBodyAcc-maxInds-Z',\n",
       " 'fBodyAcc-meanFreq()-X',\n",
       " 'fBodyAcc-meanFreq()-Y',\n",
       " 'fBodyAcc-meanFreq()-Z',\n",
       " 'fBodyAcc-skewness()-X',\n",
       " 'fBodyAcc-kurtosis()-X',\n",
       " 'fBodyAcc-skewness()-Y',\n",
       " 'fBodyAcc-kurtosis()-Y',\n",
       " 'fBodyAcc-skewness()-Z',\n",
       " 'fBodyAcc-kurtosis()-Z',\n",
       " 'fBodyAcc-bandsEnergy()-1,8',\n",
       " 'fBodyAcc-bandsEnergy()-9,16',\n",
       " 'fBodyAcc-bandsEnergy()-17,24',\n",
       " 'fBodyAcc-bandsEnergy()-25,32',\n",
       " 'fBodyAcc-bandsEnergy()-33,40',\n",
       " 'fBodyAcc-bandsEnergy()-41,48',\n",
       " 'fBodyAcc-bandsEnergy()-49,56',\n",
       " 'fBodyAcc-bandsEnergy()-57,64',\n",
       " 'fBodyAcc-bandsEnergy()-1,16',\n",
       " 'fBodyAcc-bandsEnergy()-17,32',\n",
       " 'fBodyAcc-bandsEnergy()-33,48',\n",
       " 'fBodyAcc-bandsEnergy()-49,64',\n",
       " 'fBodyAcc-bandsEnergy()-1,24',\n",
       " 'fBodyAcc-bandsEnergy()-25,48',\n",
       " 'fBodyAcc-bandsEnergy()-1,8.1',\n",
       " 'fBodyAcc-bandsEnergy()-9,16.1',\n",
       " 'fBodyAcc-bandsEnergy()-17,24.1',\n",
       " 'fBodyAcc-bandsEnergy()-25,32.1',\n",
       " 'fBodyAcc-bandsEnergy()-33,40.1',\n",
       " 'fBodyAcc-bandsEnergy()-41,48.1',\n",
       " 'fBodyAcc-bandsEnergy()-49,56.1',\n",
       " 'fBodyAcc-bandsEnergy()-57,64.1',\n",
       " 'fBodyAcc-bandsEnergy()-1,16.1',\n",
       " 'fBodyAcc-bandsEnergy()-17,32.1',\n",
       " 'fBodyAcc-bandsEnergy()-33,48.1',\n",
       " 'fBodyAcc-bandsEnergy()-49,64.1',\n",
       " 'fBodyAcc-bandsEnergy()-1,24.1',\n",
       " 'fBodyAcc-bandsEnergy()-25,48.1',\n",
       " 'fBodyAcc-bandsEnergy()-1,8.2',\n",
       " 'fBodyAcc-bandsEnergy()-9,16.2',\n",
       " 'fBodyAcc-bandsEnergy()-17,24.2',\n",
       " 'fBodyAcc-bandsEnergy()-25,32.2',\n",
       " 'fBodyAcc-bandsEnergy()-33,40.2',\n",
       " 'fBodyAcc-bandsEnergy()-41,48.2',\n",
       " 'fBodyAcc-bandsEnergy()-49,56.2',\n",
       " 'fBodyAcc-bandsEnergy()-57,64.2',\n",
       " 'fBodyAcc-bandsEnergy()-1,16.2',\n",
       " 'fBodyAcc-bandsEnergy()-17,32.2',\n",
       " 'fBodyAcc-bandsEnergy()-33,48.2',\n",
       " 'fBodyAcc-bandsEnergy()-49,64.2',\n",
       " 'fBodyAcc-bandsEnergy()-1,24.2',\n",
       " 'fBodyAcc-bandsEnergy()-25,48.2',\n",
       " 'fBodyAccJerk-mean()-X',\n",
       " 'fBodyAccJerk-mean()-Y',\n",
       " 'fBodyAccJerk-mean()-Z',\n",
       " 'fBodyAccJerk-std()-X',\n",
       " 'fBodyAccJerk-std()-Y',\n",
       " 'fBodyAccJerk-std()-Z',\n",
       " 'fBodyAccJerk-mad()-X',\n",
       " 'fBodyAccJerk-mad()-Y',\n",
       " 'fBodyAccJerk-mad()-Z',\n",
       " 'fBodyAccJerk-max()-X',\n",
       " 'fBodyAccJerk-max()-Y',\n",
       " 'fBodyAccJerk-max()-Z',\n",
       " 'fBodyAccJerk-min()-X',\n",
       " 'fBodyAccJerk-min()-Y',\n",
       " 'fBodyAccJerk-min()-Z',\n",
       " 'fBodyAccJerk-sma()',\n",
       " 'fBodyAccJerk-energy()-X',\n",
       " 'fBodyAccJerk-energy()-Y',\n",
       " 'fBodyAccJerk-energy()-Z',\n",
       " 'fBodyAccJerk-iqr()-X',\n",
       " 'fBodyAccJerk-iqr()-Y',\n",
       " 'fBodyAccJerk-iqr()-Z',\n",
       " 'fBodyAccJerk-entropy()-X',\n",
       " 'fBodyAccJerk-entropy()-Y',\n",
       " 'fBodyAccJerk-entropy()-Z',\n",
       " 'fBodyAccJerk-maxInds-X',\n",
       " 'fBodyAccJerk-maxInds-Y',\n",
       " 'fBodyAccJerk-maxInds-Z',\n",
       " 'fBodyAccJerk-meanFreq()-X',\n",
       " 'fBodyAccJerk-meanFreq()-Y',\n",
       " 'fBodyAccJerk-meanFreq()-Z',\n",
       " 'fBodyAccJerk-skewness()-X',\n",
       " 'fBodyAccJerk-kurtosis()-X',\n",
       " 'fBodyAccJerk-skewness()-Y',\n",
       " 'fBodyAccJerk-kurtosis()-Y',\n",
       " 'fBodyAccJerk-skewness()-Z',\n",
       " 'fBodyAccJerk-kurtosis()-Z',\n",
       " 'fBodyAccJerk-bandsEnergy()-1,8',\n",
       " 'fBodyAccJerk-bandsEnergy()-9,16',\n",
       " 'fBodyAccJerk-bandsEnergy()-17,24',\n",
       " 'fBodyAccJerk-bandsEnergy()-25,32',\n",
       " 'fBodyAccJerk-bandsEnergy()-33,40',\n",
       " 'fBodyAccJerk-bandsEnergy()-41,48',\n",
       " 'fBodyAccJerk-bandsEnergy()-49,56',\n",
       " 'fBodyAccJerk-bandsEnergy()-57,64',\n",
       " 'fBodyAccJerk-bandsEnergy()-1,16',\n",
       " 'fBodyAccJerk-bandsEnergy()-17,32',\n",
       " 'fBodyAccJerk-bandsEnergy()-33,48',\n",
       " 'fBodyAccJerk-bandsEnergy()-49,64',\n",
       " 'fBodyAccJerk-bandsEnergy()-1,24',\n",
       " 'fBodyAccJerk-bandsEnergy()-25,48',\n",
       " 'fBodyAccJerk-bandsEnergy()-1,8.1',\n",
       " 'fBodyAccJerk-bandsEnergy()-9,16.1',\n",
       " 'fBodyAccJerk-bandsEnergy()-17,24.1',\n",
       " 'fBodyAccJerk-bandsEnergy()-25,32.1',\n",
       " 'fBodyAccJerk-bandsEnergy()-33,40.1',\n",
       " 'fBodyAccJerk-bandsEnergy()-41,48.1',\n",
       " 'fBodyAccJerk-bandsEnergy()-49,56.1',\n",
       " 'fBodyAccJerk-bandsEnergy()-57,64.1',\n",
       " 'fBodyAccJerk-bandsEnergy()-1,16.1',\n",
       " 'fBodyAccJerk-bandsEnergy()-17,32.1',\n",
       " 'fBodyAccJerk-bandsEnergy()-33,48.1',\n",
       " 'fBodyAccJerk-bandsEnergy()-49,64.1',\n",
       " 'fBodyAccJerk-bandsEnergy()-1,24.1',\n",
       " 'fBodyAccJerk-bandsEnergy()-25,48.1',\n",
       " 'fBodyAccJerk-bandsEnergy()-1,8.2',\n",
       " 'fBodyAccJerk-bandsEnergy()-9,16.2',\n",
       " 'fBodyAccJerk-bandsEnergy()-17,24.2',\n",
       " 'fBodyAccJerk-bandsEnergy()-25,32.2',\n",
       " 'fBodyAccJerk-bandsEnergy()-33,40.2',\n",
       " 'fBodyAccJerk-bandsEnergy()-41,48.2',\n",
       " 'fBodyAccJerk-bandsEnergy()-49,56.2',\n",
       " 'fBodyAccJerk-bandsEnergy()-57,64.2',\n",
       " 'fBodyAccJerk-bandsEnergy()-1,16.2',\n",
       " 'fBodyAccJerk-bandsEnergy()-17,32.2',\n",
       " 'fBodyAccJerk-bandsEnergy()-33,48.2',\n",
       " 'fBodyAccJerk-bandsEnergy()-49,64.2',\n",
       " 'fBodyAccJerk-bandsEnergy()-1,24.2',\n",
       " 'fBodyAccJerk-bandsEnergy()-25,48.2',\n",
       " 'fBodyGyro-mean()-X',\n",
       " 'fBodyGyro-mean()-Y',\n",
       " 'fBodyGyro-mean()-Z',\n",
       " 'fBodyGyro-std()-X',\n",
       " 'fBodyGyro-std()-Y',\n",
       " 'fBodyGyro-std()-Z',\n",
       " 'fBodyGyro-mad()-X',\n",
       " 'fBodyGyro-mad()-Y',\n",
       " 'fBodyGyro-mad()-Z',\n",
       " 'fBodyGyro-max()-X',\n",
       " 'fBodyGyro-max()-Y',\n",
       " 'fBodyGyro-max()-Z',\n",
       " 'fBodyGyro-min()-X',\n",
       " 'fBodyGyro-min()-Y',\n",
       " 'fBodyGyro-min()-Z',\n",
       " 'fBodyGyro-sma()',\n",
       " 'fBodyGyro-energy()-X',\n",
       " 'fBodyGyro-energy()-Y',\n",
       " 'fBodyGyro-energy()-Z',\n",
       " 'fBodyGyro-iqr()-X',\n",
       " 'fBodyGyro-iqr()-Y',\n",
       " 'fBodyGyro-iqr()-Z',\n",
       " 'fBodyGyro-entropy()-X',\n",
       " 'fBodyGyro-entropy()-Y',\n",
       " 'fBodyGyro-entropy()-Z',\n",
       " 'fBodyGyro-maxInds-X',\n",
       " 'fBodyGyro-maxInds-Y',\n",
       " 'fBodyGyro-maxInds-Z',\n",
       " 'fBodyGyro-meanFreq()-X',\n",
       " 'fBodyGyro-meanFreq()-Y',\n",
       " 'fBodyGyro-meanFreq()-Z',\n",
       " 'fBodyGyro-skewness()-X',\n",
       " 'fBodyGyro-kurtosis()-X',\n",
       " 'fBodyGyro-skewness()-Y',\n",
       " 'fBodyGyro-kurtosis()-Y',\n",
       " 'fBodyGyro-skewness()-Z',\n",
       " 'fBodyGyro-kurtosis()-Z',\n",
       " 'fBodyGyro-bandsEnergy()-1,8',\n",
       " 'fBodyGyro-bandsEnergy()-9,16',\n",
       " 'fBodyGyro-bandsEnergy()-17,24',\n",
       " 'fBodyGyro-bandsEnergy()-25,32',\n",
       " 'fBodyGyro-bandsEnergy()-33,40',\n",
       " 'fBodyGyro-bandsEnergy()-41,48',\n",
       " 'fBodyGyro-bandsEnergy()-49,56',\n",
       " 'fBodyGyro-bandsEnergy()-57,64',\n",
       " 'fBodyGyro-bandsEnergy()-1,16',\n",
       " 'fBodyGyro-bandsEnergy()-17,32',\n",
       " 'fBodyGyro-bandsEnergy()-33,48',\n",
       " 'fBodyGyro-bandsEnergy()-49,64',\n",
       " 'fBodyGyro-bandsEnergy()-1,24',\n",
       " 'fBodyGyro-bandsEnergy()-25,48',\n",
       " 'fBodyGyro-bandsEnergy()-1,8.1',\n",
       " 'fBodyGyro-bandsEnergy()-9,16.1',\n",
       " 'fBodyGyro-bandsEnergy()-17,24.1',\n",
       " 'fBodyGyro-bandsEnergy()-25,32.1',\n",
       " 'fBodyGyro-bandsEnergy()-33,40.1',\n",
       " 'fBodyGyro-bandsEnergy()-41,48.1',\n",
       " 'fBodyGyro-bandsEnergy()-49,56.1',\n",
       " 'fBodyGyro-bandsEnergy()-57,64.1',\n",
       " 'fBodyGyro-bandsEnergy()-1,16.1',\n",
       " 'fBodyGyro-bandsEnergy()-17,32.1',\n",
       " 'fBodyGyro-bandsEnergy()-33,48.1',\n",
       " 'fBodyGyro-bandsEnergy()-49,64.1',\n",
       " 'fBodyGyro-bandsEnergy()-1,24.1',\n",
       " 'fBodyGyro-bandsEnergy()-25,48.1',\n",
       " 'fBodyGyro-bandsEnergy()-1,8.2',\n",
       " 'fBodyGyro-bandsEnergy()-9,16.2',\n",
       " 'fBodyGyro-bandsEnergy()-17,24.2',\n",
       " 'fBodyGyro-bandsEnergy()-25,32.2',\n",
       " 'fBodyGyro-bandsEnergy()-33,40.2',\n",
       " 'fBodyGyro-bandsEnergy()-41,48.2',\n",
       " 'fBodyGyro-bandsEnergy()-49,56.2',\n",
       " 'fBodyGyro-bandsEnergy()-57,64.2',\n",
       " 'fBodyGyro-bandsEnergy()-1,16.2',\n",
       " 'fBodyGyro-bandsEnergy()-17,32.2',\n",
       " 'fBodyGyro-bandsEnergy()-33,48.2',\n",
       " 'fBodyGyro-bandsEnergy()-49,64.2',\n",
       " 'fBodyGyro-bandsEnergy()-1,24.2',\n",
       " 'fBodyGyro-bandsEnergy()-25,48.2',\n",
       " 'fBodyAccMag-mean()',\n",
       " 'fBodyAccMag-std()',\n",
       " 'fBodyAccMag-mad()',\n",
       " 'fBodyAccMag-max()',\n",
       " 'fBodyAccMag-min()',\n",
       " 'fBodyAccMag-sma()',\n",
       " 'fBodyAccMag-energy()',\n",
       " 'fBodyAccMag-iqr()',\n",
       " 'fBodyAccMag-entropy()',\n",
       " 'fBodyAccMag-maxInds',\n",
       " 'fBodyAccMag-meanFreq()',\n",
       " 'fBodyAccMag-skewness()',\n",
       " 'fBodyAccMag-kurtosis()',\n",
       " 'fBodyBodyAccJerkMag-mean()',\n",
       " 'fBodyBodyAccJerkMag-std()',\n",
       " 'fBodyBodyAccJerkMag-mad()',\n",
       " 'fBodyBodyAccJerkMag-max()',\n",
       " 'fBodyBodyAccJerkMag-min()',\n",
       " 'fBodyBodyAccJerkMag-sma()',\n",
       " 'fBodyBodyAccJerkMag-energy()',\n",
       " 'fBodyBodyAccJerkMag-iqr()',\n",
       " 'fBodyBodyAccJerkMag-entropy()',\n",
       " 'fBodyBodyAccJerkMag-maxInds',\n",
       " 'fBodyBodyAccJerkMag-meanFreq()',\n",
       " 'fBodyBodyAccJerkMag-skewness()',\n",
       " 'fBodyBodyAccJerkMag-kurtosis()',\n",
       " 'fBodyBodyGyroMag-mean()',\n",
       " 'fBodyBodyGyroMag-std()',\n",
       " 'fBodyBodyGyroMag-mad()',\n",
       " 'fBodyBodyGyroMag-max()',\n",
       " 'fBodyBodyGyroMag-min()',\n",
       " 'fBodyBodyGyroMag-sma()',\n",
       " 'fBodyBodyGyroMag-energy()',\n",
       " 'fBodyBodyGyroMag-iqr()',\n",
       " 'fBodyBodyGyroMag-entropy()',\n",
       " 'fBodyBodyGyroMag-maxInds',\n",
       " 'fBodyBodyGyroMag-meanFreq()',\n",
       " 'fBodyBodyGyroMag-skewness()',\n",
       " 'fBodyBodyGyroMag-kurtosis()',\n",
       " 'fBodyBodyGyroJerkMag-mean()',\n",
       " 'fBodyBodyGyroJerkMag-std()',\n",
       " 'fBodyBodyGyroJerkMag-mad()',\n",
       " 'fBodyBodyGyroJerkMag-max()',\n",
       " 'fBodyBodyGyroJerkMag-min()',\n",
       " 'fBodyBodyGyroJerkMag-sma()',\n",
       " 'fBodyBodyGyroJerkMag-energy()',\n",
       " 'fBodyBodyGyroJerkMag-iqr()',\n",
       " 'fBodyBodyGyroJerkMag-entropy()',\n",
       " 'fBodyBodyGyroJerkMag-maxInds',\n",
       " 'fBodyBodyGyroJerkMag-meanFreq()',\n",
       " 'fBodyBodyGyroJerkMag-skewness()',\n",
       " 'fBodyBodyGyroJerkMag-kurtosis()',\n",
       " 'angle(tBodyAccMean,gravity)',\n",
       " 'angle(tBodyAccJerkMean),gravityMean)',\n",
       " 'angle(tBodyGyroMean,gravityMean)',\n",
       " 'angle(tBodyGyroJerkMean,gravityMean)',\n",
       " 'angle(X,gravityMean)',\n",
       " 'angle(Y,gravityMean)',\n",
       " 'angle(Z,gravityMean)']"
      ]
     },
     "execution_count": 14,
     "metadata": {},
     "output_type": "execute_result"
    }
   ],
   "source": [
    "# displaying columns\n",
    "columns"
   ]
  },
  {
   "cell_type": "code",
   "execution_count": 15,
   "id": "8fe1ccb1",
   "metadata": {},
   "outputs": [
    {
     "data": {
      "text/plain": [
       "array([-1.13292833, -1.20862368, -1.162143  , ..., -1.02092804,\n",
       "       -1.02045375, -1.01766348])"
      ]
     },
     "execution_count": 15,
     "metadata": {},
     "output_type": "execute_result"
    }
   ],
   "source": [
    "clf = LocalOutlierFactor()\n",
    "y_pred = clf.fit_predict(x) # Returns -1 for anomalies/outliers and +1 for inliers.\n",
    "X_score = clf.negative_outlier_factor_\n",
    "X_score"
   ]
  },
  {
   "cell_type": "code",
   "execution_count": 16,
   "id": "61d66058",
   "metadata": {},
   "outputs": [
    {
     "data": {
      "image/png": "[encoded data removed]",
      "text/plain": [
       "<Figure size 432x288 with 1 Axes>"
      ]
     },
     "metadata": {
      "needs_background": "light"
     },
     "output_type": "display_data"
    }
   ],
   "source": [
    "# Plotting points for Apps and Accept as example plots\n",
    "plt.figure()\n",
    "# radius_mean and texture_mean as an example plot\n",
    "plt.scatter(x.iloc[:,0], x.iloc[:,1], color = 'k', s = 3, label = 'Data Point')\n",
    "plt.show()"
   ]
  },
  {
   "cell_type": "code",
   "execution_count": 17,
   "id": "d232a3b7",
   "metadata": {},
   "outputs": [
    {
     "data": {
      "image/png": "[encoded data removed]",
      "text/plain": [
       "<Figure size 1152x648 with 1 Axes>"
      ]
     },
     "metadata": {
      "needs_background": "light"
     },
     "output_type": "display_data"
    }
   ],
   "source": [
    "# plotting outliers based on threshold\n",
    "outlier_score = pd.DataFrame()\n",
    "outlier_score[\"score\"] = X_score\n",
    "\n",
    "# threshold for negative lof values\n",
    "threshold = -2\n",
    "filter_ = outlier_score[\"score\"] < threshold\n",
    "outlier_index = outlier_score[filter_].index.tolist()\n",
    "\n",
    "# Let's plot the outliers based on threshold we set\n",
    "plt.figure(figsize = (16, 9))\n",
    "plt.scatter(x.iloc[outlier_index,0], x.iloc[outlier_index,1], color = 'blue', s = 40, label = 'Outliers')\n",
    "plt.scatter(x.iloc[:,0], x.iloc[:,1], color = 'k', s = 3, label = 'Data Points')\n",
    "# Normalization\n",
    "radius = (X_score.max() - X_score) / (X_score.max() - X_score.min())  \n",
    "plt.scatter(x.iloc[:,0], x.iloc[:,1], s=1000*radius, edgecolors = \"r\", facecolors = \"none\", label = \"Outlier Scores\")\n",
    "plt.legend()\n",
    "plt.show()"
   ]
  },
  {
   "cell_type": "code",
   "execution_count": 18,
   "id": "4b631621",
   "metadata": {},
   "outputs": [],
   "source": [
    "# Dropping records pertaining to outliers\n",
    "x = x.drop(outlier_index)\n",
    "y = y.drop(outlier_index)"
   ]
  },
  {
   "cell_type": "code",
   "execution_count": 19,
   "id": "65a4125d",
   "metadata": {},
   "outputs": [
    {
     "data": {
      "text/plain": [
       "(2947, 561)"
      ]
     },
     "execution_count": 19,
     "metadata": {},
     "output_type": "execute_result"
    }
   ],
   "source": [
    "x.shape"
   ]
  },
  {
   "cell_type": "markdown",
   "id": "bef9164b",
   "metadata": {},
   "source": [
    "<b> Conclusion: </b> No records were dropped and therefore no outliers were identified."
   ]
  },
  {
   "cell_type": "markdown",
   "id": "e5500217",
   "metadata": {},
   "source": [
    "#### 4.2 Feature Engineering and Selection"
   ]
  },
  {
   "cell_type": "markdown",
   "id": "60652ddc",
   "metadata": {},
   "source": [
    "From the correlation matrix we saw earlier, it was clear that there are quite a few features with very high correlations. So I dropped one of the features, from each of the feature pairs which had a correlation greater than 0.95. "
   ]
  },
  {
   "cell_type": "code",
   "execution_count": 20,
   "id": "f7b196e0",
   "metadata": {},
   "outputs": [
    {
     "data": {
      "text/plain": [
       "Index(['tBodyAcc-mean()-X', 'tBodyAcc-mean()-Y', 'tBodyAcc-mean()-Z',\n",
       "       'tBodyAcc-std()-X', 'tBodyAcc-std()-Y', 'tBodyAcc-std()-Z',\n",
       "       'tBodyAcc-max()-Y', 'tBodyAcc-max()-Z', 'tBodyAcc-min()-Z',\n",
       "       'tBodyAcc-energy()-Y',\n",
       "       ...\n",
       "       'fBodyBodyGyroMag-meanFreq()', 'fBodyBodyGyroMag-skewness()',\n",
       "       'fBodyBodyGyroJerkMag-min()', 'fBodyBodyGyroJerkMag-maxInds',\n",
       "       'fBodyBodyGyroJerkMag-meanFreq()', 'fBodyBodyGyroJerkMag-skewness()',\n",
       "       'angle(tBodyAccMean,gravity)', 'angle(tBodyAccJerkMean),gravityMean)',\n",
       "       'angle(tBodyGyroMean,gravityMean)',\n",
       "       'angle(tBodyGyroJerkMean,gravityMean)'],\n",
       "      dtype='object', length=252)"
      ]
     },
     "execution_count": 20,
     "metadata": {},
     "output_type": "execute_result"
    }
   ],
   "source": [
    "# Create correlation matrix\n",
    "corr_matrix = x.corr().abs()\n",
    "# Select upper triangle of correlation matrix\n",
    "upper = corr_matrix.where(np.triu(np.ones(corr_matrix.shape), k=1).astype(np.bool))\n",
    "# Find index of feature columns with correlation greater than 0.95\n",
    "to_drop = [column for column in upper.columns if any(upper[column] > 0.95)]\n",
    "# Drop features \n",
    "x = x.drop(x[to_drop], axis=1)\n",
    "# Displaying remaining features\n",
    "x.columns"
   ]
  },
  {
   "cell_type": "code",
   "execution_count": 21,
   "id": "94817801",
   "metadata": {},
   "outputs": [
    {
     "data": {
      "text/plain": [
       "(2947, 252)"
      ]
     },
     "execution_count": 21,
     "metadata": {},
     "output_type": "execute_result"
    }
   ],
   "source": [
    "x.shape"
   ]
  },
  {
   "cell_type": "markdown",
   "id": "574baf45",
   "metadata": {},
   "source": [
    "##### Out of 561 features only 252 features are selected for feature Engineering"
   ]
  },
  {
   "cell_type": "markdown",
   "id": "cca37f65",
   "metadata": {},
   "source": [
    "## 5. Model Preparation"
   ]
  },
  {
   "cell_type": "markdown",
   "id": "2f629de2",
   "metadata": {},
   "source": [
    "#### 5.1 Splitting the dataset into Train and Test Sets"
   ]
  },
  {
   "cell_type": "code",
   "execution_count": 22,
   "id": "802fe65f",
   "metadata": {},
   "outputs": [],
   "source": [
    "# Train-test split\n",
    "x_train, x_test, y_train, y_test = train_test_split(x, y, test_size = 0.3, random_state = 42)"
   ]
  },
  {
   "cell_type": "markdown",
   "id": "fead3c68",
   "metadata": {},
   "source": [
    "#### 5.2 Feature Scaling\n",
    "sklearn’s Robust Scaler was used to scale the features of the dataset. The centering and scaling statistics of this scaler are based on percentiles and are therefore not influenced by a few number of very large marginal outliers."
   ]
  },
  {
   "cell_type": "code",
   "execution_count": 23,
   "id": "0173a8ba",
   "metadata": {},
   "outputs": [],
   "source": [
    "from sklearn.preprocessing import RobustScaler\n",
    "sc = RobustScaler()\n",
    "x_train = sc.fit_transform(x_train)\n",
    "x_test = sc.transform(x_test)"
   ]
  },
  {
   "cell_type": "markdown",
   "id": "733e360e",
   "metadata": {},
   "source": [
    "## 6. Machine Learning Models"
   ]
  },
  {
   "cell_type": "markdown",
   "id": "3b29c1b4",
   "metadata": {},
   "source": [
    "### 6.1 Support Vector Machine Model"
   ]
  },
  {
   "cell_type": "markdown",
   "id": "7e722593",
   "metadata": {},
   "source": [
    "#### 6.1.1 Building Model"
   ]
  },
  {
   "cell_type": "code",
   "execution_count": 24,
   "id": "ef2b5c97",
   "metadata": {},
   "outputs": [
    {
     "data": {
      "text/plain": [
       "SVC()"
      ]
     },
     "execution_count": 24,
     "metadata": {},
     "output_type": "execute_result"
    }
   ],
   "source": [
    "# Building SVM Model\n",
    "# Importing libraries\n",
    "from sklearn.svm import SVC\n",
    "svm_r = SVC(kernel='rbf')\n",
    "svm_r.fit(x_train, y_train)"
   ]
  },
  {
   "cell_type": "markdown",
   "id": "71694ec4",
   "metadata": {},
   "source": [
    "#### 6.1.2 Assessing the model"
   ]
  },
  {
   "cell_type": "code",
   "execution_count": 25,
   "id": "40705c3e",
   "metadata": {},
   "outputs": [
    {
     "name": "stdout",
     "output_type": "stream",
     "text": [
      "Accuracy of the SVM model is : 0.9389830508474576\n"
     ]
    }
   ],
   "source": [
    "#Predict the response for test dataset\n",
    "y_pred_lt = svm_r.predict(x_test)\n",
    "#Import scikit-learn metrics module for accuracy calculation\n",
    "from sklearn import metrics\n",
    "# Model Accuracy, how often is the classifier correct?\n",
    "print(\"Accuracy of the SVM model is :\",metrics.accuracy_score(y_test, y_pred_lt))"
   ]
  },
  {
   "cell_type": "markdown",
   "id": "d9106c83",
   "metadata": {},
   "source": [
    "## 7. Randomized Grid Search Cross Validation"
   ]
  },
  {
   "cell_type": "markdown",
   "id": "a3910954",
   "metadata": {},
   "source": [
    "One of the most popular approaches to tune Machine Learning hyperparameters is called RandomizedSearchCV() in scikit-learn. Let’s dissect what this means.\n",
    "\n",
    "In Randomised Grid Search Cross-Validation we start by creating a grid of hyperparameters we want to optimise with values that we want to try out for those hyperparameters."
   ]
  },
  {
   "cell_type": "markdown",
   "id": "f8d282e4",
   "metadata": {},
   "source": [
    "#### 7.1 Building Model"
   ]
  },
  {
   "cell_type": "code",
   "execution_count": 26,
   "id": "bca73943",
   "metadata": {},
   "outputs": [],
   "source": [
    "#Libraries to Build Ensemble Model : Random Forest Classifier \n",
    "# Create the parameter grid based on the results of random search \n",
    "params_grid = [{'kernel': ['rbf'], 'gamma': [1e-3, 1e-4],\n",
    "                     'C': [1, 10, 100, 1000]},\n",
    "                    {'kernel': ['linear'], 'C': [1, 10, 100, 1000]}]"
   ]
  },
  {
   "cell_type": "code",
   "execution_count": 27,
   "id": "7795a35f",
   "metadata": {},
   "outputs": [
    {
     "data": {
      "text/plain": [
       "GridSearchCV(cv=5, estimator=SVC(),\n",
       "             param_grid=[{'C': [1, 10, 100, 1000], 'gamma': [0.001, 0.0001],\n",
       "                          'kernel': ['rbf']},\n",
       "                         {'C': [1, 10, 100, 1000], 'kernel': ['linear']}])"
      ]
     },
     "execution_count": 27,
     "metadata": {},
     "output_type": "execute_result"
    }
   ],
   "source": [
    "# Performing CV to tune parameters for best SVM fit \n",
    "svm_model = GridSearchCV(SVC(), params_grid, cv=5)\n",
    "svm_model.fit(x_train, y_train)"
   ]
  },
  {
   "cell_type": "markdown",
   "id": "c7d6ba07",
   "metadata": {},
   "source": [
    "#### 7.2 Assessing the Model"
   ]
  },
  {
   "cell_type": "code",
   "execution_count": 28,
   "id": "454ee22b",
   "metadata": {},
   "outputs": [
    {
     "name": "stdout",
     "output_type": "stream",
     "text": [
      "Best score for training data: 0.9665354145607561 \n",
      "\n",
      "Best C: 1000 \n",
      "\n",
      "Best Kernel: rbf \n",
      "\n",
      "Best Gamma: 0.0001 \n",
      "\n"
     ]
    }
   ],
   "source": [
    "# View the accuracy score\n",
    "print('Best score for training data:', svm_model.best_score_,\"\\n\") \n",
    "\n",
    "# View the best parameters for the model found using grid search\n",
    "print('Best C:',svm_model.best_estimator_.C,\"\\n\") \n",
    "print('Best Kernel:',svm_model.best_estimator_.kernel,\"\\n\")\n",
    "print('Best Gamma:',svm_model.best_estimator_.gamma,\"\\n\")\n",
    "\n",
    "final_model = svm_model.best_estimator_\n",
    "Y_pred = final_model.predict(x_test)\n"
   ]
  },
  {
   "cell_type": "markdown",
   "id": "e65bacc5",
   "metadata": {},
   "source": [
    "## 8. Cross Validation using K - Stratification"
   ]
  },
  {
   "cell_type": "markdown",
   "id": "d739b1eb",
   "metadata": {},
   "source": [
    "Cross-validation (CV) is a technique used to assess a machine learning model and test its performance (or accuracy). It involves reserving a specific sample of a dataset on which the model isn't trained. Later on, the model is tested on this sample to evaluate it. In K-fold Cross-Validation (CV) we still start off by separating a test/hold-out set from the remaining data in the data set to use for the final evaluation of our models. The data that is remaining, i.e. everything apart from the test set, is split into K number of folds (subsets). The Cross-Validation then iterates through the folds and at each iteration uses one of the K folds as the validation set while using all remaining folds as the training set. This process is repeated until every fold has been used as a validation set."
   ]
  },
  {
   "cell_type": "code",
   "execution_count": 29,
   "id": "b89a838d",
   "metadata": {},
   "outputs": [],
   "source": [
    "# Train/Test split \n",
    "# The dataset was stratified in order to preserve the proportion of target as in the original dataset, \n",
    "# in the train and test datasets as well.\n",
    "X_train_cross, X_test_cross, y_train_cross, y_test_cross = train_test_split(x, y, stratify = y, random_state=0)"
   ]
  },
  {
   "cell_type": "code",
   "execution_count": 30,
   "id": "2e008d4a",
   "metadata": {},
   "outputs": [
    {
     "name": "stdout",
     "output_type": "stream",
     "text": [
      "0.9674355495251018\n"
     ]
    }
   ],
   "source": [
    "# Displaying scores of models\n",
    "svm_model2 = SVC(kernel='rbf')\n",
    "svm_model2.fit(X_train_cross, y_train_cross)\n",
    "y_pred_cross = svm_model2.predict(X_test_cross)\n",
    "accuracy_score(y_test_cross, y_pred_cross)\n",
    "\n",
    "print(accuracy_score(y_test_cross, y_pred_cross))"
   ]
  },
  {
   "cell_type": "code",
   "execution_count": 31,
   "id": "0a2b585e",
   "metadata": {},
   "outputs": [
    {
     "name": "stdout",
     "output_type": "stream",
     "text": [
      "0.9711622276029056\n"
     ]
    }
   ],
   "source": [
    "# Dividing data into ten blocks, for 10-fold cross-validation.\n",
    "strat_k_fold = StratifiedKFold(n_splits=10, random_state=10, shuffle=True)\n",
    "score = cross_val_score(svm_model2, x, y, cv=strat_k_fold, scoring='accuracy').mean()\n",
    "print(score)"
   ]
  },
  {
   "cell_type": "markdown",
   "id": "86c049f2",
   "metadata": {},
   "source": [
    "##### The accuracy score of model after applying Cross Validation is 0.971"
   ]
  },
  {
   "cell_type": "markdown",
   "id": "2b638fd1",
   "metadata": {},
   "source": [
    "## 9. Summary :Comparison of SVM Models"
   ]
  },
  {
   "cell_type": "markdown",
   "id": "3ceed9db",
   "metadata": {},
   "source": [
    "Let's compare the performances of all variations of SVM Model"
   ]
  },
  {
   "cell_type": "code",
   "execution_count": 32,
   "id": "6c020010",
   "metadata": {
    "scrolled": true
   },
   "outputs": [
    {
     "data": {
      "text/html": [
       "<div>\n",
       "<style scoped>\n",
       "    .dataframe tbody tr th:only-of-type {\n",
       "        vertical-align: middle;\n",
       "    }\n",
       "\n",
       "    .dataframe tbody tr th {\n",
       "        vertical-align: top;\n",
       "    }\n",
       "\n",
       "    .dataframe thead th {\n",
       "        text-align: right;\n",
       "    }\n",
       "</style>\n",
       "<table border=\"1\" class=\"dataframe\">\n",
       "  <thead>\n",
       "    <tr style=\"text-align: right;\">\n",
       "      <th></th>\n",
       "      <th>NAME OF MODEL</th>\n",
       "      <th>ACCURACY SCORE</th>\n",
       "    </tr>\n",
       "  </thead>\n",
       "  <tbody>\n",
       "    <tr>\n",
       "      <th>0</th>\n",
       "      <td>SVM Model</td>\n",
       "      <td>0.938983</td>\n",
       "    </tr>\n",
       "    <tr>\n",
       "      <th>1</th>\n",
       "      <td>SVM Model Randomized Grid Search Cross Validation</td>\n",
       "      <td>0.966535</td>\n",
       "    </tr>\n",
       "    <tr>\n",
       "      <th>2</th>\n",
       "      <td>SVM Model Cross Validation using K - Stratific...</td>\n",
       "      <td>0.971162</td>\n",
       "    </tr>\n",
       "  </tbody>\n",
       "</table>\n",
       "</div>"
      ],
      "text/plain": [
       "                                       NAME OF MODEL  ACCURACY SCORE \n",
       "0                                          SVM Model         0.938983\n",
       "1  SVM Model Randomized Grid Search Cross Validation         0.966535\n",
       "2  SVM Model Cross Validation using K - Stratific...         0.971162"
      ]
     },
     "execution_count": 32,
     "metadata": {},
     "output_type": "execute_result"
    }
   ],
   "source": [
    "prediction_columns = [\"NAME OF MODEL\", \"ACCURACY SCORE\", \"BEST ACCURACY (AFTER HYPER-PARAMETER TUNING)\"]\n",
    "df_pred = {\"NAME OF MODEL\" : [\"SVM Model\", \"SVM Model Randomized Grid Search Cross Validation\",\"SVM Model Cross Validation using K - Stratification\"],\n",
    "           \"ACCURACY SCORE \" : [metrics.accuracy_score(y_test, y_pred_lt),svm_model.best_score_ ,score], \n",
    "           }\n",
    "df_predictions = pd.DataFrame (df_pred)\n",
    "df_predictions"
   ]
  },
  {
   "cell_type": "markdown",
   "id": "fc7db259",
   "metadata": {},
   "source": [
    "#### All the variations of SVM model have slight differences. Therefore, SVM model is good approach to forecast activity based on the given dataset. SVM Model Cross Validation using K Stratification is the best among three with 0.971 accuracy score"
   ]
  },
  {
   "cell_type": "markdown",
   "id": "f504066e",
   "metadata": {},
   "source": [
    "## 10. Conclusion:\n",
    "Support Vector Machine (SVM) is the best approach to forecast activity based on the given dataset as a snapshot of sensor data, often from one or a few sensors."
   ]
  },
  {
   "cell_type": "code",
   "execution_count": null,
   "id": "c2fd861a",
   "metadata": {},
   "outputs": [],
   "source": []
  }
 ],
 "metadata": {
  "kernelspec": {
   "display_name": "Python 3 (ipykernel)",
   "language": "python",
   "name": "python3"
  },
  "language_info": {
   "codemirror_mode": {
    "name": "ipython",
    "version": 3
   },
   "file_extension": ".py",
   "mimetype": "text/x-python",
   "name": "python",
   "nbconvert_exporter": "python",
   "pygments_lexer": "ipython3",
   "version": "3.9.12"
  }
 },
 "nbformat": 4,
 "nbformat_minor": 5
}
