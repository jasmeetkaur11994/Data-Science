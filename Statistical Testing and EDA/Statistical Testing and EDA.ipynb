{
 "cells": [
  {
   "cell_type": "markdown",
   "id": "bc56b739",
   "metadata": {},
   "source": [
    "## LAB 1\n",
    "#### BY: Jasmeet Kaur\n"
   ]
  },
  {
   "cell_type": "markdown",
   "id": "b0218b74",
   "metadata": {},
   "source": [
    "### Problem Statement\n",
    "A data science team is working on an important project related to airports and optimization. You are a new team member and was hired as junior data scientist. Each team member has received a task and your task is to check if you can say that Delta Airlines (DL) flights are delayed more than United Airlines (UA) flights ? The file (data source) is already available to start your analysis. To solve this problem you will need to use statistical concepts and python programming language that are the foundation of modern machine learning development."
   ]
  },
  {
   "cell_type": "markdown",
   "id": "233528c6",
   "metadata": {},
   "source": [
    "#### Installing and Importing required Libraries "
   ]
  },
  {
   "cell_type": "code",
   "execution_count": 1,
   "id": "0fd27b67",
   "metadata": {},
   "outputs": [
    {
     "name": "stdout",
     "output_type": "stream",
     "text": [
      "Requirement already satisfied: researchpy in d:\\anaconda\\lib\\site-packages (0.3.5)\n",
      "Requirement already satisfied: statsmodels in d:\\anaconda\\lib\\site-packages (from researchpy) (0.12.2)\n",
      "Requirement already satisfied: scipy in d:\\anaconda\\lib\\site-packages (from researchpy) (1.7.1)\n",
      "Requirement already satisfied: pandas in d:\\anaconda\\lib\\site-packages (from researchpy) (1.3.4)\n",
      "Requirement already satisfied: patsy in d:\\anaconda\\lib\\site-packages (from researchpy) (0.5.2)\n",
      "Requirement already satisfied: numpy in d:\\anaconda\\lib\\site-packages (from researchpy) (1.20.3)\n",
      "Requirement already satisfied: python-dateutil>=2.7.3 in d:\\anaconda\\lib\\site-packages (from pandas->researchpy) (2.8.2)\n",
      "Requirement already satisfied: pytz>=2017.3 in d:\\anaconda\\lib\\site-packages (from pandas->researchpy) (2021.3)\n",
      "Requirement already satisfied: six>=1.5 in d:\\anaconda\\lib\\site-packages (from python-dateutil>=2.7.3->pandas->researchpy) (1.16.0)\n",
      "Requirement already satisfied: sweetviz in d:\\anaconda\\lib\\site-packages (2.1.4)\n",
      "Requirement already satisfied: numpy>=1.16.0 in d:\\anaconda\\lib\\site-packages (from sweetviz) (1.20.3)\n",
      "Requirement already satisfied: tqdm>=4.43.0 in d:\\anaconda\\lib\\site-packages (from sweetviz) (4.62.3)\n",
      "Requirement already satisfied: pandas!=1.0.0,!=1.0.1,!=1.0.2,>=0.25.3 in d:\\anaconda\\lib\\site-packages (from sweetviz) (1.3.4)\n",
      "Requirement already satisfied: jinja2>=2.11.1 in d:\\anaconda\\lib\\site-packages (from sweetviz) (2.11.3)\n",
      "Requirement already satisfied: importlib-resources>=1.2.0 in d:\\anaconda\\lib\\site-packages (from sweetviz) (5.9.0)\n",
      "Requirement already satisfied: matplotlib>=3.1.3 in d:\\anaconda\\lib\\site-packages (from sweetviz) (3.4.3)\n",
      "Requirement already satisfied: scipy>=1.3.2 in d:\\anaconda\\lib\\site-packages (from sweetviz) (1.7.1)\n",
      "Requirement already satisfied: zipp>=3.1.0 in d:\\anaconda\\lib\\site-packages (from importlib-resources>=1.2.0->sweetviz) (3.6.0)\n",
      "Requirement already satisfied: MarkupSafe>=0.23 in d:\\anaconda\\lib\\site-packages (from jinja2>=2.11.1->sweetviz) (1.1.1)\n",
      "Requirement already satisfied: pillow>=6.2.0 in d:\\anaconda\\lib\\site-packages (from matplotlib>=3.1.3->sweetviz) (8.4.0)\n",
      "Requirement already satisfied: pyparsing>=2.2.1 in d:\\anaconda\\lib\\site-packages (from matplotlib>=3.1.3->sweetviz) (3.0.4)\n",
      "Requirement already satisfied: cycler>=0.10 in d:\\anaconda\\lib\\site-packages (from matplotlib>=3.1.3->sweetviz) (0.10.0)\n",
      "Requirement already satisfied: python-dateutil>=2.7 in d:\\anaconda\\lib\\site-packages (from matplotlib>=3.1.3->sweetviz) (2.8.2)\n",
      "Requirement already satisfied: kiwisolver>=1.0.1 in d:\\anaconda\\lib\\site-packages (from matplotlib>=3.1.3->sweetviz) (1.3.1)\n",
      "Requirement already satisfied: six in d:\\anaconda\\lib\\site-packages (from cycler>=0.10->matplotlib>=3.1.3->sweetviz) (1.16.0)\n",
      "Requirement already satisfied: pytz>=2017.3 in d:\\anaconda\\lib\\site-packages (from pandas!=1.0.0,!=1.0.1,!=1.0.2,>=0.25.3->sweetviz) (2021.3)\n",
      "Requirement already satisfied: colorama in d:\\anaconda\\lib\\site-packages (from tqdm>=4.43.0->sweetviz) (0.4.4)\n"
     ]
    }
   ],
   "source": [
    "#installing researchpy for t test and sweetviz for EDA\n",
    "!pip install researchpy\n",
    "!pip install sweetviz\n",
    "import sweetviz as sv\n",
    "import numpy as np\n",
    "import pandas as pd\n",
    "import statistics\n",
    "import scipy.stats as sp\n",
    "from scipy.stats import sem\n",
    "import seaborn as sns\n",
    "import matplotlib.pyplot as plt\n",
    "import researchpy as rp\n",
    "import scipy.stats as stats\n",
    "from matplotlib.lines import Line2D\n",
    "%matplotlib inline\n",
    "\n"
   ]
  },
  {
   "cell_type": "code",
   "execution_count": 2,
   "id": "be98e14b",
   "metadata": {},
   "outputs": [
    {
     "data": {
      "text/html": [
       "<div>\n",
       "<style scoped>\n",
       "    .dataframe tbody tr th:only-of-type {\n",
       "        vertical-align: middle;\n",
       "    }\n",
       "\n",
       "    .dataframe tbody tr th {\n",
       "        vertical-align: top;\n",
       "    }\n",
       "\n",
       "    .dataframe thead th {\n",
       "        text-align: right;\n",
       "    }\n",
       "</style>\n",
       "<table border=\"1\" class=\"dataframe\">\n",
       "  <thead>\n",
       "    <tr style=\"text-align: right;\">\n",
       "      <th></th>\n",
       "      <th>year</th>\n",
       "      <th>month</th>\n",
       "      <th>day</th>\n",
       "      <th>dep_time</th>\n",
       "      <th>sched_dep_time</th>\n",
       "      <th>dep_delay</th>\n",
       "      <th>arr_time</th>\n",
       "      <th>sched_arr_time</th>\n",
       "      <th>arr_delay</th>\n",
       "      <th>carrier</th>\n",
       "      <th>flight</th>\n",
       "      <th>tailnum</th>\n",
       "      <th>origin</th>\n",
       "      <th>dest</th>\n",
       "      <th>air_time</th>\n",
       "      <th>distance</th>\n",
       "      <th>hour</th>\n",
       "      <th>minute</th>\n",
       "      <th>time_hour</th>\n",
       "    </tr>\n",
       "  </thead>\n",
       "  <tbody>\n",
       "    <tr>\n",
       "      <th>0</th>\n",
       "      <td>2013</td>\n",
       "      <td>1</td>\n",
       "      <td>1</td>\n",
       "      <td>517.0</td>\n",
       "      <td>515</td>\n",
       "      <td>2.0</td>\n",
       "      <td>830.0</td>\n",
       "      <td>819</td>\n",
       "      <td>11.0</td>\n",
       "      <td>UA</td>\n",
       "      <td>1545</td>\n",
       "      <td>N14228</td>\n",
       "      <td>EWR</td>\n",
       "      <td>IAH</td>\n",
       "      <td>227.0</td>\n",
       "      <td>1400</td>\n",
       "      <td>5</td>\n",
       "      <td>15</td>\n",
       "      <td>2013-01-01T05:00:00Z</td>\n",
       "    </tr>\n",
       "    <tr>\n",
       "      <th>1</th>\n",
       "      <td>2013</td>\n",
       "      <td>1</td>\n",
       "      <td>1</td>\n",
       "      <td>533.0</td>\n",
       "      <td>529</td>\n",
       "      <td>4.0</td>\n",
       "      <td>850.0</td>\n",
       "      <td>830</td>\n",
       "      <td>20.0</td>\n",
       "      <td>UA</td>\n",
       "      <td>1714</td>\n",
       "      <td>N24211</td>\n",
       "      <td>LGA</td>\n",
       "      <td>IAH</td>\n",
       "      <td>227.0</td>\n",
       "      <td>1416</td>\n",
       "      <td>5</td>\n",
       "      <td>29</td>\n",
       "      <td>2013-01-01T05:00:00Z</td>\n",
       "    </tr>\n",
       "    <tr>\n",
       "      <th>2</th>\n",
       "      <td>2013</td>\n",
       "      <td>1</td>\n",
       "      <td>1</td>\n",
       "      <td>542.0</td>\n",
       "      <td>540</td>\n",
       "      <td>2.0</td>\n",
       "      <td>923.0</td>\n",
       "      <td>850</td>\n",
       "      <td>33.0</td>\n",
       "      <td>AA</td>\n",
       "      <td>1141</td>\n",
       "      <td>N619AA</td>\n",
       "      <td>JFK</td>\n",
       "      <td>MIA</td>\n",
       "      <td>160.0</td>\n",
       "      <td>1089</td>\n",
       "      <td>5</td>\n",
       "      <td>40</td>\n",
       "      <td>2013-01-01T05:00:00Z</td>\n",
       "    </tr>\n",
       "    <tr>\n",
       "      <th>3</th>\n",
       "      <td>2013</td>\n",
       "      <td>1</td>\n",
       "      <td>1</td>\n",
       "      <td>544.0</td>\n",
       "      <td>545</td>\n",
       "      <td>-1.0</td>\n",
       "      <td>1004.0</td>\n",
       "      <td>1022</td>\n",
       "      <td>-18.0</td>\n",
       "      <td>B6</td>\n",
       "      <td>725</td>\n",
       "      <td>N804JB</td>\n",
       "      <td>JFK</td>\n",
       "      <td>BQN</td>\n",
       "      <td>183.0</td>\n",
       "      <td>1576</td>\n",
       "      <td>5</td>\n",
       "      <td>45</td>\n",
       "      <td>2013-01-01T05:00:00Z</td>\n",
       "    </tr>\n",
       "    <tr>\n",
       "      <th>4</th>\n",
       "      <td>2013</td>\n",
       "      <td>1</td>\n",
       "      <td>1</td>\n",
       "      <td>554.0</td>\n",
       "      <td>600</td>\n",
       "      <td>-6.0</td>\n",
       "      <td>812.0</td>\n",
       "      <td>837</td>\n",
       "      <td>-25.0</td>\n",
       "      <td>DL</td>\n",
       "      <td>461</td>\n",
       "      <td>N668DN</td>\n",
       "      <td>LGA</td>\n",
       "      <td>ATL</td>\n",
       "      <td>116.0</td>\n",
       "      <td>762</td>\n",
       "      <td>6</td>\n",
       "      <td>0</td>\n",
       "      <td>2013-01-01T06:00:00Z</td>\n",
       "    </tr>\n",
       "    <tr>\n",
       "      <th>...</th>\n",
       "      <td>...</td>\n",
       "      <td>...</td>\n",
       "      <td>...</td>\n",
       "      <td>...</td>\n",
       "      <td>...</td>\n",
       "      <td>...</td>\n",
       "      <td>...</td>\n",
       "      <td>...</td>\n",
       "      <td>...</td>\n",
       "      <td>...</td>\n",
       "      <td>...</td>\n",
       "      <td>...</td>\n",
       "      <td>...</td>\n",
       "      <td>...</td>\n",
       "      <td>...</td>\n",
       "      <td>...</td>\n",
       "      <td>...</td>\n",
       "      <td>...</td>\n",
       "      <td>...</td>\n",
       "    </tr>\n",
       "    <tr>\n",
       "      <th>336771</th>\n",
       "      <td>2013</td>\n",
       "      <td>9</td>\n",
       "      <td>30</td>\n",
       "      <td>NaN</td>\n",
       "      <td>1455</td>\n",
       "      <td>NaN</td>\n",
       "      <td>NaN</td>\n",
       "      <td>1634</td>\n",
       "      <td>NaN</td>\n",
       "      <td>9E</td>\n",
       "      <td>3393</td>\n",
       "      <td>NaN</td>\n",
       "      <td>JFK</td>\n",
       "      <td>DCA</td>\n",
       "      <td>NaN</td>\n",
       "      <td>213</td>\n",
       "      <td>14</td>\n",
       "      <td>55</td>\n",
       "      <td>2013-09-30T14:00:00Z</td>\n",
       "    </tr>\n",
       "    <tr>\n",
       "      <th>336772</th>\n",
       "      <td>2013</td>\n",
       "      <td>9</td>\n",
       "      <td>30</td>\n",
       "      <td>NaN</td>\n",
       "      <td>2200</td>\n",
       "      <td>NaN</td>\n",
       "      <td>NaN</td>\n",
       "      <td>2312</td>\n",
       "      <td>NaN</td>\n",
       "      <td>9E</td>\n",
       "      <td>3525</td>\n",
       "      <td>NaN</td>\n",
       "      <td>LGA</td>\n",
       "      <td>SYR</td>\n",
       "      <td>NaN</td>\n",
       "      <td>198</td>\n",
       "      <td>22</td>\n",
       "      <td>0</td>\n",
       "      <td>2013-09-30T22:00:00Z</td>\n",
       "    </tr>\n",
       "    <tr>\n",
       "      <th>336773</th>\n",
       "      <td>2013</td>\n",
       "      <td>9</td>\n",
       "      <td>30</td>\n",
       "      <td>NaN</td>\n",
       "      <td>1210</td>\n",
       "      <td>NaN</td>\n",
       "      <td>NaN</td>\n",
       "      <td>1330</td>\n",
       "      <td>NaN</td>\n",
       "      <td>MQ</td>\n",
       "      <td>3461</td>\n",
       "      <td>N535MQ</td>\n",
       "      <td>LGA</td>\n",
       "      <td>BNA</td>\n",
       "      <td>NaN</td>\n",
       "      <td>764</td>\n",
       "      <td>12</td>\n",
       "      <td>10</td>\n",
       "      <td>2013-09-30T12:00:00Z</td>\n",
       "    </tr>\n",
       "    <tr>\n",
       "      <th>336774</th>\n",
       "      <td>2013</td>\n",
       "      <td>9</td>\n",
       "      <td>30</td>\n",
       "      <td>NaN</td>\n",
       "      <td>1159</td>\n",
       "      <td>NaN</td>\n",
       "      <td>NaN</td>\n",
       "      <td>1344</td>\n",
       "      <td>NaN</td>\n",
       "      <td>MQ</td>\n",
       "      <td>3572</td>\n",
       "      <td>N511MQ</td>\n",
       "      <td>LGA</td>\n",
       "      <td>CLE</td>\n",
       "      <td>NaN</td>\n",
       "      <td>419</td>\n",
       "      <td>11</td>\n",
       "      <td>59</td>\n",
       "      <td>2013-09-30T11:00:00Z</td>\n",
       "    </tr>\n",
       "    <tr>\n",
       "      <th>336775</th>\n",
       "      <td>2013</td>\n",
       "      <td>9</td>\n",
       "      <td>30</td>\n",
       "      <td>NaN</td>\n",
       "      <td>840</td>\n",
       "      <td>NaN</td>\n",
       "      <td>NaN</td>\n",
       "      <td>1020</td>\n",
       "      <td>NaN</td>\n",
       "      <td>MQ</td>\n",
       "      <td>3531</td>\n",
       "      <td>N839MQ</td>\n",
       "      <td>LGA</td>\n",
       "      <td>RDU</td>\n",
       "      <td>NaN</td>\n",
       "      <td>431</td>\n",
       "      <td>8</td>\n",
       "      <td>40</td>\n",
       "      <td>2013-09-30T08:00:00Z</td>\n",
       "    </tr>\n",
       "  </tbody>\n",
       "</table>\n",
       "<p>336776 rows × 19 columns</p>\n",
       "</div>"
      ],
      "text/plain": [
       "        year  month  day  dep_time  sched_dep_time  dep_delay  arr_time  \\\n",
       "0       2013      1    1     517.0             515        2.0     830.0   \n",
       "1       2013      1    1     533.0             529        4.0     850.0   \n",
       "2       2013      1    1     542.0             540        2.0     923.0   \n",
       "3       2013      1    1     544.0             545       -1.0    1004.0   \n",
       "4       2013      1    1     554.0             600       -6.0     812.0   \n",
       "...      ...    ...  ...       ...             ...        ...       ...   \n",
       "336771  2013      9   30       NaN            1455        NaN       NaN   \n",
       "336772  2013      9   30       NaN            2200        NaN       NaN   \n",
       "336773  2013      9   30       NaN            1210        NaN       NaN   \n",
       "336774  2013      9   30       NaN            1159        NaN       NaN   \n",
       "336775  2013      9   30       NaN             840        NaN       NaN   \n",
       "\n",
       "        sched_arr_time  arr_delay carrier  flight tailnum origin dest  \\\n",
       "0                  819       11.0      UA    1545  N14228    EWR  IAH   \n",
       "1                  830       20.0      UA    1714  N24211    LGA  IAH   \n",
       "2                  850       33.0      AA    1141  N619AA    JFK  MIA   \n",
       "3                 1022      -18.0      B6     725  N804JB    JFK  BQN   \n",
       "4                  837      -25.0      DL     461  N668DN    LGA  ATL   \n",
       "...                ...        ...     ...     ...     ...    ...  ...   \n",
       "336771            1634        NaN      9E    3393     NaN    JFK  DCA   \n",
       "336772            2312        NaN      9E    3525     NaN    LGA  SYR   \n",
       "336773            1330        NaN      MQ    3461  N535MQ    LGA  BNA   \n",
       "336774            1344        NaN      MQ    3572  N511MQ    LGA  CLE   \n",
       "336775            1020        NaN      MQ    3531  N839MQ    LGA  RDU   \n",
       "\n",
       "        air_time  distance  hour  minute             time_hour  \n",
       "0          227.0      1400     5      15  2013-01-01T05:00:00Z  \n",
       "1          227.0      1416     5      29  2013-01-01T05:00:00Z  \n",
       "2          160.0      1089     5      40  2013-01-01T05:00:00Z  \n",
       "3          183.0      1576     5      45  2013-01-01T05:00:00Z  \n",
       "4          116.0       762     6       0  2013-01-01T06:00:00Z  \n",
       "...          ...       ...   ...     ...                   ...  \n",
       "336771       NaN       213    14      55  2013-09-30T14:00:00Z  \n",
       "336772       NaN       198    22       0  2013-09-30T22:00:00Z  \n",
       "336773       NaN       764    12      10  2013-09-30T12:00:00Z  \n",
       "336774       NaN       419    11      59  2013-09-30T11:00:00Z  \n",
       "336775       NaN       431     8      40  2013-09-30T08:00:00Z  \n",
       "\n",
       "[336776 rows x 19 columns]"
      ]
     },
     "execution_count": 2,
     "metadata": {},
     "output_type": "execute_result"
    }
   ],
   "source": [
    "# Read the data set of flights\n",
    "data= pd.read_csv(\"D:/AIDI Course/AI Algo/LAB1/flights.csv\")\n",
    "\n",
    "# Printing the data\n",
    "data"
   ]
  },
  {
   "cell_type": "markdown",
   "id": "fa92f6d4",
   "metadata": {},
   "source": [
    "### Task 1: Create a Jupyter Notebook to present your analysis and perform an exploratory data analysis (EDA) on flights.csv file.\n"
   ]
  },
  {
   "cell_type": "markdown",
   "id": "9e79b32a",
   "metadata": {},
   "source": [
    "#### 1.1 Using sweetviz module to generate html report\n",
    "The analyze module will be used to generate report"
   ]
  },
  {
   "cell_type": "code",
   "execution_count": 3,
   "id": "7cc79082",
   "metadata": {},
   "outputs": [
    {
     "data": {
      "application/vnd.jupyter.widget-view+json": {
       "model_id": "571dff22a97e49a79cff19e50c7dcc84",
       "version_major": 2,
       "version_minor": 0
      },
      "text/plain": [
       "                                             |          | [  0%]   00:00 -> (? left)"
      ]
     },
     "metadata": {},
     "output_type": "display_data"
    },
    {
     "name": "stdout",
     "output_type": "stream",
     "text": [
      "Report SWEETVIZ_REPORT.html was generated! NOTEBOOK/COLAB USERS: the web browser MAY not pop up, regardless, the report IS saved in your notebook/colab files.\n"
     ]
    }
   ],
   "source": [
    "flights_report = sv.analyze(data)\n",
    "flights_report.show_html()"
   ]
  },
  {
   "cell_type": "markdown",
   "id": "91ab5f5a",
   "metadata": {},
   "source": [
    "#### 1.2 Displaying concise summary for variables\n",
    "Pandas dataframe.info() function is used to get a concise summary of the dataframe. It comes really handy when doing exploratory analysis of the data. It shows the data type of variables and count of non null values for the variables"
   ]
  },
  {
   "cell_type": "code",
   "execution_count": 4,
   "id": "58917101",
   "metadata": {},
   "outputs": [
    {
     "name": "stdout",
     "output_type": "stream",
     "text": [
      "<class 'pandas.core.frame.DataFrame'>\n",
      "RangeIndex: 336776 entries, 0 to 336775\n",
      "Data columns (total 19 columns):\n",
      " #   Column          Non-Null Count   Dtype  \n",
      "---  ------          --------------   -----  \n",
      " 0   year            336776 non-null  int64  \n",
      " 1   month           336776 non-null  int64  \n",
      " 2   day             336776 non-null  int64  \n",
      " 3   dep_time        328521 non-null  float64\n",
      " 4   sched_dep_time  336776 non-null  int64  \n",
      " 5   dep_delay       328521 non-null  float64\n",
      " 6   arr_time        328063 non-null  float64\n",
      " 7   sched_arr_time  336776 non-null  int64  \n",
      " 8   arr_delay       327346 non-null  float64\n",
      " 9   carrier         336776 non-null  object \n",
      " 10  flight          336776 non-null  int64  \n",
      " 11  tailnum         334264 non-null  object \n",
      " 12  origin          336776 non-null  object \n",
      " 13  dest            336776 non-null  object \n",
      " 14  air_time        327346 non-null  float64\n",
      " 15  distance        336776 non-null  int64  \n",
      " 16  hour            336776 non-null  int64  \n",
      " 17  minute          336776 non-null  int64  \n",
      " 18  time_hour       336776 non-null  object \n",
      "dtypes: float64(5), int64(9), object(5)\n",
      "memory usage: 48.8+ MB\n"
     ]
    }
   ],
   "source": [
    "data.info()"
   ]
  },
  {
   "cell_type": "markdown",
   "id": "9e2f17b9",
   "metadata": {},
   "source": [
    "#### 1.3 Displaying Descriptive statistics\n",
    "Dataframe.describe() method is used for Descriptive statistics including those that summarize the central tendency, dispersion and shape of a dataset’s distribution, excluding NaN values"
   ]
  },
  {
   "cell_type": "code",
   "execution_count": 5,
   "id": "1b1ee9b2",
   "metadata": {},
   "outputs": [
    {
     "data": {
      "text/html": [
       "<div>\n",
       "<style scoped>\n",
       "    .dataframe tbody tr th:only-of-type {\n",
       "        vertical-align: middle;\n",
       "    }\n",
       "\n",
       "    .dataframe tbody tr th {\n",
       "        vertical-align: top;\n",
       "    }\n",
       "\n",
       "    .dataframe thead th {\n",
       "        text-align: right;\n",
       "    }\n",
       "</style>\n",
       "<table border=\"1\" class=\"dataframe\">\n",
       "  <thead>\n",
       "    <tr style=\"text-align: right;\">\n",
       "      <th></th>\n",
       "      <th>year</th>\n",
       "      <th>month</th>\n",
       "      <th>day</th>\n",
       "      <th>dep_time</th>\n",
       "      <th>sched_dep_time</th>\n",
       "      <th>dep_delay</th>\n",
       "      <th>arr_time</th>\n",
       "      <th>sched_arr_time</th>\n",
       "      <th>arr_delay</th>\n",
       "      <th>flight</th>\n",
       "      <th>air_time</th>\n",
       "      <th>distance</th>\n",
       "      <th>hour</th>\n",
       "      <th>minute</th>\n",
       "    </tr>\n",
       "  </thead>\n",
       "  <tbody>\n",
       "    <tr>\n",
       "      <th>count</th>\n",
       "      <td>336776.0</td>\n",
       "      <td>336776.000000</td>\n",
       "      <td>336776.000000</td>\n",
       "      <td>328521.000000</td>\n",
       "      <td>336776.000000</td>\n",
       "      <td>328521.000000</td>\n",
       "      <td>328063.000000</td>\n",
       "      <td>336776.000000</td>\n",
       "      <td>327346.000000</td>\n",
       "      <td>336776.000000</td>\n",
       "      <td>327346.000000</td>\n",
       "      <td>336776.000000</td>\n",
       "      <td>336776.000000</td>\n",
       "      <td>336776.000000</td>\n",
       "    </tr>\n",
       "    <tr>\n",
       "      <th>mean</th>\n",
       "      <td>2013.0</td>\n",
       "      <td>6.548510</td>\n",
       "      <td>15.710787</td>\n",
       "      <td>1349.109947</td>\n",
       "      <td>1344.254840</td>\n",
       "      <td>12.639070</td>\n",
       "      <td>1502.054999</td>\n",
       "      <td>1536.380220</td>\n",
       "      <td>6.895377</td>\n",
       "      <td>1971.923620</td>\n",
       "      <td>150.686460</td>\n",
       "      <td>1039.912604</td>\n",
       "      <td>13.180247</td>\n",
       "      <td>26.230100</td>\n",
       "    </tr>\n",
       "    <tr>\n",
       "      <th>std</th>\n",
       "      <td>0.0</td>\n",
       "      <td>3.414457</td>\n",
       "      <td>8.768607</td>\n",
       "      <td>488.281791</td>\n",
       "      <td>467.335756</td>\n",
       "      <td>40.210061</td>\n",
       "      <td>533.264132</td>\n",
       "      <td>497.457142</td>\n",
       "      <td>44.633292</td>\n",
       "      <td>1632.471938</td>\n",
       "      <td>93.688305</td>\n",
       "      <td>733.233033</td>\n",
       "      <td>4.661316</td>\n",
       "      <td>19.300846</td>\n",
       "    </tr>\n",
       "    <tr>\n",
       "      <th>min</th>\n",
       "      <td>2013.0</td>\n",
       "      <td>1.000000</td>\n",
       "      <td>1.000000</td>\n",
       "      <td>1.000000</td>\n",
       "      <td>106.000000</td>\n",
       "      <td>-43.000000</td>\n",
       "      <td>1.000000</td>\n",
       "      <td>1.000000</td>\n",
       "      <td>-86.000000</td>\n",
       "      <td>1.000000</td>\n",
       "      <td>20.000000</td>\n",
       "      <td>17.000000</td>\n",
       "      <td>1.000000</td>\n",
       "      <td>0.000000</td>\n",
       "    </tr>\n",
       "    <tr>\n",
       "      <th>25%</th>\n",
       "      <td>2013.0</td>\n",
       "      <td>4.000000</td>\n",
       "      <td>8.000000</td>\n",
       "      <td>907.000000</td>\n",
       "      <td>906.000000</td>\n",
       "      <td>-5.000000</td>\n",
       "      <td>1104.000000</td>\n",
       "      <td>1124.000000</td>\n",
       "      <td>-17.000000</td>\n",
       "      <td>553.000000</td>\n",
       "      <td>82.000000</td>\n",
       "      <td>502.000000</td>\n",
       "      <td>9.000000</td>\n",
       "      <td>8.000000</td>\n",
       "    </tr>\n",
       "    <tr>\n",
       "      <th>50%</th>\n",
       "      <td>2013.0</td>\n",
       "      <td>7.000000</td>\n",
       "      <td>16.000000</td>\n",
       "      <td>1401.000000</td>\n",
       "      <td>1359.000000</td>\n",
       "      <td>-2.000000</td>\n",
       "      <td>1535.000000</td>\n",
       "      <td>1556.000000</td>\n",
       "      <td>-5.000000</td>\n",
       "      <td>1496.000000</td>\n",
       "      <td>129.000000</td>\n",
       "      <td>872.000000</td>\n",
       "      <td>13.000000</td>\n",
       "      <td>29.000000</td>\n",
       "    </tr>\n",
       "    <tr>\n",
       "      <th>75%</th>\n",
       "      <td>2013.0</td>\n",
       "      <td>10.000000</td>\n",
       "      <td>23.000000</td>\n",
       "      <td>1744.000000</td>\n",
       "      <td>1729.000000</td>\n",
       "      <td>11.000000</td>\n",
       "      <td>1940.000000</td>\n",
       "      <td>1945.000000</td>\n",
       "      <td>14.000000</td>\n",
       "      <td>3465.000000</td>\n",
       "      <td>192.000000</td>\n",
       "      <td>1389.000000</td>\n",
       "      <td>17.000000</td>\n",
       "      <td>44.000000</td>\n",
       "    </tr>\n",
       "    <tr>\n",
       "      <th>max</th>\n",
       "      <td>2013.0</td>\n",
       "      <td>12.000000</td>\n",
       "      <td>31.000000</td>\n",
       "      <td>2400.000000</td>\n",
       "      <td>2359.000000</td>\n",
       "      <td>1301.000000</td>\n",
       "      <td>2400.000000</td>\n",
       "      <td>2359.000000</td>\n",
       "      <td>1272.000000</td>\n",
       "      <td>8500.000000</td>\n",
       "      <td>695.000000</td>\n",
       "      <td>4983.000000</td>\n",
       "      <td>23.000000</td>\n",
       "      <td>59.000000</td>\n",
       "    </tr>\n",
       "  </tbody>\n",
       "</table>\n",
       "</div>"
      ],
      "text/plain": [
       "           year          month            day       dep_time  sched_dep_time  \\\n",
       "count  336776.0  336776.000000  336776.000000  328521.000000   336776.000000   \n",
       "mean     2013.0       6.548510      15.710787    1349.109947     1344.254840   \n",
       "std         0.0       3.414457       8.768607     488.281791      467.335756   \n",
       "min      2013.0       1.000000       1.000000       1.000000      106.000000   \n",
       "25%      2013.0       4.000000       8.000000     907.000000      906.000000   \n",
       "50%      2013.0       7.000000      16.000000    1401.000000     1359.000000   \n",
       "75%      2013.0      10.000000      23.000000    1744.000000     1729.000000   \n",
       "max      2013.0      12.000000      31.000000    2400.000000     2359.000000   \n",
       "\n",
       "           dep_delay       arr_time  sched_arr_time      arr_delay  \\\n",
       "count  328521.000000  328063.000000   336776.000000  327346.000000   \n",
       "mean       12.639070    1502.054999     1536.380220       6.895377   \n",
       "std        40.210061     533.264132      497.457142      44.633292   \n",
       "min       -43.000000       1.000000        1.000000     -86.000000   \n",
       "25%        -5.000000    1104.000000     1124.000000     -17.000000   \n",
       "50%        -2.000000    1535.000000     1556.000000      -5.000000   \n",
       "75%        11.000000    1940.000000     1945.000000      14.000000   \n",
       "max      1301.000000    2400.000000     2359.000000    1272.000000   \n",
       "\n",
       "              flight       air_time       distance           hour  \\\n",
       "count  336776.000000  327346.000000  336776.000000  336776.000000   \n",
       "mean     1971.923620     150.686460    1039.912604      13.180247   \n",
       "std      1632.471938      93.688305     733.233033       4.661316   \n",
       "min         1.000000      20.000000      17.000000       1.000000   \n",
       "25%       553.000000      82.000000     502.000000       9.000000   \n",
       "50%      1496.000000     129.000000     872.000000      13.000000   \n",
       "75%      3465.000000     192.000000    1389.000000      17.000000   \n",
       "max      8500.000000     695.000000    4983.000000      23.000000   \n",
       "\n",
       "              minute  \n",
       "count  336776.000000  \n",
       "mean       26.230100  \n",
       "std        19.300846  \n",
       "min         0.000000  \n",
       "25%         8.000000  \n",
       "50%        29.000000  \n",
       "75%        44.000000  \n",
       "max        59.000000  "
      ]
     },
     "execution_count": 5,
     "metadata": {},
     "output_type": "execute_result"
    }
   ],
   "source": [
    "data.describe()"
   ]
  },
  {
   "cell_type": "markdown",
   "id": "b26e8943",
   "metadata": {},
   "source": [
    "#### 1.4 Displaying number of null values for each column\n",
    "Dataframe.isnull().sum() method is used to display number of null values for each column. The following result shows that arr_delay has null values. This information is useful in subsequent tasks"
   ]
  },
  {
   "cell_type": "code",
   "execution_count": 6,
   "id": "b35e33d2",
   "metadata": {},
   "outputs": [
    {
     "data": {
      "text/plain": [
       "year                 0\n",
       "month                0\n",
       "day                  0\n",
       "dep_time          8255\n",
       "sched_dep_time       0\n",
       "dep_delay         8255\n",
       "arr_time          8713\n",
       "sched_arr_time       0\n",
       "arr_delay         9430\n",
       "carrier              0\n",
       "flight               0\n",
       "tailnum           2512\n",
       "origin               0\n",
       "dest                 0\n",
       "air_time          9430\n",
       "distance             0\n",
       "hour                 0\n",
       "minute               0\n",
       "time_hour            0\n",
       "dtype: int64"
      ]
     },
     "execution_count": 6,
     "metadata": {},
     "output_type": "execute_result"
    }
   ],
   "source": [
    "data.isnull().sum()"
   ]
  },
  {
   "cell_type": "markdown",
   "id": "c4cd4164",
   "metadata": {},
   "source": [
    "#### 1.5 Displaying correlation of arr_delay wih other variables\n",
    "From the below result it can be noted tht arrival delay depends largely on departure delay as there is a srong positive correlation between arr_delay and dep_delay"
   ]
  },
  {
   "cell_type": "code",
   "execution_count": 7,
   "id": "fd32cb4c",
   "metadata": {},
   "outputs": [
    {
     "data": {
      "text/plain": [
       "year                   NaN\n",
       "month            -0.017382\n",
       "day              -0.000319\n",
       "dep_time          0.232306\n",
       "sched_dep_time    0.173896\n",
       "dep_delay         0.914803\n",
       "arr_time          0.024482\n",
       "sched_arr_time    0.133261\n",
       "arr_delay         1.000000\n",
       "flight            0.072862\n",
       "air_time         -0.035297\n",
       "distance         -0.061868\n",
       "hour              0.173456\n",
       "minute            0.021522\n",
       "Name: arr_delay, dtype: float64"
      ]
     },
     "execution_count": 7,
     "metadata": {},
     "output_type": "execute_result"
    }
   ],
   "source": [
    "data.corr()['arr_delay']"
   ]
  },
  {
   "cell_type": "markdown",
   "id": "96e3b3f2",
   "metadata": {},
   "source": [
    "#### 1.6 Displaying total carriers\n",
    "unique() method will be used to display the unique values for carrier"
   ]
  },
  {
   "cell_type": "code",
   "execution_count": 8,
   "id": "4ddd3f76",
   "metadata": {},
   "outputs": [
    {
     "data": {
      "text/plain": [
       "array(['UA', 'AA', 'B6', 'DL', 'EV', 'MQ', 'US', 'WN', 'VX', 'FL', 'AS',\n",
       "       '9E', 'F9', 'HA', 'YV', 'OO'], dtype=object)"
      ]
     },
     "execution_count": 8,
     "metadata": {},
     "output_type": "execute_result"
    }
   ],
   "source": [
    "data['carrier'].unique()"
   ]
  },
  {
   "cell_type": "markdown",
   "id": "d2aaae25",
   "metadata": {},
   "source": [
    "#### 1.7 Displaying dataframe with records having zero arrival delays\n",
    "From the output below, it can be seen 5409 records have zero arrival delays"
   ]
  },
  {
   "cell_type": "code",
   "execution_count": 9,
   "id": "945699d4",
   "metadata": {},
   "outputs": [
    {
     "data": {
      "text/html": [
       "<div>\n",
       "<style scoped>\n",
       "    .dataframe tbody tr th:only-of-type {\n",
       "        vertical-align: middle;\n",
       "    }\n",
       "\n",
       "    .dataframe tbody tr th {\n",
       "        vertical-align: top;\n",
       "    }\n",
       "\n",
       "    .dataframe thead th {\n",
       "        text-align: right;\n",
       "    }\n",
       "</style>\n",
       "<table border=\"1\" class=\"dataframe\">\n",
       "  <thead>\n",
       "    <tr style=\"text-align: right;\">\n",
       "      <th></th>\n",
       "      <th>year</th>\n",
       "      <th>month</th>\n",
       "      <th>day</th>\n",
       "      <th>dep_time</th>\n",
       "      <th>sched_dep_time</th>\n",
       "      <th>dep_delay</th>\n",
       "      <th>arr_time</th>\n",
       "      <th>sched_arr_time</th>\n",
       "      <th>arr_delay</th>\n",
       "      <th>carrier</th>\n",
       "      <th>flight</th>\n",
       "      <th>tailnum</th>\n",
       "      <th>origin</th>\n",
       "      <th>dest</th>\n",
       "      <th>air_time</th>\n",
       "      <th>distance</th>\n",
       "      <th>hour</th>\n",
       "      <th>minute</th>\n",
       "      <th>time_hour</th>\n",
       "    </tr>\n",
       "  </thead>\n",
       "  <tbody>\n",
       "    <tr>\n",
       "      <th>35</th>\n",
       "      <td>2013</td>\n",
       "      <td>1</td>\n",
       "      <td>1</td>\n",
       "      <td>627.0</td>\n",
       "      <td>630</td>\n",
       "      <td>-3.0</td>\n",
       "      <td>1018.0</td>\n",
       "      <td>1018</td>\n",
       "      <td>0.0</td>\n",
       "      <td>US</td>\n",
       "      <td>27</td>\n",
       "      <td>N535UW</td>\n",
       "      <td>JFK</td>\n",
       "      <td>PHX</td>\n",
       "      <td>330.0</td>\n",
       "      <td>2153</td>\n",
       "      <td>6</td>\n",
       "      <td>30</td>\n",
       "      <td>2013-01-01T06:00:00Z</td>\n",
       "    </tr>\n",
       "    <tr>\n",
       "      <th>114</th>\n",
       "      <td>2013</td>\n",
       "      <td>1</td>\n",
       "      <td>1</td>\n",
       "      <td>807.0</td>\n",
       "      <td>810</td>\n",
       "      <td>-3.0</td>\n",
       "      <td>1043.0</td>\n",
       "      <td>1043</td>\n",
       "      <td>0.0</td>\n",
       "      <td>DL</td>\n",
       "      <td>269</td>\n",
       "      <td>N308DE</td>\n",
       "      <td>JFK</td>\n",
       "      <td>ATL</td>\n",
       "      <td>126.0</td>\n",
       "      <td>760</td>\n",
       "      <td>8</td>\n",
       "      <td>10</td>\n",
       "      <td>2013-01-01T08:00:00Z</td>\n",
       "    </tr>\n",
       "    <tr>\n",
       "      <th>217</th>\n",
       "      <td>2013</td>\n",
       "      <td>1</td>\n",
       "      <td>1</td>\n",
       "      <td>956.0</td>\n",
       "      <td>1000</td>\n",
       "      <td>-4.0</td>\n",
       "      <td>1241.0</td>\n",
       "      <td>1241</td>\n",
       "      <td>0.0</td>\n",
       "      <td>DL</td>\n",
       "      <td>1847</td>\n",
       "      <td>N956DL</td>\n",
       "      <td>LGA</td>\n",
       "      <td>ATL</td>\n",
       "      <td>129.0</td>\n",
       "      <td>762</td>\n",
       "      <td>10</td>\n",
       "      <td>0</td>\n",
       "      <td>2013-01-01T10:00:00Z</td>\n",
       "    </tr>\n",
       "    <tr>\n",
       "      <th>273</th>\n",
       "      <td>2013</td>\n",
       "      <td>1</td>\n",
       "      <td>1</td>\n",
       "      <td>1124.0</td>\n",
       "      <td>1125</td>\n",
       "      <td>-1.0</td>\n",
       "      <td>1445.0</td>\n",
       "      <td>1445</td>\n",
       "      <td>0.0</td>\n",
       "      <td>DL</td>\n",
       "      <td>1171</td>\n",
       "      <td>N376NW</td>\n",
       "      <td>LGA</td>\n",
       "      <td>RSW</td>\n",
       "      <td>169.0</td>\n",
       "      <td>1080</td>\n",
       "      <td>11</td>\n",
       "      <td>25</td>\n",
       "      <td>2013-01-01T11:00:00Z</td>\n",
       "    </tr>\n",
       "    <tr>\n",
       "      <th>317</th>\n",
       "      <td>2013</td>\n",
       "      <td>1</td>\n",
       "      <td>1</td>\n",
       "      <td>1219.0</td>\n",
       "      <td>1220</td>\n",
       "      <td>-1.0</td>\n",
       "      <td>1415.0</td>\n",
       "      <td>1415</td>\n",
       "      <td>0.0</td>\n",
       "      <td>AA</td>\n",
       "      <td>1757</td>\n",
       "      <td>N545AA</td>\n",
       "      <td>LGA</td>\n",
       "      <td>STL</td>\n",
       "      <td>161.0</td>\n",
       "      <td>888</td>\n",
       "      <td>12</td>\n",
       "      <td>20</td>\n",
       "      <td>2013-01-01T12:00:00Z</td>\n",
       "    </tr>\n",
       "    <tr>\n",
       "      <th>...</th>\n",
       "      <td>...</td>\n",
       "      <td>...</td>\n",
       "      <td>...</td>\n",
       "      <td>...</td>\n",
       "      <td>...</td>\n",
       "      <td>...</td>\n",
       "      <td>...</td>\n",
       "      <td>...</td>\n",
       "      <td>...</td>\n",
       "      <td>...</td>\n",
       "      <td>...</td>\n",
       "      <td>...</td>\n",
       "      <td>...</td>\n",
       "      <td>...</td>\n",
       "      <td>...</td>\n",
       "      <td>...</td>\n",
       "      <td>...</td>\n",
       "      <td>...</td>\n",
       "      <td>...</td>\n",
       "    </tr>\n",
       "    <tr>\n",
       "      <th>336296</th>\n",
       "      <td>2013</td>\n",
       "      <td>9</td>\n",
       "      <td>30</td>\n",
       "      <td>1409.0</td>\n",
       "      <td>1415</td>\n",
       "      <td>-6.0</td>\n",
       "      <td>1550.0</td>\n",
       "      <td>1550</td>\n",
       "      <td>0.0</td>\n",
       "      <td>AA</td>\n",
       "      <td>1170</td>\n",
       "      <td>N4WAAA</td>\n",
       "      <td>LGA</td>\n",
       "      <td>STL</td>\n",
       "      <td>121.0</td>\n",
       "      <td>888</td>\n",
       "      <td>14</td>\n",
       "      <td>15</td>\n",
       "      <td>2013-09-30T14:00:00Z</td>\n",
       "    </tr>\n",
       "    <tr>\n",
       "      <th>336383</th>\n",
       "      <td>2013</td>\n",
       "      <td>9</td>\n",
       "      <td>30</td>\n",
       "      <td>1530.0</td>\n",
       "      <td>1530</td>\n",
       "      <td>0.0</td>\n",
       "      <td>1845.0</td>\n",
       "      <td>1845</td>\n",
       "      <td>0.0</td>\n",
       "      <td>AA</td>\n",
       "      <td>85</td>\n",
       "      <td>N385AA</td>\n",
       "      <td>JFK</td>\n",
       "      <td>SFO</td>\n",
       "      <td>324.0</td>\n",
       "      <td>2586</td>\n",
       "      <td>15</td>\n",
       "      <td>30</td>\n",
       "      <td>2013-09-30T15:00:00Z</td>\n",
       "    </tr>\n",
       "    <tr>\n",
       "      <th>336438</th>\n",
       "      <td>2013</td>\n",
       "      <td>9</td>\n",
       "      <td>30</td>\n",
       "      <td>1615.0</td>\n",
       "      <td>1620</td>\n",
       "      <td>-5.0</td>\n",
       "      <td>1828.0</td>\n",
       "      <td>1828</td>\n",
       "      <td>0.0</td>\n",
       "      <td>9E</td>\n",
       "      <td>4094</td>\n",
       "      <td>N805AY</td>\n",
       "      <td>JFK</td>\n",
       "      <td>RDU</td>\n",
       "      <td>64.0</td>\n",
       "      <td>427</td>\n",
       "      <td>16</td>\n",
       "      <td>20</td>\n",
       "      <td>2013-09-30T16:00:00Z</td>\n",
       "    </tr>\n",
       "    <tr>\n",
       "      <th>336491</th>\n",
       "      <td>2013</td>\n",
       "      <td>9</td>\n",
       "      <td>30</td>\n",
       "      <td>1703.0</td>\n",
       "      <td>1645</td>\n",
       "      <td>18.0</td>\n",
       "      <td>1915.0</td>\n",
       "      <td>1915</td>\n",
       "      <td>0.0</td>\n",
       "      <td>DL</td>\n",
       "      <td>884</td>\n",
       "      <td>N301NB</td>\n",
       "      <td>LGA</td>\n",
       "      <td>DEN</td>\n",
       "      <td>212.0</td>\n",
       "      <td>1620</td>\n",
       "      <td>16</td>\n",
       "      <td>45</td>\n",
       "      <td>2013-09-30T16:00:00Z</td>\n",
       "    </tr>\n",
       "    <tr>\n",
       "      <th>336595</th>\n",
       "      <td>2013</td>\n",
       "      <td>9</td>\n",
       "      <td>30</td>\n",
       "      <td>1843.0</td>\n",
       "      <td>1830</td>\n",
       "      <td>13.0</td>\n",
       "      <td>1950.0</td>\n",
       "      <td>1950</td>\n",
       "      <td>0.0</td>\n",
       "      <td>MQ</td>\n",
       "      <td>3486</td>\n",
       "      <td>N515MQ</td>\n",
       "      <td>LGA</td>\n",
       "      <td>BNA</td>\n",
       "      <td>100.0</td>\n",
       "      <td>764</td>\n",
       "      <td>18</td>\n",
       "      <td>30</td>\n",
       "      <td>2013-09-30T18:00:00Z</td>\n",
       "    </tr>\n",
       "  </tbody>\n",
       "</table>\n",
       "<p>5409 rows × 19 columns</p>\n",
       "</div>"
      ],
      "text/plain": [
       "        year  month  day  dep_time  sched_dep_time  dep_delay  arr_time  \\\n",
       "35      2013      1    1     627.0             630       -3.0    1018.0   \n",
       "114     2013      1    1     807.0             810       -3.0    1043.0   \n",
       "217     2013      1    1     956.0            1000       -4.0    1241.0   \n",
       "273     2013      1    1    1124.0            1125       -1.0    1445.0   \n",
       "317     2013      1    1    1219.0            1220       -1.0    1415.0   \n",
       "...      ...    ...  ...       ...             ...        ...       ...   \n",
       "336296  2013      9   30    1409.0            1415       -6.0    1550.0   \n",
       "336383  2013      9   30    1530.0            1530        0.0    1845.0   \n",
       "336438  2013      9   30    1615.0            1620       -5.0    1828.0   \n",
       "336491  2013      9   30    1703.0            1645       18.0    1915.0   \n",
       "336595  2013      9   30    1843.0            1830       13.0    1950.0   \n",
       "\n",
       "        sched_arr_time  arr_delay carrier  flight tailnum origin dest  \\\n",
       "35                1018        0.0      US      27  N535UW    JFK  PHX   \n",
       "114               1043        0.0      DL     269  N308DE    JFK  ATL   \n",
       "217               1241        0.0      DL    1847  N956DL    LGA  ATL   \n",
       "273               1445        0.0      DL    1171  N376NW    LGA  RSW   \n",
       "317               1415        0.0      AA    1757  N545AA    LGA  STL   \n",
       "...                ...        ...     ...     ...     ...    ...  ...   \n",
       "336296            1550        0.0      AA    1170  N4WAAA    LGA  STL   \n",
       "336383            1845        0.0      AA      85  N385AA    JFK  SFO   \n",
       "336438            1828        0.0      9E    4094  N805AY    JFK  RDU   \n",
       "336491            1915        0.0      DL     884  N301NB    LGA  DEN   \n",
       "336595            1950        0.0      MQ    3486  N515MQ    LGA  BNA   \n",
       "\n",
       "        air_time  distance  hour  minute             time_hour  \n",
       "35         330.0      2153     6      30  2013-01-01T06:00:00Z  \n",
       "114        126.0       760     8      10  2013-01-01T08:00:00Z  \n",
       "217        129.0       762    10       0  2013-01-01T10:00:00Z  \n",
       "273        169.0      1080    11      25  2013-01-01T11:00:00Z  \n",
       "317        161.0       888    12      20  2013-01-01T12:00:00Z  \n",
       "...          ...       ...   ...     ...                   ...  \n",
       "336296     121.0       888    14      15  2013-09-30T14:00:00Z  \n",
       "336383     324.0      2586    15      30  2013-09-30T15:00:00Z  \n",
       "336438      64.0       427    16      20  2013-09-30T16:00:00Z  \n",
       "336491     212.0      1620    16      45  2013-09-30T16:00:00Z  \n",
       "336595     100.0       764    18      30  2013-09-30T18:00:00Z  \n",
       "\n",
       "[5409 rows x 19 columns]"
      ]
     },
     "metadata": {},
     "output_type": "display_data"
    }
   ],
   "source": [
    "no_arr_delay = data.query(\"arr_delay == 0\")\n",
    "display(no_arr_delay)"
   ]
  },
  {
   "cell_type": "markdown",
   "id": "02ff114d",
   "metadata": {},
   "source": [
    "### Task 2: Create at least 5 different views (reports) to the team using the imported dataset. The reports should be composed of a description, charts and tables based on some selected columns. These reports can give some insights to the team about the airport operation and potential optimizations."
   ]
  },
  {
   "cell_type": "markdown",
   "id": "8538b7ce",
   "metadata": {},
   "source": [
    "#### Report 1: Creatng a Vizualization to display top 5 Carriers with most arrival delays in 2013\n",
    "Step 1: Creating a dataframe report1 to contain top 5 carrier with most arrival delays <br>\n",
    "Step 2: Using Seaborn library to create barplot <br>\n",
    "Step 3: adding data labels"
   ]
  },
  {
   "cell_type": "code",
   "execution_count": 10,
   "id": "143ac07d",
   "metadata": {},
   "outputs": [
    {
     "data": {
      "text/plain": [
       "[Text(0, 0, '807324'),\n",
       " Text(0, 0, '511194'),\n",
       " Text(0, 0, '269767'),\n",
       " Text(0, 0, '205589'),\n",
       " Text(0, 0, '127624')]"
      ]
     },
     "execution_count": 10,
     "metadata": {},
     "output_type": "execute_result"
    },
    {
     "data": {
      "image/png": "[encoded data removed]",
      "text/plain": [
       "<Figure size 1500x800 with 1 Axes>"
      ]
     },
     "metadata": {},
     "output_type": "display_data"
    }
   ],
   "source": [
    "sns.set(rc = {'figure.figsize':(15,8)})\n",
    "#step 1\n",
    "report1 = data.groupby('carrier')['arr_delay'].sum().to_frame().nlargest(5, 'arr_delay')\n",
    "report1.reset_index(inplace=True)\n",
    "#step 2\n",
    "ax1 = sns.barplot(x='carrier', y='arr_delay', data=report1, color = 'orange')\n",
    "#step 3\n",
    "ax1.bar_label(ax1.containers[0])"
   ]
  },
  {
   "cell_type": "markdown",
   "id": "da1b3e53",
   "metadata": {},
   "source": [
    "##### From the above graph, it can be seen that EV carrier experienced the most arrival delays in 2013 followed by B6 and MQ. UA follows next in experiencing the arrival delays.\n",
    "_______________________________________________________________________________________________________________________________"
   ]
  },
  {
   "cell_type": "markdown",
   "id": "a97bc94c",
   "metadata": {},
   "source": [
    "#### Report 2: Creatng a Vizualization to display top 5 Carriers with most distance covered through flights in 2013\n",
    "Step 1: Creating a dataframe report2 to contain top 5 carrier with most distance covered through flights in 2013 <br>\n",
    "Step 2: Using Seaborn library to create barplot <br>\n",
    "Step 3: adding data labels"
   ]
  },
  {
   "cell_type": "code",
   "execution_count": 11,
   "id": "9ed8a6c4",
   "metadata": {},
   "outputs": [
    {
     "data": {
      "text/plain": [
       "[Text(0, 0, '8.97055e+07'),\n",
       " Text(0, 0, '5.95073e+07'),\n",
       " Text(0, 0, '5.83841e+07'),\n",
       " Text(0, 0, '4.38646e+07'),\n",
       " Text(0, 0, '3.0499e+07')]"
      ]
     },
     "execution_count": 11,
     "metadata": {},
     "output_type": "execute_result"
    },
    {
     "data": {
      "image/png": "[encoded data removed]",
      "text/plain": [
       "<Figure size 1500x800 with 1 Axes>"
      ]
     },
     "metadata": {},
     "output_type": "display_data"
    }
   ],
   "source": [
    "#step 1\n",
    "report2 = data.groupby('carrier')['distance'].sum().to_frame().nlargest(5, 'distance')\n",
    "report2.reset_index(inplace=True)\n",
    "#step 2\n",
    "ax2 = sns.barplot(x='carrier', y='distance', data=report2, color = 'green')\n",
    "#step 3\n",
    "ax2.bar_label(ax2.containers[0])"
   ]
  },
  {
   "cell_type": "markdown",
   "id": "2fe06079",
   "metadata": {},
   "source": [
    "#### From the above graph, it can be concluded that UA carrier covered most disance in 2013 followed by DL carrier. UA and DL carriers are thus most widely used carriers in 2013\n",
    "___________________________________________________________________________________________________________________________"
   ]
  },
  {
   "cell_type": "markdown",
   "id": "0118a60e",
   "metadata": {},
   "source": [
    "#### Report 3: Creatng a Vizualization to display top 5 Months with most arrival delays in 2013\n",
    "Step 1: Creating a dataframe report3 to contain top 5 months with most arrival delays <br>\n",
    "Step 2: Using plot method on dataframe to generate bar plot <br>\n",
    "Step 3: adding data labels"
   ]
  },
  {
   "cell_type": "code",
   "execution_count": 12,
   "id": "643b70d4",
   "metadata": {},
   "outputs": [
    {
     "data": {
      "text/plain": [
       "[Text(0, 0, '472813'),\n",
       " Text(0, 0, '446232'),\n",
       " Text(0, 0, '401797'),\n",
       " Text(0, 0, '308057'),\n",
       " Text(0, 0, '173705')]"
      ]
     },
     "execution_count": 12,
     "metadata": {},
     "output_type": "execute_result"
    },
    {
     "data": {
      "image/png": "[encoded data removed]",
      "text/plain": [
       "<Figure size 1500x800 with 1 Axes>"
      ]
     },
     "metadata": {},
     "output_type": "display_data"
    }
   ],
   "source": [
    "#step 1\n",
    "report3 = data.groupby('month')['arr_delay'].sum().to_frame().nlargest(5, 'arr_delay')\n",
    "#step 2\n",
    "ax3 = report3.plot(kind='bar', title='Top 5 months with most Arrival Dealys in 2013', ylabel='Total Arrival Delay (in minutes)', color = 'brown', \n",
    "         xlabel='Month (in number)', figsize=(15, 8))\n",
    "#step 3\n",
    "ax3.bar_label(ax3.containers[0])"
   ]
  },
  {
   "cell_type": "markdown",
   "id": "7501c29e",
   "metadata": {},
   "source": [
    "#### From the above graph, it can be ssen that 7th month i.e., July experienced most arrival delays in 2013 followed by 6th month i.e., June\n",
    "_________________________________________________________________________________________________________________________"
   ]
  },
  {
   "cell_type": "markdown",
   "id": "383123fa",
   "metadata": {},
   "source": [
    "#### Report 4: Creatng a Vizualization to display arrival delays and departure delays for all three origins\n",
    "Step 1: Creating a two sub dataframes: one to store arrival delays for all origins and other to store departure delay for all origins <br>\n",
    "Step 2: Creating unified dataframe from two created in step 1 <br>\n",
    "Step 3: Using Seaborn library to create barplot <br>\n",
    "Step 4: Creating Legends <br>\n",
    "Step 5: Displaying plot "
   ]
  },
  {
   "cell_type": "code",
   "execution_count": 13,
   "id": "07e6eeb4",
   "metadata": {},
   "outputs": [
    {
     "data": {
      "image/png": "[encoded data removed]",
      "text/plain": [
       "<Figure size 1500x800 with 1 Axes>"
      ]
     },
     "metadata": {},
     "output_type": "display_data"
    }
   ],
   "source": [
    "\n",
    "#step 1\n",
    "report41 = pd.DataFrame({'x':['EWR', 'LGA', 'JFK'],'y':data.groupby('origin')['arr_delay'].sum()})\n",
    "report42 = pd.DataFrame({'x':['EWR', 'LGA', 'JFK'],'y':data.groupby('origin')['dep_delay'].sum()})\n",
    "report41['hue'] = 'blue'\n",
    "report42['hue'] = 'orange'\n",
    "#step 2\n",
    "report4 = pd.concat([report41,report42])\n",
    "#step 3\n",
    "sns.barplot(x='x',y='y',data = report4, hue ='hue')\n",
    "#step 4\n",
    "a = Line2D([], [], color='blue', label='arrival delay')\n",
    "b = Line2D([], [], color='orange', label='departure delay')\n",
    "plt.legend(handles=[a, b])\n",
    "#step 5\n",
    "plt.show()"
   ]
  },
  {
   "cell_type": "markdown",
   "id": "90c6415f",
   "metadata": {},
   "source": [
    "#### From the above graph, it can be seen that among three places, flights originating from EWR experienced most arrival delays as well as departure delays in 2013\n",
    "_____________________________________________________________________________________________________________________________"
   ]
  },
  {
   "cell_type": "markdown",
   "id": "a44148d6",
   "metadata": {},
   "source": [
    "#### Report 5: Creating a vizualisaion to display top 5 carriers that experienced no arrival delays in 2013 and also displaying which carrier experienced zero delays the most\n",
    "Step 1: Creating a dataframe with zero arrival delays <br>\n",
    "Step 2: Modifying the dataframe to contain top 5 carriers with zero arrival delays <br>\n",
    "Step 3: Using Seaborn library to create barplot <br>\n",
    "Step 4: Adding labels to plot <br>\n",
    "Step 5: Adding data label"
   ]
  },
  {
   "cell_type": "code",
   "execution_count": 14,
   "id": "38c2f2ab",
   "metadata": {},
   "outputs": [
    {
     "data": {
      "text/plain": [
       "[Text(0, 0, '926'),\n",
       " Text(0, 0, '918'),\n",
       " Text(0, 0, '801'),\n",
       " Text(0, 0, '782'),\n",
       " Text(0, 0, '488')]"
      ]
     },
     "execution_count": 14,
     "metadata": {},
     "output_type": "execute_result"
    },
    {
     "data": {
      "image/png": "[encoded data removed]",
      "text/plain": [
       "<Figure size 1500x800 with 1 Axes>"
      ]
     },
     "metadata": {},
     "output_type": "display_data"
    }
   ],
   "source": [
    "#step 1\n",
    "report5 = data.query(\"arr_delay == 0\")\n",
    "#step 2\n",
    "report5 = report5.groupby(['carrier']).count().nlargest(5, 'arr_delay')\n",
    "report5.reset_index(inplace=True)\n",
    "#step 3\n",
    "ax5 = sns.barplot(x='carrier', y='arr_delay', data=report5, color = 'orange')\n",
    "#step 4\n",
    "plt.xlabel('carrier')\n",
    "plt.ylabel('Number of instances of zero arrival delay')\n",
    "#step 5 \n",
    "ax5.bar_label(ax5.containers[0])"
   ]
  },
  {
   "cell_type": "markdown",
   "id": "f414e129",
   "metadata": {},
   "source": [
    "#### The visual shows the top 5 carriers having zero arrival delays in 2013. The x axis shows the carrier name and y axis shows the number of times carrier experienced zero arrival delays. According to the graph, B6 carrier was on time the most number of time with highest number of zero arrival delays\n",
    "\n",
    "______________________________________________________________________________________________________________________________"
   ]
  },
  {
   "cell_type": "markdown",
   "id": "21eef4d0",
   "metadata": {},
   "source": [
    "### Task 3: Create a new dataset named (pop_data) with flight data from airlines UA (United Airlines) and DL (Delta Airlines). The data set must contain only two columns, company name and delayed arrival flights. The data must be extracted from dataset flights.csv to build the pop_data dataset. The dataset should be limited to no more than 20,000 rows per airlines.\n"
   ]
  },
  {
   "cell_type": "markdown",
   "id": "28c120da",
   "metadata": {},
   "source": [
    "#### Creating intermediate dataframe\n",
    "Step 1: Creating a dataset df1 that contains only two columns 'carrier' and 'arr_delay' <br>\n",
    "Step 2: Removing null values from the dataset by modifying datafarme df1 to contain not null values. (This is achieved by using negation operator '~' on dataframe obtained by 'isnull()' function. <br>\n",
    "Step 3: printing the intermediate dataframe "
   ]
  },
  {
   "cell_type": "code",
   "execution_count": 15,
   "id": "7b0a5cfd",
   "metadata": {},
   "outputs": [
    {
     "data": {
      "text/html": [
       "<div>\n",
       "<style scoped>\n",
       "    .dataframe tbody tr th:only-of-type {\n",
       "        vertical-align: middle;\n",
       "    }\n",
       "\n",
       "    .dataframe tbody tr th {\n",
       "        vertical-align: top;\n",
       "    }\n",
       "\n",
       "    .dataframe thead th {\n",
       "        text-align: right;\n",
       "    }\n",
       "</style>\n",
       "<table border=\"1\" class=\"dataframe\">\n",
       "  <thead>\n",
       "    <tr style=\"text-align: right;\">\n",
       "      <th></th>\n",
       "      <th>carrier</th>\n",
       "      <th>arr_delay</th>\n",
       "    </tr>\n",
       "  </thead>\n",
       "  <tbody>\n",
       "    <tr>\n",
       "      <th>0</th>\n",
       "      <td>UA</td>\n",
       "      <td>11.0</td>\n",
       "    </tr>\n",
       "    <tr>\n",
       "      <th>1</th>\n",
       "      <td>UA</td>\n",
       "      <td>20.0</td>\n",
       "    </tr>\n",
       "    <tr>\n",
       "      <th>2</th>\n",
       "      <td>AA</td>\n",
       "      <td>33.0</td>\n",
       "    </tr>\n",
       "    <tr>\n",
       "      <th>3</th>\n",
       "      <td>B6</td>\n",
       "      <td>-18.0</td>\n",
       "    </tr>\n",
       "    <tr>\n",
       "      <th>4</th>\n",
       "      <td>DL</td>\n",
       "      <td>-25.0</td>\n",
       "    </tr>\n",
       "    <tr>\n",
       "      <th>...</th>\n",
       "      <td>...</td>\n",
       "      <td>...</td>\n",
       "    </tr>\n",
       "    <tr>\n",
       "      <th>336765</th>\n",
       "      <td>B6</td>\n",
       "      <td>-17.0</td>\n",
       "    </tr>\n",
       "    <tr>\n",
       "      <th>336766</th>\n",
       "      <td>B6</td>\n",
       "      <td>-20.0</td>\n",
       "    </tr>\n",
       "    <tr>\n",
       "      <th>336767</th>\n",
       "      <td>B6</td>\n",
       "      <td>-16.0</td>\n",
       "    </tr>\n",
       "    <tr>\n",
       "      <th>336768</th>\n",
       "      <td>B6</td>\n",
       "      <td>1.0</td>\n",
       "    </tr>\n",
       "    <tr>\n",
       "      <th>336769</th>\n",
       "      <td>B6</td>\n",
       "      <td>-25.0</td>\n",
       "    </tr>\n",
       "  </tbody>\n",
       "</table>\n",
       "<p>327346 rows × 2 columns</p>\n",
       "</div>"
      ],
      "text/plain": [
       "       carrier  arr_delay\n",
       "0           UA       11.0\n",
       "1           UA       20.0\n",
       "2           AA       33.0\n",
       "3           B6      -18.0\n",
       "4           DL      -25.0\n",
       "...        ...        ...\n",
       "336765      B6      -17.0\n",
       "336766      B6      -20.0\n",
       "336767      B6      -16.0\n",
       "336768      B6        1.0\n",
       "336769      B6      -25.0\n",
       "\n",
       "[327346 rows x 2 columns]"
      ]
     },
     "metadata": {},
     "output_type": "display_data"
    }
   ],
   "source": [
    "#step 1\n",
    "df1 = data[['carrier', 'arr_delay']]\n",
    "#step 2\n",
    "df1 = df1[~df1['arr_delay'].isnull()]\n",
    "#step 3\n",
    "display(df1)"
   ]
  },
  {
   "cell_type": "markdown",
   "id": "6867ea45",
   "metadata": {},
   "source": [
    "#### Creating first filtered dataframe containing 20000 records for UA carrier\n",
    "step 1: Creating filtered dataframe df_UA where carrier is 'UA' <br>\n",
    "step 2: Creating sample dataset of 20000 records using sample function (replace = false to select distinct records. Also sample method allows to select different set of unique rows each time it is run) <br>\n",
    "step 3: Display the dataframe"
   ]
  },
  {
   "cell_type": "code",
   "execution_count": 16,
   "id": "4ae074d5",
   "metadata": {},
   "outputs": [
    {
     "data": {
      "text/html": [
       "<div>\n",
       "<style scoped>\n",
       "    .dataframe tbody tr th:only-of-type {\n",
       "        vertical-align: middle;\n",
       "    }\n",
       "\n",
       "    .dataframe tbody tr th {\n",
       "        vertical-align: top;\n",
       "    }\n",
       "\n",
       "    .dataframe thead th {\n",
       "        text-align: right;\n",
       "    }\n",
       "</style>\n",
       "<table border=\"1\" class=\"dataframe\">\n",
       "  <thead>\n",
       "    <tr style=\"text-align: right;\">\n",
       "      <th></th>\n",
       "      <th>carrier</th>\n",
       "      <th>arr_delay</th>\n",
       "    </tr>\n",
       "  </thead>\n",
       "  <tbody>\n",
       "    <tr>\n",
       "      <th>77580</th>\n",
       "      <td>UA</td>\n",
       "      <td>-8.0</td>\n",
       "    </tr>\n",
       "    <tr>\n",
       "      <th>46850</th>\n",
       "      <td>UA</td>\n",
       "      <td>-6.0</td>\n",
       "    </tr>\n",
       "    <tr>\n",
       "      <th>243325</th>\n",
       "      <td>UA</td>\n",
       "      <td>-6.0</td>\n",
       "    </tr>\n",
       "    <tr>\n",
       "      <th>277998</th>\n",
       "      <td>UA</td>\n",
       "      <td>14.0</td>\n",
       "    </tr>\n",
       "    <tr>\n",
       "      <th>130078</th>\n",
       "      <td>UA</td>\n",
       "      <td>-3.0</td>\n",
       "    </tr>\n",
       "    <tr>\n",
       "      <th>...</th>\n",
       "      <td>...</td>\n",
       "      <td>...</td>\n",
       "    </tr>\n",
       "    <tr>\n",
       "      <th>300354</th>\n",
       "      <td>UA</td>\n",
       "      <td>124.0</td>\n",
       "    </tr>\n",
       "    <tr>\n",
       "      <th>221317</th>\n",
       "      <td>UA</td>\n",
       "      <td>-2.0</td>\n",
       "    </tr>\n",
       "    <tr>\n",
       "      <th>100018</th>\n",
       "      <td>UA</td>\n",
       "      <td>-21.0</td>\n",
       "    </tr>\n",
       "    <tr>\n",
       "      <th>57796</th>\n",
       "      <td>UA</td>\n",
       "      <td>-9.0</td>\n",
       "    </tr>\n",
       "    <tr>\n",
       "      <th>325638</th>\n",
       "      <td>UA</td>\n",
       "      <td>-10.0</td>\n",
       "    </tr>\n",
       "  </tbody>\n",
       "</table>\n",
       "<p>20000 rows × 2 columns</p>\n",
       "</div>"
      ],
      "text/plain": [
       "       carrier  arr_delay\n",
       "77580       UA       -8.0\n",
       "46850       UA       -6.0\n",
       "243325      UA       -6.0\n",
       "277998      UA       14.0\n",
       "130078      UA       -3.0\n",
       "...        ...        ...\n",
       "300354      UA      124.0\n",
       "221317      UA       -2.0\n",
       "100018      UA      -21.0\n",
       "57796       UA       -9.0\n",
       "325638      UA      -10.0\n",
       "\n",
       "[20000 rows x 2 columns]"
      ]
     },
     "metadata": {},
     "output_type": "display_data"
    }
   ],
   "source": [
    "#step 1\n",
    "df_UA = df1[df1.carrier.isin([\"UA\"])]\n",
    "#step 2\n",
    "df_UA = df_UA.sample(n = 20000, replace = False)\n",
    "#step 3\n",
    "display(df_UA)"
   ]
  },
  {
   "cell_type": "markdown",
   "id": "2fd5e134",
   "metadata": {},
   "source": [
    "#### Creating second filtered dataframe containing 20000 records for UA carrier\n",
    "step 1: Creating filtered dataframe df_DL where carrier is 'DL' <br>\n",
    "step 2: Creating sample dataset of 20000 records using sample function (replace = false to select distinct records. Also sample method allows to select different set of unique rows each time it is run) <br>\n",
    "step 3: Display the dataframe"
   ]
  },
  {
   "cell_type": "code",
   "execution_count": 17,
   "id": "f99eb6f0",
   "metadata": {},
   "outputs": [
    {
     "data": {
      "text/html": [
       "<div>\n",
       "<style scoped>\n",
       "    .dataframe tbody tr th:only-of-type {\n",
       "        vertical-align: middle;\n",
       "    }\n",
       "\n",
       "    .dataframe tbody tr th {\n",
       "        vertical-align: top;\n",
       "    }\n",
       "\n",
       "    .dataframe thead th {\n",
       "        text-align: right;\n",
       "    }\n",
       "</style>\n",
       "<table border=\"1\" class=\"dataframe\">\n",
       "  <thead>\n",
       "    <tr style=\"text-align: right;\">\n",
       "      <th></th>\n",
       "      <th>carrier</th>\n",
       "      <th>arr_delay</th>\n",
       "    </tr>\n",
       "  </thead>\n",
       "  <tbody>\n",
       "    <tr>\n",
       "      <th>138140</th>\n",
       "      <td>DL</td>\n",
       "      <td>-24.0</td>\n",
       "    </tr>\n",
       "    <tr>\n",
       "      <th>227636</th>\n",
       "      <td>DL</td>\n",
       "      <td>17.0</td>\n",
       "    </tr>\n",
       "    <tr>\n",
       "      <th>278673</th>\n",
       "      <td>DL</td>\n",
       "      <td>-23.0</td>\n",
       "    </tr>\n",
       "    <tr>\n",
       "      <th>69969</th>\n",
       "      <td>DL</td>\n",
       "      <td>-12.0</td>\n",
       "    </tr>\n",
       "    <tr>\n",
       "      <th>210594</th>\n",
       "      <td>DL</td>\n",
       "      <td>46.0</td>\n",
       "    </tr>\n",
       "    <tr>\n",
       "      <th>...</th>\n",
       "      <td>...</td>\n",
       "      <td>...</td>\n",
       "    </tr>\n",
       "    <tr>\n",
       "      <th>27674</th>\n",
       "      <td>DL</td>\n",
       "      <td>-14.0</td>\n",
       "    </tr>\n",
       "    <tr>\n",
       "      <th>229808</th>\n",
       "      <td>DL</td>\n",
       "      <td>-9.0</td>\n",
       "    </tr>\n",
       "    <tr>\n",
       "      <th>209759</th>\n",
       "      <td>DL</td>\n",
       "      <td>-16.0</td>\n",
       "    </tr>\n",
       "    <tr>\n",
       "      <th>55843</th>\n",
       "      <td>DL</td>\n",
       "      <td>-5.0</td>\n",
       "    </tr>\n",
       "    <tr>\n",
       "      <th>89823</th>\n",
       "      <td>DL</td>\n",
       "      <td>-19.0</td>\n",
       "    </tr>\n",
       "  </tbody>\n",
       "</table>\n",
       "<p>20000 rows × 2 columns</p>\n",
       "</div>"
      ],
      "text/plain": [
       "       carrier  arr_delay\n",
       "138140      DL      -24.0\n",
       "227636      DL       17.0\n",
       "278673      DL      -23.0\n",
       "69969       DL      -12.0\n",
       "210594      DL       46.0\n",
       "...        ...        ...\n",
       "27674       DL      -14.0\n",
       "229808      DL       -9.0\n",
       "209759      DL      -16.0\n",
       "55843       DL       -5.0\n",
       "89823       DL      -19.0\n",
       "\n",
       "[20000 rows x 2 columns]"
      ]
     },
     "metadata": {},
     "output_type": "display_data"
    }
   ],
   "source": [
    "#step 1\n",
    "df_DL = df1[df1.carrier.isin([\"DL\"])]\n",
    "#step 2\n",
    "df_DL = df_DL.sample(n = 20000, replace = False)\n",
    "#step 3\n",
    "display(df_DL)"
   ]
  },
  {
   "cell_type": "markdown",
   "id": "aa61ca4e",
   "metadata": {},
   "source": [
    "#### Creating pop_data dataframe\n",
    "Step 1: Appending df_DL at end of df_UA <br>\n",
    "Step 2: Displaying the Dataframe"
   ]
  },
  {
   "cell_type": "code",
   "execution_count": 18,
   "id": "9603acd2",
   "metadata": {},
   "outputs": [
    {
     "data": {
      "text/html": [
       "<div>\n",
       "<style scoped>\n",
       "    .dataframe tbody tr th:only-of-type {\n",
       "        vertical-align: middle;\n",
       "    }\n",
       "\n",
       "    .dataframe tbody tr th {\n",
       "        vertical-align: top;\n",
       "    }\n",
       "\n",
       "    .dataframe thead th {\n",
       "        text-align: right;\n",
       "    }\n",
       "</style>\n",
       "<table border=\"1\" class=\"dataframe\">\n",
       "  <thead>\n",
       "    <tr style=\"text-align: right;\">\n",
       "      <th></th>\n",
       "      <th>carrier</th>\n",
       "      <th>arr_delay</th>\n",
       "    </tr>\n",
       "  </thead>\n",
       "  <tbody>\n",
       "    <tr>\n",
       "      <th>77580</th>\n",
       "      <td>UA</td>\n",
       "      <td>-8.0</td>\n",
       "    </tr>\n",
       "    <tr>\n",
       "      <th>46850</th>\n",
       "      <td>UA</td>\n",
       "      <td>-6.0</td>\n",
       "    </tr>\n",
       "    <tr>\n",
       "      <th>243325</th>\n",
       "      <td>UA</td>\n",
       "      <td>-6.0</td>\n",
       "    </tr>\n",
       "    <tr>\n",
       "      <th>277998</th>\n",
       "      <td>UA</td>\n",
       "      <td>14.0</td>\n",
       "    </tr>\n",
       "    <tr>\n",
       "      <th>130078</th>\n",
       "      <td>UA</td>\n",
       "      <td>-3.0</td>\n",
       "    </tr>\n",
       "    <tr>\n",
       "      <th>...</th>\n",
       "      <td>...</td>\n",
       "      <td>...</td>\n",
       "    </tr>\n",
       "    <tr>\n",
       "      <th>27674</th>\n",
       "      <td>DL</td>\n",
       "      <td>-14.0</td>\n",
       "    </tr>\n",
       "    <tr>\n",
       "      <th>229808</th>\n",
       "      <td>DL</td>\n",
       "      <td>-9.0</td>\n",
       "    </tr>\n",
       "    <tr>\n",
       "      <th>209759</th>\n",
       "      <td>DL</td>\n",
       "      <td>-16.0</td>\n",
       "    </tr>\n",
       "    <tr>\n",
       "      <th>55843</th>\n",
       "      <td>DL</td>\n",
       "      <td>-5.0</td>\n",
       "    </tr>\n",
       "    <tr>\n",
       "      <th>89823</th>\n",
       "      <td>DL</td>\n",
       "      <td>-19.0</td>\n",
       "    </tr>\n",
       "  </tbody>\n",
       "</table>\n",
       "<p>40000 rows × 2 columns</p>\n",
       "</div>"
      ],
      "text/plain": [
       "       carrier  arr_delay\n",
       "77580       UA       -8.0\n",
       "46850       UA       -6.0\n",
       "243325      UA       -6.0\n",
       "277998      UA       14.0\n",
       "130078      UA       -3.0\n",
       "...        ...        ...\n",
       "27674       DL      -14.0\n",
       "229808      DL       -9.0\n",
       "209759      DL      -16.0\n",
       "55843       DL       -5.0\n",
       "89823       DL      -19.0\n",
       "\n",
       "[40000 rows x 2 columns]"
      ]
     },
     "metadata": {},
     "output_type": "display_data"
    }
   ],
   "source": [
    "#step 1\n",
    "pop_data = df_UA.append(df_DL)\n",
    "#step 2\n",
    "display(pop_data)"
   ]
  },
  {
   "cell_type": "markdown",
   "id": "8194b221",
   "metadata": {},
   "source": [
    "### Task 4: Create two new datasets (“dl” and “ua”) of 1000 observations each from the “pop_data” dataset only with data from the DL (Delta Airlines) for “dl” and only data from UA (United Airlines) for “ua” . Tip: Include a column called sample_id populated with number 1 for the first sample and 2 for the second sample"
   ]
  },
  {
   "cell_type": "markdown",
   "id": "0fcf296f",
   "metadata": {},
   "source": [
    "#### Creating sample_id column\n",
    "Step 1: Creating sample_id column with its value = 1 for UA carrier and its value = 2 for DL carrier <br>\n",
    "Step 2: Displaying pop_data with new added coumn"
   ]
  },
  {
   "cell_type": "code",
   "execution_count": 19,
   "id": "c4650454",
   "metadata": {},
   "outputs": [
    {
     "data": {
      "text/html": [
       "<div>\n",
       "<style scoped>\n",
       "    .dataframe tbody tr th:only-of-type {\n",
       "        vertical-align: middle;\n",
       "    }\n",
       "\n",
       "    .dataframe tbody tr th {\n",
       "        vertical-align: top;\n",
       "    }\n",
       "\n",
       "    .dataframe thead th {\n",
       "        text-align: right;\n",
       "    }\n",
       "</style>\n",
       "<table border=\"1\" class=\"dataframe\">\n",
       "  <thead>\n",
       "    <tr style=\"text-align: right;\">\n",
       "      <th></th>\n",
       "      <th>carrier</th>\n",
       "      <th>arr_delay</th>\n",
       "      <th>sample_id</th>\n",
       "    </tr>\n",
       "  </thead>\n",
       "  <tbody>\n",
       "    <tr>\n",
       "      <th>77580</th>\n",
       "      <td>UA</td>\n",
       "      <td>-8.0</td>\n",
       "      <td>1</td>\n",
       "    </tr>\n",
       "    <tr>\n",
       "      <th>46850</th>\n",
       "      <td>UA</td>\n",
       "      <td>-6.0</td>\n",
       "      <td>1</td>\n",
       "    </tr>\n",
       "    <tr>\n",
       "      <th>243325</th>\n",
       "      <td>UA</td>\n",
       "      <td>-6.0</td>\n",
       "      <td>1</td>\n",
       "    </tr>\n",
       "    <tr>\n",
       "      <th>277998</th>\n",
       "      <td>UA</td>\n",
       "      <td>14.0</td>\n",
       "      <td>1</td>\n",
       "    </tr>\n",
       "    <tr>\n",
       "      <th>130078</th>\n",
       "      <td>UA</td>\n",
       "      <td>-3.0</td>\n",
       "      <td>1</td>\n",
       "    </tr>\n",
       "    <tr>\n",
       "      <th>...</th>\n",
       "      <td>...</td>\n",
       "      <td>...</td>\n",
       "      <td>...</td>\n",
       "    </tr>\n",
       "    <tr>\n",
       "      <th>27674</th>\n",
       "      <td>DL</td>\n",
       "      <td>-14.0</td>\n",
       "      <td>2</td>\n",
       "    </tr>\n",
       "    <tr>\n",
       "      <th>229808</th>\n",
       "      <td>DL</td>\n",
       "      <td>-9.0</td>\n",
       "      <td>2</td>\n",
       "    </tr>\n",
       "    <tr>\n",
       "      <th>209759</th>\n",
       "      <td>DL</td>\n",
       "      <td>-16.0</td>\n",
       "      <td>2</td>\n",
       "    </tr>\n",
       "    <tr>\n",
       "      <th>55843</th>\n",
       "      <td>DL</td>\n",
       "      <td>-5.0</td>\n",
       "      <td>2</td>\n",
       "    </tr>\n",
       "    <tr>\n",
       "      <th>89823</th>\n",
       "      <td>DL</td>\n",
       "      <td>-19.0</td>\n",
       "      <td>2</td>\n",
       "    </tr>\n",
       "  </tbody>\n",
       "</table>\n",
       "<p>40000 rows × 3 columns</p>\n",
       "</div>"
      ],
      "text/plain": [
       "       carrier  arr_delay  sample_id\n",
       "77580       UA       -8.0          1\n",
       "46850       UA       -6.0          1\n",
       "243325      UA       -6.0          1\n",
       "277998      UA       14.0          1\n",
       "130078      UA       -3.0          1\n",
       "...        ...        ...        ...\n",
       "27674       DL      -14.0          2\n",
       "229808      DL       -9.0          2\n",
       "209759      DL      -16.0          2\n",
       "55843       DL       -5.0          2\n",
       "89823       DL      -19.0          2\n",
       "\n",
       "[40000 rows x 3 columns]"
      ]
     },
     "execution_count": 19,
     "metadata": {},
     "output_type": "execute_result"
    }
   ],
   "source": [
    "pop_data['sample_id'] = [1 if x =='UA' else 2 for x in pop_data['carrier']]\n",
    "pop_data"
   ]
  },
  {
   "cell_type": "markdown",
   "id": "4f76963b",
   "metadata": {},
   "source": [
    "#### Creating ua dataframe\n",
    "Step 1: Creating ua dataframe by selecting records with sample_id = 1 <br>\n",
    "Step 2: Selecting 1000 distinct records randomly for ua dataframe using sample function <br>\n",
    "Step 3: Displaying ua dataframe"
   ]
  },
  {
   "cell_type": "code",
   "execution_count": 20,
   "id": "dd80e8bb",
   "metadata": {},
   "outputs": [
    {
     "data": {
      "text/html": [
       "<div>\n",
       "<style scoped>\n",
       "    .dataframe tbody tr th:only-of-type {\n",
       "        vertical-align: middle;\n",
       "    }\n",
       "\n",
       "    .dataframe tbody tr th {\n",
       "        vertical-align: top;\n",
       "    }\n",
       "\n",
       "    .dataframe thead th {\n",
       "        text-align: right;\n",
       "    }\n",
       "</style>\n",
       "<table border=\"1\" class=\"dataframe\">\n",
       "  <thead>\n",
       "    <tr style=\"text-align: right;\">\n",
       "      <th></th>\n",
       "      <th>carrier</th>\n",
       "      <th>arr_delay</th>\n",
       "      <th>sample_id</th>\n",
       "    </tr>\n",
       "  </thead>\n",
       "  <tbody>\n",
       "    <tr>\n",
       "      <th>6428</th>\n",
       "      <td>UA</td>\n",
       "      <td>1.0</td>\n",
       "      <td>1</td>\n",
       "    </tr>\n",
       "    <tr>\n",
       "      <th>14229</th>\n",
       "      <td>UA</td>\n",
       "      <td>20.0</td>\n",
       "      <td>1</td>\n",
       "    </tr>\n",
       "    <tr>\n",
       "      <th>132633</th>\n",
       "      <td>UA</td>\n",
       "      <td>-22.0</td>\n",
       "      <td>1</td>\n",
       "    </tr>\n",
       "    <tr>\n",
       "      <th>275015</th>\n",
       "      <td>UA</td>\n",
       "      <td>0.0</td>\n",
       "      <td>1</td>\n",
       "    </tr>\n",
       "    <tr>\n",
       "      <th>297101</th>\n",
       "      <td>UA</td>\n",
       "      <td>-25.0</td>\n",
       "      <td>1</td>\n",
       "    </tr>\n",
       "    <tr>\n",
       "      <th>...</th>\n",
       "      <td>...</td>\n",
       "      <td>...</td>\n",
       "      <td>...</td>\n",
       "    </tr>\n",
       "    <tr>\n",
       "      <th>287010</th>\n",
       "      <td>UA</td>\n",
       "      <td>-15.0</td>\n",
       "      <td>1</td>\n",
       "    </tr>\n",
       "    <tr>\n",
       "      <th>92619</th>\n",
       "      <td>UA</td>\n",
       "      <td>9.0</td>\n",
       "      <td>1</td>\n",
       "    </tr>\n",
       "    <tr>\n",
       "      <th>264359</th>\n",
       "      <td>UA</td>\n",
       "      <td>12.0</td>\n",
       "      <td>1</td>\n",
       "    </tr>\n",
       "    <tr>\n",
       "      <th>108585</th>\n",
       "      <td>UA</td>\n",
       "      <td>42.0</td>\n",
       "      <td>1</td>\n",
       "    </tr>\n",
       "    <tr>\n",
       "      <th>193858</th>\n",
       "      <td>UA</td>\n",
       "      <td>-19.0</td>\n",
       "      <td>1</td>\n",
       "    </tr>\n",
       "  </tbody>\n",
       "</table>\n",
       "<p>1000 rows × 3 columns</p>\n",
       "</div>"
      ],
      "text/plain": [
       "       carrier  arr_delay  sample_id\n",
       "6428        UA        1.0          1\n",
       "14229       UA       20.0          1\n",
       "132633      UA      -22.0          1\n",
       "275015      UA        0.0          1\n",
       "297101      UA      -25.0          1\n",
       "...        ...        ...        ...\n",
       "287010      UA      -15.0          1\n",
       "92619       UA        9.0          1\n",
       "264359      UA       12.0          1\n",
       "108585      UA       42.0          1\n",
       "193858      UA      -19.0          1\n",
       "\n",
       "[1000 rows x 3 columns]"
      ]
     },
     "metadata": {},
     "output_type": "display_data"
    }
   ],
   "source": [
    "#step 1\n",
    "ua = pop_data.loc[pop_data['sample_id'] == 1]\n",
    "#step 2\n",
    "ua = ua.sample(n = 1000, replace = False)\n",
    "#step 3\n",
    "display(ua)"
   ]
  },
  {
   "cell_type": "markdown",
   "id": "633a31f7",
   "metadata": {},
   "source": [
    "#### Creating dl dataframe\n",
    "Step 1: Creating dl dataframe by selecting records with sample_id = 2 <br>\n",
    "Step 2: Selecting 1000 distinct records randomly for dl dataframe using sample function <br>\n",
    "Step 3: Displaying dl dataframe"
   ]
  },
  {
   "cell_type": "code",
   "execution_count": 21,
   "id": "cff747fd",
   "metadata": {},
   "outputs": [
    {
     "data": {
      "text/html": [
       "<div>\n",
       "<style scoped>\n",
       "    .dataframe tbody tr th:only-of-type {\n",
       "        vertical-align: middle;\n",
       "    }\n",
       "\n",
       "    .dataframe tbody tr th {\n",
       "        vertical-align: top;\n",
       "    }\n",
       "\n",
       "    .dataframe thead th {\n",
       "        text-align: right;\n",
       "    }\n",
       "</style>\n",
       "<table border=\"1\" class=\"dataframe\">\n",
       "  <thead>\n",
       "    <tr style=\"text-align: right;\">\n",
       "      <th></th>\n",
       "      <th>carrier</th>\n",
       "      <th>arr_delay</th>\n",
       "      <th>sample_id</th>\n",
       "    </tr>\n",
       "  </thead>\n",
       "  <tbody>\n",
       "    <tr>\n",
       "      <th>111370</th>\n",
       "      <td>DL</td>\n",
       "      <td>-22.0</td>\n",
       "      <td>2</td>\n",
       "    </tr>\n",
       "    <tr>\n",
       "      <th>272696</th>\n",
       "      <td>DL</td>\n",
       "      <td>-3.0</td>\n",
       "      <td>2</td>\n",
       "    </tr>\n",
       "    <tr>\n",
       "      <th>55133</th>\n",
       "      <td>DL</td>\n",
       "      <td>-14.0</td>\n",
       "      <td>2</td>\n",
       "    </tr>\n",
       "    <tr>\n",
       "      <th>158995</th>\n",
       "      <td>DL</td>\n",
       "      <td>-1.0</td>\n",
       "      <td>2</td>\n",
       "    </tr>\n",
       "    <tr>\n",
       "      <th>288964</th>\n",
       "      <td>DL</td>\n",
       "      <td>-9.0</td>\n",
       "      <td>2</td>\n",
       "    </tr>\n",
       "    <tr>\n",
       "      <th>...</th>\n",
       "      <td>...</td>\n",
       "      <td>...</td>\n",
       "      <td>...</td>\n",
       "    </tr>\n",
       "    <tr>\n",
       "      <th>15006</th>\n",
       "      <td>DL</td>\n",
       "      <td>-1.0</td>\n",
       "      <td>2</td>\n",
       "    </tr>\n",
       "    <tr>\n",
       "      <th>313573</th>\n",
       "      <td>DL</td>\n",
       "      <td>-15.0</td>\n",
       "      <td>2</td>\n",
       "    </tr>\n",
       "    <tr>\n",
       "      <th>234827</th>\n",
       "      <td>DL</td>\n",
       "      <td>-7.0</td>\n",
       "      <td>2</td>\n",
       "    </tr>\n",
       "    <tr>\n",
       "      <th>181885</th>\n",
       "      <td>DL</td>\n",
       "      <td>24.0</td>\n",
       "      <td>2</td>\n",
       "    </tr>\n",
       "    <tr>\n",
       "      <th>150109</th>\n",
       "      <td>DL</td>\n",
       "      <td>9.0</td>\n",
       "      <td>2</td>\n",
       "    </tr>\n",
       "  </tbody>\n",
       "</table>\n",
       "<p>1000 rows × 3 columns</p>\n",
       "</div>"
      ],
      "text/plain": [
       "       carrier  arr_delay  sample_id\n",
       "111370      DL      -22.0          2\n",
       "272696      DL       -3.0          2\n",
       "55133       DL      -14.0          2\n",
       "158995      DL       -1.0          2\n",
       "288964      DL       -9.0          2\n",
       "...        ...        ...        ...\n",
       "15006       DL       -1.0          2\n",
       "313573      DL      -15.0          2\n",
       "234827      DL       -7.0          2\n",
       "181885      DL       24.0          2\n",
       "150109      DL        9.0          2\n",
       "\n",
       "[1000 rows x 3 columns]"
      ]
     },
     "metadata": {},
     "output_type": "display_data"
    }
   ],
   "source": [
    "#step 1\n",
    "dl = pop_data.loc[pop_data['sample_id'] == 2]\n",
    "#step 2\n",
    "dl = dl.sample(n = 1000, replace = False)\n",
    "#step 3\n",
    "display(dl)"
   ]
  },
  {
   "cell_type": "markdown",
   "id": "b5283663",
   "metadata": {},
   "source": [
    "### Task 5: Create a new dataset (samples) containing the data of the 2 samples created in the previous item to be used in future analysis."
   ]
  },
  {
   "cell_type": "markdown",
   "id": "27493a8d",
   "metadata": {},
   "source": [
    "#### Creating samples dataframe\n",
    "Step 1: Appending dl at end of ua <br>\n",
    "Step 2: Displaying the Dataframe"
   ]
  },
  {
   "cell_type": "code",
   "execution_count": 22,
   "id": "19fe9bac",
   "metadata": {},
   "outputs": [
    {
     "data": {
      "text/html": [
       "<div>\n",
       "<style scoped>\n",
       "    .dataframe tbody tr th:only-of-type {\n",
       "        vertical-align: middle;\n",
       "    }\n",
       "\n",
       "    .dataframe tbody tr th {\n",
       "        vertical-align: top;\n",
       "    }\n",
       "\n",
       "    .dataframe thead th {\n",
       "        text-align: right;\n",
       "    }\n",
       "</style>\n",
       "<table border=\"1\" class=\"dataframe\">\n",
       "  <thead>\n",
       "    <tr style=\"text-align: right;\">\n",
       "      <th></th>\n",
       "      <th>carrier</th>\n",
       "      <th>arr_delay</th>\n",
       "      <th>sample_id</th>\n",
       "    </tr>\n",
       "  </thead>\n",
       "  <tbody>\n",
       "    <tr>\n",
       "      <th>6428</th>\n",
       "      <td>UA</td>\n",
       "      <td>1.0</td>\n",
       "      <td>1</td>\n",
       "    </tr>\n",
       "    <tr>\n",
       "      <th>14229</th>\n",
       "      <td>UA</td>\n",
       "      <td>20.0</td>\n",
       "      <td>1</td>\n",
       "    </tr>\n",
       "    <tr>\n",
       "      <th>132633</th>\n",
       "      <td>UA</td>\n",
       "      <td>-22.0</td>\n",
       "      <td>1</td>\n",
       "    </tr>\n",
       "    <tr>\n",
       "      <th>275015</th>\n",
       "      <td>UA</td>\n",
       "      <td>0.0</td>\n",
       "      <td>1</td>\n",
       "    </tr>\n",
       "    <tr>\n",
       "      <th>297101</th>\n",
       "      <td>UA</td>\n",
       "      <td>-25.0</td>\n",
       "      <td>1</td>\n",
       "    </tr>\n",
       "    <tr>\n",
       "      <th>...</th>\n",
       "      <td>...</td>\n",
       "      <td>...</td>\n",
       "      <td>...</td>\n",
       "    </tr>\n",
       "    <tr>\n",
       "      <th>15006</th>\n",
       "      <td>DL</td>\n",
       "      <td>-1.0</td>\n",
       "      <td>2</td>\n",
       "    </tr>\n",
       "    <tr>\n",
       "      <th>313573</th>\n",
       "      <td>DL</td>\n",
       "      <td>-15.0</td>\n",
       "      <td>2</td>\n",
       "    </tr>\n",
       "    <tr>\n",
       "      <th>234827</th>\n",
       "      <td>DL</td>\n",
       "      <td>-7.0</td>\n",
       "      <td>2</td>\n",
       "    </tr>\n",
       "    <tr>\n",
       "      <th>181885</th>\n",
       "      <td>DL</td>\n",
       "      <td>24.0</td>\n",
       "      <td>2</td>\n",
       "    </tr>\n",
       "    <tr>\n",
       "      <th>150109</th>\n",
       "      <td>DL</td>\n",
       "      <td>9.0</td>\n",
       "      <td>2</td>\n",
       "    </tr>\n",
       "  </tbody>\n",
       "</table>\n",
       "<p>2000 rows × 3 columns</p>\n",
       "</div>"
      ],
      "text/plain": [
       "       carrier  arr_delay  sample_id\n",
       "6428        UA        1.0          1\n",
       "14229       UA       20.0          1\n",
       "132633      UA      -22.0          1\n",
       "275015      UA        0.0          1\n",
       "297101      UA      -25.0          1\n",
       "...        ...        ...        ...\n",
       "15006       DL       -1.0          2\n",
       "313573      DL      -15.0          2\n",
       "234827      DL       -7.0          2\n",
       "181885      DL       24.0          2\n",
       "150109      DL        9.0          2\n",
       "\n",
       "[2000 rows x 3 columns]"
      ]
     },
     "metadata": {},
     "output_type": "display_data"
    }
   ],
   "source": [
    "#step 1\n",
    "samples = ua.append(dl)\n",
    "#step 2\n",
    "display(samples)"
   ]
  },
  {
   "cell_type": "markdown",
   "id": "6a4cc44d",
   "metadata": {},
   "source": [
    "### Task 6: For each sample (“dl” and “ua”) calculate the standard error and the mean."
   ]
  },
  {
   "cell_type": "markdown",
   "id": "bb999a5d",
   "metadata": {},
   "source": [
    "#### Calculating mean value of arrival dealys for ua and dl dataframe and displaying mean value"
   ]
  },
  {
   "cell_type": "code",
   "execution_count": 23,
   "id": "43d77e31",
   "metadata": {},
   "outputs": [
    {
     "name": "stdout",
     "output_type": "stream",
     "text": [
      "The mean arrival delays for UA Carrier is :  4.694\n",
      "The mean arrival delays for DL Carrier is :  1.138\n"
     ]
    }
   ],
   "source": [
    "#calculating mean\n",
    "mean_ua = statistics.mean(ua['arr_delay'])\n",
    "mean_dl = statistics.mean(dl['arr_delay'])\n",
    "\n",
    "#displaying mean\n",
    "print(\"The mean arrival delays for UA Carrier is : \",mean_ua)\n",
    "print(\"The mean arrival delays for DL Carrier is : \",mean_dl)\n"
   ]
  },
  {
   "cell_type": "markdown",
   "id": "1938bae7",
   "metadata": {},
   "source": [
    "#### Calculating standard error of arrival dealys for ua and dl dataframe and displaying the same"
   ]
  },
  {
   "cell_type": "code",
   "execution_count": 24,
   "id": "1d5d9c77",
   "metadata": {},
   "outputs": [
    {
     "name": "stdout",
     "output_type": "stream",
     "text": [
      "The standard error at mean for arrival delays for UA Carrier is :  1.4531855050584948\n",
      "The standard error at mean for arrival delays for DL Carrier is :  1.243311215576687\n"
     ]
    }
   ],
   "source": [
    "#calculating Standard error\n",
    "sem_ua = sem(ua['arr_delay'])\n",
    "sem_dl = sem(dl['arr_delay'])\n",
    "\n",
    "#displaying standard error\n",
    "print(\"The standard error at mean for arrival delays for UA Carrier is : \",sem_ua)\n",
    "print(\"The standard error at mean for arrival delays for DL Carrier is : \",sem_dl)\n"
   ]
  },
  {
   "cell_type": "markdown",
   "id": "f3e8daeb",
   "metadata": {},
   "source": [
    "### Task 7: For each mean calculated before we need to define the “confidence intervals” in this case 95% confidence interval. It means calculate lower and upper values."
   ]
  },
  {
   "cell_type": "markdown",
   "id": "71e24ce9",
   "metadata": {},
   "source": [
    "#### Calculating confidence interval\n",
    "t.interval method from scipy.stats will be used to define confidence intervals"
   ]
  },
  {
   "cell_type": "code",
   "execution_count": 25,
   "id": "316c57da",
   "metadata": {},
   "outputs": [
    {
     "data": {
      "text/plain": [
       "(1.8423538327055646, 7.545646167294436)"
      ]
     },
     "execution_count": 25,
     "metadata": {},
     "output_type": "execute_result"
    }
   ],
   "source": [
    "sp.t.interval(alpha = 0.95, df = len(ua['arr_delay'])-1, loc = mean_ua, scale = sem_ua)"
   ]
  },
  {
   "cell_type": "code",
   "execution_count": 26,
   "id": "f70f531d",
   "metadata": {},
   "outputs": [
    {
     "data": {
      "text/plain": [
       "(-1.3018011474183604, 3.57780114741836)"
      ]
     },
     "execution_count": 26,
     "metadata": {},
     "output_type": "execute_result"
    }
   ],
   "source": [
    "sp.t.interval(alpha = 0.95, df = len(dl['arr_delay'])-1, loc = mean_dl, scale = sem_dl)"
   ]
  },
  {
   "cell_type": "markdown",
   "id": "5d9f1273",
   "metadata": {},
   "source": [
    "#### Displaying Confidence intervals for UA and DL\n",
    "The following format will be used to display the values: <br>\n",
    "Lower value   Mean value   Upper value"
   ]
  },
  {
   "cell_type": "code",
   "execution_count": 27,
   "id": "fb7faf1b",
   "metadata": {},
   "outputs": [
    {
     "name": "stdout",
     "output_type": "stream",
     "text": [
      "UA Carrier : \n",
      "Lower value   Mean Value  Upper Value \n",
      "3.594         6.228       8.862  \n",
      "DL Carrier : \n",
      "Lower value   Mean Value  Upper Value \n",
      "-0.593        2.543       5.679  \n"
     ]
    }
   ],
   "source": [
    "print(\"UA Carrier : \")\n",
    "print(\"Lower value   Mean Value  Upper Value \")\n",
    "print(\"3.594         6.228       8.862  \")\n",
    "print(\"DL Carrier : \")\n",
    "print(\"Lower value   Mean Value  Upper Value \")\n",
    "print(\"-0.593        2.543       5.679  \")"
   ]
  },
  {
   "cell_type": "markdown",
   "id": "78c31b6b",
   "metadata": {},
   "source": [
    "### Task 8: After these set of previous calculations, it was requested that you take the T-TEST concept and apply in both datasets (“dl” and “ul”) to answer this question: Is it possible to say that Delta Airlines (DL) flights are delayed more than United Airlines (UA) flights ?"
   ]
  },
  {
   "cell_type": "markdown",
   "id": "78dcdde4",
   "metadata": {},
   "source": [
    "To test whether Delta Airlines (DL) flights are delayed more than United Airlines (UA) flights, two sample one tailed t test would be used: <br>\n",
    "The hypothesis is: <br>\n",
    "H0 (null hypothesis): DL flights are more delayed than UA <br>\n",
    "H1 (alternate hypothesis): UA flights are more delayed than DL <br>\n",
    "The hypothesis can be written as follows: <br>\n",
    "H0: DL - UA > 0 (DL: mean arrival delays with DL carrier, UA: mean arrival delays with UA carrier) <br>\n",
    "H1: DL - UA < 0 <br>\n",
    "ttest  method of reseachpy woud be used for interpretation"
   ]
  },
  {
   "cell_type": "code",
   "execution_count": 28,
   "id": "457669cc",
   "metadata": {},
   "outputs": [
    {
     "name": "stdout",
     "output_type": "stream",
     "text": [
      "   Variable       N   Mean         SD        SE  95% Conf.  Interval\n",
      "0        DL  1000.0  1.138  39.316953  1.243311  -1.301801  3.577801\n",
      "1        UA  1000.0  4.694  45.953761  1.453186   1.842354  7.545646\n",
      "2  combined  2000.0  2.916  42.790577  0.956826   1.039519  4.792481\n"
     ]
    }
   ],
   "source": [
    "summary, results_ttest = rp.ttest(group1= dl['arr_delay'], group1_name= \"DL\", group2= ua['arr_delay'], group2_name= \"UA\")\n",
    "print(summary)"
   ]
  },
  {
   "cell_type": "code",
   "execution_count": 29,
   "id": "ee3bc3a3",
   "metadata": {},
   "outputs": [
    {
     "name": "stdout",
     "output_type": "stream",
     "text": [
      "          Independent t-test    results\n",
      "0    Difference (DL - UA) =     -3.5560\n",
      "1      Degrees of freedom =   1998.0000\n",
      "2                       t =     -1.8594\n",
      "3   Two side test p value =      0.0631\n",
      "4  Difference < 0 p value =      0.0316\n",
      "5  Difference > 0 p value =      0.9684\n",
      "6               Cohen's d =     -0.0832\n",
      "7               Hedge's g =     -0.0831\n",
      "8          Glass's delta1 =     -0.0904\n",
      "9        Point-Biserial r =     -0.0416\n"
     ]
    }
   ],
   "source": [
    "print(results_ttest)"
   ]
  },
  {
   "cell_type": "markdown",
   "id": "f711917f",
   "metadata": {},
   "source": [
    "The p value associaed with Difference (DL-UA) > 0 is greater than 0.05 (significance level). Hence, we cannot reject null hypothesis (DL - UA > 0) and say that DL flights are more delayed than UA carrier flights.<br>\n",
    "Therefore, The mean arrival delay for DL carrier is more than  mean arrival delay for UA carrier according to T test"
   ]
  },
  {
   "cell_type": "markdown",
   "id": "c7677994",
   "metadata": {},
   "source": [
    "### Checking whether T Test is suitable to draw above conclusion\n",
    "The indepentent T-test is a parametric test used to test for a statistically significant difference in the means between 2 groups. As with all parametric tests, there are certain conditions that need to be met in order for the test results to be considered reliable.\n",
    "The following assumptions should be met before performing T test:\n",
    "-Population distributions are normal\n",
    "-Samples have equal variances\n",
    "-The two samples are independent\n",
    "Although both samples are independent. The other two conditions need to be checked"
   ]
  },
  {
   "cell_type": "markdown",
   "id": "74894520",
   "metadata": {},
   "source": [
    "#### Checking whether Population distributions are normal\n",
    "One of the assumptions is that the sampling distribution is normally distributed. This test of normality applies to the difference in values between the groups. One method for testing this assumption is the Shapiro-Wilk test. This can be completed using the shapiro() method from Scipy.stats."
   ]
  },
  {
   "cell_type": "code",
   "execution_count": 30,
   "id": "035d4b3c",
   "metadata": {},
   "outputs": [
    {
     "data": {
      "text/plain": [
       "ShapiroResult(statistic=0.8355467319488525, pvalue=7.009003086410712e-31)"
      ]
     },
     "execution_count": 30,
     "metadata": {},
     "output_type": "execute_result"
    }
   ],
   "source": [
    "sampling_difference = ua['arr_delay'].values - dl['arr_delay'].values\n",
    "stats.shapiro(sampling_difference)"
   ]
  },
  {
   "cell_type": "markdown",
   "id": "dfe15f3e",
   "metadata": {},
   "source": [
    "The above presents the results from well-known test of normality, the Shapiro-Wilk Test. The Shapiro-Wilk Test is more appropriate for small sample sizes (< 50 samples), but can also handle sample sizes as large as 2000. For this reason, we will use the Shapiro-Wilk test as our numerical means of assessing normality.\n",
    " \n",
    "If the Sig. value of the Shapiro-Wilk Test is greater than 0.05, the data is normal. If it is below 0.05, the data significantly deviate from a normal distribution. \n",
    "Since p value is below 0.05,  the sampling distribution is not normally distributed. This can be seen from following plot also:"
   ]
  },
  {
   "cell_type": "code",
   "execution_count": 31,
   "id": "8cc4c2cc",
   "metadata": {},
   "outputs": [
    {
     "data": {
      "image/png": "[encoded data removed]",
      "text/plain": [
       "<Figure size 2000x1000 with 1 Axes>"
      ]
     },
     "metadata": {},
     "output_type": "display_data"
    }
   ],
   "source": [
    "fig = plt.figure(figsize= (20, 10))\n",
    "ax = fig.add_subplot(111)\n",
    "\n",
    "normality_plot, stat = stats.probplot(sampling_difference, plot= plt, rvalue= True)\n",
    "ax.set_title(\"Probability plot of sampling difference\", fontsize= 20)\n",
    "ax.set\n",
    "\n",
    "plt.show()"
   ]
  },
  {
   "cell_type": "markdown",
   "id": "922917a5",
   "metadata": {},
   "source": [
    "The graph above shows data points stray from the line in an obvious non-linear fashion, the data are not normally distributed. Therefore,  t-test may not be the best statistical method to be used. "
   ]
  },
  {
   "cell_type": "markdown",
   "id": "33ecd04b",
   "metadata": {},
   "source": [
    "#### Checking whether Samples have equal variances\n",
    "One of the assumptions is that both groups have equal variances. One method for testing this assumption is the Levene's test of homogeneity of variances. This can be completed using the levene() method from Scipy.stats."
   ]
  },
  {
   "cell_type": "code",
   "execution_count": 32,
   "id": "e2a46c7d",
   "metadata": {},
   "outputs": [
    {
     "data": {
      "text/plain": [
       "LeveneResult(statistic=2.113276339858747, pvalue=0.14618343424608268)"
      ]
     },
     "execution_count": 32,
     "metadata": {},
     "output_type": "execute_result"
    }
   ],
   "source": [
    "stats.levene(ua['arr_delay'], dl['arr_delay'], center = 'mean')"
   ]
  },
  {
   "cell_type": "markdown",
   "id": "f1435f22",
   "metadata": {},
   "source": [
    "The test is significant which indicates the groups have a different amount of variation and that the t-test may not be the best statistical method to be used. Again, it may be worthwhile to check this assumption visually as well. "
   ]
  },
  {
   "cell_type": "code",
   "execution_count": 33,
   "id": "44ad790a",
   "metadata": {
    "scrolled": true
   },
   "outputs": [
    {
     "data": {
      "image/png": "[encoded data removed]",
      "text/plain": [
       "<Figure size 2000x1000 with 1 Axes>"
      ]
     },
     "metadata": {},
     "output_type": "display_data"
    }
   ],
   "source": [
    "fig = plt.figure(figsize= (20, 10))\n",
    "ax = fig.add_subplot(111)\n",
    "\n",
    "\n",
    "p_ua = plt.hist(ua['arr_delay'], label= \"UA\", density= True, alpha=0.75)\n",
    "p_dl = plt.hist(dl['arr_delay'], label= \"DL\", density= True, alpha=0.75) \n",
    "\n",
    "\n",
    "plt.suptitle(\"Distribution of arrival delay between UA and DL\", fontsize= 20)\n",
    "plt.xlabel(\"carrier\", fontsize= 16)\n",
    "plt.ylabel(\"Probability density\", fontsize= 16)\n",
    "\n",
    "plt.show()"
   ]
  },
  {
   "cell_type": "markdown",
   "id": "b00c3941",
   "metadata": {},
   "source": [
    "The graph indicates the groups have a different amount of variation and that the t-test may not be the best statistical method to be used. "
   ]
  },
  {
   "cell_type": "markdown",
   "id": "54cbfba0",
   "metadata": {},
   "source": [
    "### Therefore, T test cannot be used to say that Delta Airlines (DL) flights are delayed more than United Airlines (UA) flights as all assumptions of T test are not met"
   ]
  },
  {
   "cell_type": "code",
   "execution_count": null,
   "id": "969ba943",
   "metadata": {},
   "outputs": [],
   "source": []
  }
 ],
 "metadata": {
  "kernelspec": {
   "display_name": "Python 3 (ipykernel)",
   "language": "python",
   "name": "python3"
  },
  "language_info": {
   "codemirror_mode": {
    "name": "ipython",
    "version": 3
   },
   "file_extension": ".py",
   "mimetype": "text/x-python",
   "name": "python",
   "nbconvert_exporter": "python",
   "pygments_lexer": "ipython3",
   "version": "3.9.12"
  }
 },
 "nbformat": 4,
 "nbformat_minor": 5
}
