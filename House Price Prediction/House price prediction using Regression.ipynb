{
 "cells": [
  {
   "cell_type": "markdown",
   "id": "e5e0e854",
   "metadata": {},
   "source": [
    "## EX- 1\n",
    "\n",
    "#### By:\n",
    "#### Jasmeet Kaur\n",
    "\n",
    "\n",
    "_____________________________________________________________________________________________________________________________"
   ]
  },
  {
   "cell_type": "markdown",
   "id": "eb96d620",
   "metadata": {},
   "source": [
    "Table of Contents:\n",
    "1. Business Problem <br>\n",
    "2. Data Cleaning/ Data Wrangling <br>\n",
    "3. Exploratory Data Analysis (EDA) <br>\n",
    "4. Feature Engineering and Data Vizualisation <br>\n",
    "5. Regression Modelling <br>\n",
    "6. Measuring accuracy of the model <br>\n",
    "7. Summary <br>\n",
    "8. Conclusion"
   ]
  },
  {
   "cell_type": "markdown",
   "id": "8ab8333d",
   "metadata": {},
   "source": [
    "## 1. Business Problem\n",
    "A data science team is working on an important project related to forecasting house prices based on the high demand of the\n",
    "Ontario real estate market. It was requested that you prepare a study regarding this subject using regression models. This notebook gives an overview of applying linear regression techniques to predict house prices"
   ]
  },
  {
   "cell_type": "markdown",
   "id": "dce828ea",
   "metadata": {},
   "source": [
    "#### Installing and Importing required Libraries "
   ]
  },
  {
   "cell_type": "code",
   "execution_count": 1,
   "id": "b183e87b",
   "metadata": {},
   "outputs": [
    {
     "name": "stdout",
     "output_type": "stream",
     "text": [
      "Requirement already satisfied: sweetviz in c:\\users\\100902467\\anaconda3\\lib\\site-packages (2.1.4)\n",
      "Requirement already satisfied: tqdm>=4.43.0 in c:\\users\\100902467\\anaconda3\\lib\\site-packages (from sweetviz) (4.64.0)\n",
      "Requirement already satisfied: jinja2>=2.11.1 in c:\\users\\100902467\\anaconda3\\lib\\site-packages (from sweetviz) (2.11.3)\n",
      "Requirement already satisfied: matplotlib>=3.1.3 in c:\\users\\100902467\\anaconda3\\lib\\site-packages (from sweetviz) (3.5.1)\n",
      "Requirement already satisfied: scipy>=1.3.2 in c:\\users\\100902467\\anaconda3\\lib\\site-packages (from sweetviz) (1.7.3)\n",
      "Requirement already satisfied: numpy>=1.16.0 in c:\\users\\100902467\\anaconda3\\lib\\site-packages (from sweetviz) (1.21.5)\n",
      "Requirement already satisfied: importlib-resources>=1.2.0 in c:\\users\\100902467\\anaconda3\\lib\\site-packages (from sweetviz) (5.10.0)\n",
      "Requirement already satisfied: pandas!=1.0.0,!=1.0.1,!=1.0.2,>=0.25.3 in c:\\users\\100902467\\anaconda3\\lib\\site-packages (from sweetviz) (1.4.2)\n",
      "Requirement already satisfied: zipp>=3.1.0 in c:\\users\\100902467\\anaconda3\\lib\\site-packages (from importlib-resources>=1.2.0->sweetviz) (3.7.0)\n",
      "Requirement already satisfied: MarkupSafe>=0.23 in c:\\users\\100902467\\anaconda3\\lib\\site-packages (from jinja2>=2.11.1->sweetviz) (2.0.1)\n",
      "Requirement already satisfied: fonttools>=4.22.0 in c:\\users\\100902467\\anaconda3\\lib\\site-packages (from matplotlib>=3.1.3->sweetviz) (4.25.0)\n",
      "Requirement already satisfied: cycler>=0.10 in c:\\users\\100902467\\anaconda3\\lib\\site-packages (from matplotlib>=3.1.3->sweetviz) (0.11.0)\n",
      "Requirement already satisfied: pyparsing>=2.2.1 in c:\\users\\100902467\\anaconda3\\lib\\site-packages (from matplotlib>=3.1.3->sweetviz) (3.0.4)\n",
      "Requirement already satisfied: pillow>=6.2.0 in c:\\users\\100902467\\anaconda3\\lib\\site-packages (from matplotlib>=3.1.3->sweetviz) (9.0.1)\n",
      "Requirement already satisfied: python-dateutil>=2.7 in c:\\users\\100902467\\anaconda3\\lib\\site-packages (from matplotlib>=3.1.3->sweetviz) (2.8.2)\n",
      "Requirement already satisfied: kiwisolver>=1.0.1 in c:\\users\\100902467\\anaconda3\\lib\\site-packages (from matplotlib>=3.1.3->sweetviz) (1.3.2)\n",
      "Requirement already satisfied: packaging>=20.0 in c:\\users\\100902467\\anaconda3\\lib\\site-packages (from matplotlib>=3.1.3->sweetviz) (21.3)\n",
      "Requirement already satisfied: pytz>=2020.1 in c:\\users\\100902467\\anaconda3\\lib\\site-packages (from pandas!=1.0.0,!=1.0.1,!=1.0.2,>=0.25.3->sweetviz) (2021.3)\n",
      "Requirement already satisfied: six>=1.5 in c:\\users\\100902467\\anaconda3\\lib\\site-packages (from python-dateutil>=2.7->matplotlib>=3.1.3->sweetviz) (1.16.0)\n",
      "Requirement already satisfied: colorama in c:\\users\\100902467\\anaconda3\\lib\\site-packages (from tqdm>=4.43.0->sweetviz) (0.4.4)\n"
     ]
    }
   ],
   "source": [
    "!pip install sweetviz\n",
    "import sweetviz as sv\n",
    "import pandas as pd\n",
    "import numpy as np \n",
    "import matplotlib.pyplot as plt\n",
    "from sklearn.linear_model import LinearRegression\n",
    "from sklearn import metrics\n",
    "import seaborn as sb \n",
    "from sklearn.model_selection import train_test_split "
   ]
  },
  {
   "cell_type": "code",
   "execution_count": 2,
   "id": "2e4c0d95",
   "metadata": {},
   "outputs": [
    {
     "data": {
      "text/html": [
       "<div>\n",
       "<style scoped>\n",
       "    .dataframe tbody tr th:only-of-type {\n",
       "        vertical-align: middle;\n",
       "    }\n",
       "\n",
       "    .dataframe tbody tr th {\n",
       "        vertical-align: top;\n",
       "    }\n",
       "\n",
       "    .dataframe thead th {\n",
       "        text-align: right;\n",
       "    }\n",
       "</style>\n",
       "<table border=\"1\" class=\"dataframe\">\n",
       "  <thead>\n",
       "    <tr style=\"text-align: right;\">\n",
       "      <th></th>\n",
       "      <th>Unnamed: 0</th>\n",
       "      <th>Address</th>\n",
       "      <th>AreaName</th>\n",
       "      <th>Price ($)</th>\n",
       "    </tr>\n",
       "  </thead>\n",
       "  <tbody>\n",
       "    <tr>\n",
       "      <th>0</th>\n",
       "      <td>0</td>\n",
       "      <td>86 Waterford Dr Toronto, ON</td>\n",
       "      <td>Richview</td>\n",
       "      <td>$999,888.00</td>\n",
       "    </tr>\n",
       "    <tr>\n",
       "      <th>1</th>\n",
       "      <td>1</td>\n",
       "      <td>#80 - 100 BEDDOE DR Hamilton, ON</td>\n",
       "      <td>Chedoke Park B</td>\n",
       "      <td>$399,900.00</td>\n",
       "    </tr>\n",
       "    <tr>\n",
       "      <th>2</th>\n",
       "      <td>2</td>\n",
       "      <td>213 Bowman Street Hamilton, ON</td>\n",
       "      <td>Ainslie Wood East</td>\n",
       "      <td>$479,000.00</td>\n",
       "    </tr>\n",
       "    <tr>\n",
       "      <th>3</th>\n",
       "      <td>3</td>\n",
       "      <td>102 NEIL Avenue Hamilton, ON</td>\n",
       "      <td>Greenford</td>\n",
       "      <td>$285,900.00</td>\n",
       "    </tr>\n",
       "    <tr>\n",
       "      <th>4</th>\n",
       "      <td>6</td>\n",
       "      <td>#1409 - 230 King St Toronto, ON</td>\n",
       "      <td>Downtown</td>\n",
       "      <td>$362,000.00</td>\n",
       "    </tr>\n",
       "    <tr>\n",
       "      <th>...</th>\n",
       "      <td>...</td>\n",
       "      <td>...</td>\n",
       "      <td>...</td>\n",
       "      <td>...</td>\n",
       "    </tr>\n",
       "    <tr>\n",
       "      <th>25346</th>\n",
       "      <td>124922</td>\n",
       "      <td>3100 CARLING AVENUE UNIT#416 Ottawa, ON</td>\n",
       "      <td>Bayshore</td>\n",
       "      <td>$154,900.00</td>\n",
       "    </tr>\n",
       "    <tr>\n",
       "      <th>25347</th>\n",
       "      <td>124924</td>\n",
       "      <td>5827 GLADEWOODS PLACE Ottawa, ON</td>\n",
       "      <td>Orléans</td>\n",
       "      <td>$624,900.00</td>\n",
       "    </tr>\n",
       "    <tr>\n",
       "      <th>25348</th>\n",
       "      <td>124925</td>\n",
       "      <td>6349 DEERMEADOW DRIVE Ottawa, ON</td>\n",
       "      <td>Greely</td>\n",
       "      <td>$899,000.00</td>\n",
       "    </tr>\n",
       "    <tr>\n",
       "      <th>25349</th>\n",
       "      <td>124928</td>\n",
       "      <td>212 ALVIN ROAD Ottawa, ON</td>\n",
       "      <td>Rockcliffe - Manor Park</td>\n",
       "      <td>$295,000.00</td>\n",
       "    </tr>\n",
       "    <tr>\n",
       "      <th>25350</th>\n",
       "      <td>124929</td>\n",
       "      <td>BARTON Street BARTON Street Stoney Creek, ON</td>\n",
       "      <td>Stoney Creek</td>\n",
       "      <td>$1,595,000.00</td>\n",
       "    </tr>\n",
       "  </tbody>\n",
       "</table>\n",
       "<p>25351 rows × 4 columns</p>\n",
       "</div>"
      ],
      "text/plain": [
       "       Unnamed: 0                                       Address  \\\n",
       "0               0                   86 Waterford Dr Toronto, ON   \n",
       "1               1              #80 - 100 BEDDOE DR Hamilton, ON   \n",
       "2               2                213 Bowman Street Hamilton, ON   \n",
       "3               3                  102 NEIL Avenue Hamilton, ON   \n",
       "4               6               #1409 - 230 King St Toronto, ON   \n",
       "...           ...                                           ...   \n",
       "25346      124922       3100 CARLING AVENUE UNIT#416 Ottawa, ON   \n",
       "25347      124924              5827 GLADEWOODS PLACE Ottawa, ON   \n",
       "25348      124925              6349 DEERMEADOW DRIVE Ottawa, ON   \n",
       "25349      124928                     212 ALVIN ROAD Ottawa, ON   \n",
       "25350      124929  BARTON Street BARTON Street Stoney Creek, ON   \n",
       "\n",
       "                      AreaName      Price ($)  \n",
       "0                     Richview    $999,888.00  \n",
       "1               Chedoke Park B    $399,900.00  \n",
       "2            Ainslie Wood East    $479,000.00  \n",
       "3                    Greenford    $285,900.00  \n",
       "4                     Downtown    $362,000.00  \n",
       "...                        ...            ...  \n",
       "25346                 Bayshore    $154,900.00  \n",
       "25347                  Orléans    $624,900.00  \n",
       "25348                   Greely    $899,000.00  \n",
       "25349  Rockcliffe - Manor Park    $295,000.00  \n",
       "25350             Stoney Creek  $1,595,000.00  \n",
       "\n",
       "[25351 rows x 4 columns]"
      ]
     },
     "execution_count": 2,
     "metadata": {},
     "output_type": "execute_result"
    }
   ],
   "source": [
    "# Read the data set of flights\n",
    "dataset= pd.read_csv(\"C:/Users/100902467/Desktop/AI Algo/dataset.csv\")\n",
    "\n",
    "# Printing the data\n",
    "dataset"
   ]
  },
  {
   "cell_type": "markdown",
   "id": "aaff4f6b",
   "metadata": {},
   "source": [
    "### 2. Data Cleaning"
   ]
  },
  {
   "cell_type": "markdown",
   "id": "90d073b6",
   "metadata": {},
   "source": [
    "Droping null values of dataframe"
   ]
  },
  {
   "cell_type": "code",
   "execution_count": 3,
   "id": "63bd74a8",
   "metadata": {},
   "outputs": [],
   "source": [
    "dataset = dataset.dropna()"
   ]
  },
  {
   "cell_type": "code",
   "execution_count": 4,
   "id": "5101b4db",
   "metadata": {},
   "outputs": [
    {
     "data": {
      "text/html": [
       "<div>\n",
       "<style scoped>\n",
       "    .dataframe tbody tr th:only-of-type {\n",
       "        vertical-align: middle;\n",
       "    }\n",
       "\n",
       "    .dataframe tbody tr th {\n",
       "        vertical-align: top;\n",
       "    }\n",
       "\n",
       "    .dataframe thead th {\n",
       "        text-align: right;\n",
       "    }\n",
       "</style>\n",
       "<table border=\"1\" class=\"dataframe\">\n",
       "  <thead>\n",
       "    <tr style=\"text-align: right;\">\n",
       "      <th></th>\n",
       "      <th>Unnamed: 0</th>\n",
       "      <th>Address</th>\n",
       "      <th>AreaName</th>\n",
       "      <th>Price ($)</th>\n",
       "    </tr>\n",
       "  </thead>\n",
       "  <tbody>\n",
       "    <tr>\n",
       "      <th>0</th>\n",
       "      <td>0</td>\n",
       "      <td>86 Waterford Dr Toronto, ON</td>\n",
       "      <td>Richview</td>\n",
       "      <td>$999,888.00</td>\n",
       "    </tr>\n",
       "    <tr>\n",
       "      <th>1</th>\n",
       "      <td>1</td>\n",
       "      <td>#80 - 100 BEDDOE DR Hamilton, ON</td>\n",
       "      <td>Chedoke Park B</td>\n",
       "      <td>$399,900.00</td>\n",
       "    </tr>\n",
       "    <tr>\n",
       "      <th>2</th>\n",
       "      <td>2</td>\n",
       "      <td>213 Bowman Street Hamilton, ON</td>\n",
       "      <td>Ainslie Wood East</td>\n",
       "      <td>$479,000.00</td>\n",
       "    </tr>\n",
       "    <tr>\n",
       "      <th>3</th>\n",
       "      <td>3</td>\n",
       "      <td>102 NEIL Avenue Hamilton, ON</td>\n",
       "      <td>Greenford</td>\n",
       "      <td>$285,900.00</td>\n",
       "    </tr>\n",
       "    <tr>\n",
       "      <th>4</th>\n",
       "      <td>6</td>\n",
       "      <td>#1409 - 230 King St Toronto, ON</td>\n",
       "      <td>Downtown</td>\n",
       "      <td>$362,000.00</td>\n",
       "    </tr>\n",
       "    <tr>\n",
       "      <th>...</th>\n",
       "      <td>...</td>\n",
       "      <td>...</td>\n",
       "      <td>...</td>\n",
       "      <td>...</td>\n",
       "    </tr>\n",
       "    <tr>\n",
       "      <th>25346</th>\n",
       "      <td>124922</td>\n",
       "      <td>3100 CARLING AVENUE UNIT#416 Ottawa, ON</td>\n",
       "      <td>Bayshore</td>\n",
       "      <td>$154,900.00</td>\n",
       "    </tr>\n",
       "    <tr>\n",
       "      <th>25347</th>\n",
       "      <td>124924</td>\n",
       "      <td>5827 GLADEWOODS PLACE Ottawa, ON</td>\n",
       "      <td>Orléans</td>\n",
       "      <td>$624,900.00</td>\n",
       "    </tr>\n",
       "    <tr>\n",
       "      <th>25348</th>\n",
       "      <td>124925</td>\n",
       "      <td>6349 DEERMEADOW DRIVE Ottawa, ON</td>\n",
       "      <td>Greely</td>\n",
       "      <td>$899,000.00</td>\n",
       "    </tr>\n",
       "    <tr>\n",
       "      <th>25349</th>\n",
       "      <td>124928</td>\n",
       "      <td>212 ALVIN ROAD Ottawa, ON</td>\n",
       "      <td>Rockcliffe - Manor Park</td>\n",
       "      <td>$295,000.00</td>\n",
       "    </tr>\n",
       "    <tr>\n",
       "      <th>25350</th>\n",
       "      <td>124929</td>\n",
       "      <td>BARTON Street BARTON Street Stoney Creek, ON</td>\n",
       "      <td>Stoney Creek</td>\n",
       "      <td>$1,595,000.00</td>\n",
       "    </tr>\n",
       "  </tbody>\n",
       "</table>\n",
       "<p>24868 rows × 4 columns</p>\n",
       "</div>"
      ],
      "text/plain": [
       "       Unnamed: 0                                       Address  \\\n",
       "0               0                   86 Waterford Dr Toronto, ON   \n",
       "1               1              #80 - 100 BEDDOE DR Hamilton, ON   \n",
       "2               2                213 Bowman Street Hamilton, ON   \n",
       "3               3                  102 NEIL Avenue Hamilton, ON   \n",
       "4               6               #1409 - 230 King St Toronto, ON   \n",
       "...           ...                                           ...   \n",
       "25346      124922       3100 CARLING AVENUE UNIT#416 Ottawa, ON   \n",
       "25347      124924              5827 GLADEWOODS PLACE Ottawa, ON   \n",
       "25348      124925              6349 DEERMEADOW DRIVE Ottawa, ON   \n",
       "25349      124928                     212 ALVIN ROAD Ottawa, ON   \n",
       "25350      124929  BARTON Street BARTON Street Stoney Creek, ON   \n",
       "\n",
       "                      AreaName      Price ($)  \n",
       "0                     Richview    $999,888.00  \n",
       "1               Chedoke Park B    $399,900.00  \n",
       "2            Ainslie Wood East    $479,000.00  \n",
       "3                    Greenford    $285,900.00  \n",
       "4                     Downtown    $362,000.00  \n",
       "...                        ...            ...  \n",
       "25346                 Bayshore    $154,900.00  \n",
       "25347                  Orléans    $624,900.00  \n",
       "25348                   Greely    $899,000.00  \n",
       "25349  Rockcliffe - Manor Park    $295,000.00  \n",
       "25350             Stoney Creek  $1,595,000.00  \n",
       "\n",
       "[24868 rows x 4 columns]"
      ]
     },
     "execution_count": 4,
     "metadata": {},
     "output_type": "execute_result"
    }
   ],
   "source": [
    "dataset"
   ]
  },
  {
   "cell_type": "markdown",
   "id": "43200858",
   "metadata": {},
   "source": [
    "To perform regression analysis, the target variable i.e. Price ($) should be numeric.  Therefore the values of Price ($) variable must be formatted by removing $ sign and ','.  Also, changing Price ($) variable name to 'Price' to make it easily accessible"
   ]
  },
  {
   "cell_type": "code",
   "execution_count": 5,
   "id": "60f5c51e",
   "metadata": {},
   "outputs": [],
   "source": [
    "dataset = dataset.rename(columns = {'Price ($)':'Price'})"
   ]
  },
  {
   "cell_type": "code",
   "execution_count": 6,
   "id": "bc912f13",
   "metadata": {},
   "outputs": [
    {
     "data": {
      "text/html": [
       "<div>\n",
       "<style scoped>\n",
       "    .dataframe tbody tr th:only-of-type {\n",
       "        vertical-align: middle;\n",
       "    }\n",
       "\n",
       "    .dataframe tbody tr th {\n",
       "        vertical-align: top;\n",
       "    }\n",
       "\n",
       "    .dataframe thead th {\n",
       "        text-align: right;\n",
       "    }\n",
       "</style>\n",
       "<table border=\"1\" class=\"dataframe\">\n",
       "  <thead>\n",
       "    <tr style=\"text-align: right;\">\n",
       "      <th></th>\n",
       "      <th>Unnamed: 0</th>\n",
       "      <th>Address</th>\n",
       "      <th>AreaName</th>\n",
       "      <th>Price</th>\n",
       "    </tr>\n",
       "  </thead>\n",
       "  <tbody>\n",
       "    <tr>\n",
       "      <th>0</th>\n",
       "      <td>0</td>\n",
       "      <td>86 Waterford Dr Toronto, ON</td>\n",
       "      <td>Richview</td>\n",
       "      <td>$999,888.00</td>\n",
       "    </tr>\n",
       "    <tr>\n",
       "      <th>1</th>\n",
       "      <td>1</td>\n",
       "      <td>#80 - 100 BEDDOE DR Hamilton, ON</td>\n",
       "      <td>Chedoke Park B</td>\n",
       "      <td>$399,900.00</td>\n",
       "    </tr>\n",
       "    <tr>\n",
       "      <th>2</th>\n",
       "      <td>2</td>\n",
       "      <td>213 Bowman Street Hamilton, ON</td>\n",
       "      <td>Ainslie Wood East</td>\n",
       "      <td>$479,000.00</td>\n",
       "    </tr>\n",
       "    <tr>\n",
       "      <th>3</th>\n",
       "      <td>3</td>\n",
       "      <td>102 NEIL Avenue Hamilton, ON</td>\n",
       "      <td>Greenford</td>\n",
       "      <td>$285,900.00</td>\n",
       "    </tr>\n",
       "    <tr>\n",
       "      <th>4</th>\n",
       "      <td>6</td>\n",
       "      <td>#1409 - 230 King St Toronto, ON</td>\n",
       "      <td>Downtown</td>\n",
       "      <td>$362,000.00</td>\n",
       "    </tr>\n",
       "    <tr>\n",
       "      <th>...</th>\n",
       "      <td>...</td>\n",
       "      <td>...</td>\n",
       "      <td>...</td>\n",
       "      <td>...</td>\n",
       "    </tr>\n",
       "    <tr>\n",
       "      <th>25346</th>\n",
       "      <td>124922</td>\n",
       "      <td>3100 CARLING AVENUE UNIT#416 Ottawa, ON</td>\n",
       "      <td>Bayshore</td>\n",
       "      <td>$154,900.00</td>\n",
       "    </tr>\n",
       "    <tr>\n",
       "      <th>25347</th>\n",
       "      <td>124924</td>\n",
       "      <td>5827 GLADEWOODS PLACE Ottawa, ON</td>\n",
       "      <td>Orléans</td>\n",
       "      <td>$624,900.00</td>\n",
       "    </tr>\n",
       "    <tr>\n",
       "      <th>25348</th>\n",
       "      <td>124925</td>\n",
       "      <td>6349 DEERMEADOW DRIVE Ottawa, ON</td>\n",
       "      <td>Greely</td>\n",
       "      <td>$899,000.00</td>\n",
       "    </tr>\n",
       "    <tr>\n",
       "      <th>25349</th>\n",
       "      <td>124928</td>\n",
       "      <td>212 ALVIN ROAD Ottawa, ON</td>\n",
       "      <td>Rockcliffe - Manor Park</td>\n",
       "      <td>$295,000.00</td>\n",
       "    </tr>\n",
       "    <tr>\n",
       "      <th>25350</th>\n",
       "      <td>124929</td>\n",
       "      <td>BARTON Street BARTON Street Stoney Creek, ON</td>\n",
       "      <td>Stoney Creek</td>\n",
       "      <td>$1,595,000.00</td>\n",
       "    </tr>\n",
       "  </tbody>\n",
       "</table>\n",
       "<p>24868 rows × 4 columns</p>\n",
       "</div>"
      ],
      "text/plain": [
       "       Unnamed: 0                                       Address  \\\n",
       "0               0                   86 Waterford Dr Toronto, ON   \n",
       "1               1              #80 - 100 BEDDOE DR Hamilton, ON   \n",
       "2               2                213 Bowman Street Hamilton, ON   \n",
       "3               3                  102 NEIL Avenue Hamilton, ON   \n",
       "4               6               #1409 - 230 King St Toronto, ON   \n",
       "...           ...                                           ...   \n",
       "25346      124922       3100 CARLING AVENUE UNIT#416 Ottawa, ON   \n",
       "25347      124924              5827 GLADEWOODS PLACE Ottawa, ON   \n",
       "25348      124925              6349 DEERMEADOW DRIVE Ottawa, ON   \n",
       "25349      124928                     212 ALVIN ROAD Ottawa, ON   \n",
       "25350      124929  BARTON Street BARTON Street Stoney Creek, ON   \n",
       "\n",
       "                      AreaName          Price  \n",
       "0                     Richview    $999,888.00  \n",
       "1               Chedoke Park B    $399,900.00  \n",
       "2            Ainslie Wood East    $479,000.00  \n",
       "3                    Greenford    $285,900.00  \n",
       "4                     Downtown    $362,000.00  \n",
       "...                        ...            ...  \n",
       "25346                 Bayshore    $154,900.00  \n",
       "25347                  Orléans    $624,900.00  \n",
       "25348                   Greely    $899,000.00  \n",
       "25349  Rockcliffe - Manor Park    $295,000.00  \n",
       "25350             Stoney Creek  $1,595,000.00  \n",
       "\n",
       "[24868 rows x 4 columns]"
      ]
     },
     "execution_count": 6,
     "metadata": {},
     "output_type": "execute_result"
    }
   ],
   "source": [
    "dataset"
   ]
  },
  {
   "cell_type": "code",
   "execution_count": 7,
   "id": "9f7ba0a6",
   "metadata": {},
   "outputs": [
    {
     "name": "stderr",
     "output_type": "stream",
     "text": [
      "C:\\Users\\100902467\\AppData\\Local\\Temp\\ipykernel_6884\\1774869422.py:1: FutureWarning: The default value of regex will change from True to False in a future version.\n",
      "  dataset['Price'] = dataset['Price'].str.replace('[\\$\\,]',\"\")\n"
     ]
    }
   ],
   "source": [
    "dataset['Price'] = dataset['Price'].str.replace('[\\$\\,]',\"\")"
   ]
  },
  {
   "cell_type": "markdown",
   "id": "72bbf2a1",
   "metadata": {},
   "source": [
    "The Price attribute should contain numeric values. But by analysing the dataset, it can be seen that Price variable has ' -   ' value. Changing this value to 0. Also, changing the price values to integer type. This is important to create mean_price variable in the dataset. This is achieved by first changing object type of 'Price' variable to float and then to integer"
   ]
  },
  {
   "cell_type": "code",
   "execution_count": 8,
   "id": "690b3fa1",
   "metadata": {},
   "outputs": [],
   "source": [
    "dataset['Price'] = dataset['Price'].replace([' -   '], '0')"
   ]
  },
  {
   "cell_type": "code",
   "execution_count": 9,
   "id": "3c43ad3e",
   "metadata": {},
   "outputs": [],
   "source": [
    "dataset['Price'] = dataset['Price'].astype(float)"
   ]
  },
  {
   "cell_type": "code",
   "execution_count": 10,
   "id": "ab9bd4e9",
   "metadata": {},
   "outputs": [],
   "source": [
    "dataset['Price'] = dataset['Price'].apply(int)"
   ]
  },
  {
   "cell_type": "markdown",
   "id": "0f3c1d6d",
   "metadata": {},
   "source": [
    "Dropping Unnamed: 0 Column"
   ]
  },
  {
   "cell_type": "code",
   "execution_count": 11,
   "id": "6eb965b2",
   "metadata": {},
   "outputs": [],
   "source": [
    "dataset = dataset.drop(['Unnamed: 0'], axis = 1)"
   ]
  },
  {
   "cell_type": "markdown",
   "id": "59d5ec5f",
   "metadata": {},
   "source": [
    "### 3. Exploratory Data Analysis (EDA)"
   ]
  },
  {
   "cell_type": "markdown",
   "id": "e444d637",
   "metadata": {},
   "source": [
    "#### 3.1 Using sweetviz module to generate html report\n",
    "The analyze module will be used to generate report"
   ]
  },
  {
   "cell_type": "code",
   "execution_count": 12,
   "id": "43cdf106",
   "metadata": {},
   "outputs": [
    {
     "data": {
      "application/vnd.jupyter.widget-view+json": {
       "model_id": "b39ec941c5664978b8fd987d12fce676",
       "version_major": 2,
       "version_minor": 0
      },
      "text/plain": [
       "                                             |          | [  0%]   00:00 -> (? left)"
      ]
     },
     "metadata": {},
     "output_type": "display_data"
    },
    {
     "name": "stdout",
     "output_type": "stream",
     "text": [
      "Report SWEETVIZ_REPORT.html was generated! NOTEBOOK/COLAB USERS: the web browser MAY not pop up, regardless, the report IS saved in your notebook/colab files.\n"
     ]
    }
   ],
   "source": [
    "dataset_report = sv.analyze(dataset)\n",
    "dataset_report.show_html()"
   ]
  },
  {
   "cell_type": "markdown",
   "id": "2348556a",
   "metadata": {},
   "source": [
    "From the report, it can be seen that there are no missing values in our cleaned dataset. The Price has Range from 0 to 32.5M"
   ]
  },
  {
   "cell_type": "markdown",
   "id": "5efce6b7",
   "metadata": {},
   "source": [
    "#### 3.2 Displaying concise summary for variables\n",
    "Pandas dataframe.info() function is used to get a concise summary of the dataframe. It comes really handy when doing exploratory analysis of the data. It shows the data type of variables and count of non null values for the variables"
   ]
  },
  {
   "cell_type": "code",
   "execution_count": 13,
   "id": "efce1272",
   "metadata": {},
   "outputs": [
    {
     "name": "stdout",
     "output_type": "stream",
     "text": [
      "<class 'pandas.core.frame.DataFrame'>\n",
      "Int64Index: 24868 entries, 0 to 25350\n",
      "Data columns (total 3 columns):\n",
      " #   Column    Non-Null Count  Dtype \n",
      "---  ------    --------------  ----- \n",
      " 0   Address   24868 non-null  object\n",
      " 1   AreaName  24868 non-null  object\n",
      " 2   Price     24868 non-null  int64 \n",
      "dtypes: int64(1), object(2)\n",
      "memory usage: 777.1+ KB\n"
     ]
    }
   ],
   "source": [
    "dataset.info()"
   ]
  },
  {
   "cell_type": "markdown",
   "id": "a01a66e9",
   "metadata": {},
   "source": [
    "#### 3.3 Displaying Descriptive statistics\n",
    "Dataframe.describe() method is used for Descriptive statistics including those that summarize the central tendency, dispersion and shape of a dataset’s distribution, excluding NaN values"
   ]
  },
  {
   "cell_type": "code",
   "execution_count": 14,
   "id": "073b8217",
   "metadata": {},
   "outputs": [
    {
     "data": {
      "text/html": [
       "<div>\n",
       "<style scoped>\n",
       "    .dataframe tbody tr th:only-of-type {\n",
       "        vertical-align: middle;\n",
       "    }\n",
       "\n",
       "    .dataframe tbody tr th {\n",
       "        vertical-align: top;\n",
       "    }\n",
       "\n",
       "    .dataframe thead th {\n",
       "        text-align: right;\n",
       "    }\n",
       "</style>\n",
       "<table border=\"1\" class=\"dataframe\">\n",
       "  <thead>\n",
       "    <tr style=\"text-align: right;\">\n",
       "      <th></th>\n",
       "      <th>Price</th>\n",
       "    </tr>\n",
       "  </thead>\n",
       "  <tbody>\n",
       "    <tr>\n",
       "      <th>count</th>\n",
       "      <td>2.486800e+04</td>\n",
       "    </tr>\n",
       "    <tr>\n",
       "      <th>mean</th>\n",
       "      <td>5.669701e+05</td>\n",
       "    </tr>\n",
       "    <tr>\n",
       "      <th>std</th>\n",
       "      <td>8.533163e+05</td>\n",
       "    </tr>\n",
       "    <tr>\n",
       "      <th>min</th>\n",
       "      <td>0.000000e+00</td>\n",
       "    </tr>\n",
       "    <tr>\n",
       "      <th>25%</th>\n",
       "      <td>2.215000e+05</td>\n",
       "    </tr>\n",
       "    <tr>\n",
       "      <th>50%</th>\n",
       "      <td>3.749000e+05</td>\n",
       "    </tr>\n",
       "    <tr>\n",
       "      <th>75%</th>\n",
       "      <td>6.199000e+05</td>\n",
       "    </tr>\n",
       "    <tr>\n",
       "      <th>max</th>\n",
       "      <td>3.250000e+07</td>\n",
       "    </tr>\n",
       "  </tbody>\n",
       "</table>\n",
       "</div>"
      ],
      "text/plain": [
       "              Price\n",
       "count  2.486800e+04\n",
       "mean   5.669701e+05\n",
       "std    8.533163e+05\n",
       "min    0.000000e+00\n",
       "25%    2.215000e+05\n",
       "50%    3.749000e+05\n",
       "75%    6.199000e+05\n",
       "max    3.250000e+07"
      ]
     },
     "execution_count": 14,
     "metadata": {},
     "output_type": "execute_result"
    }
   ],
   "source": [
    "dataset.describe()"
   ]
  },
  {
   "cell_type": "markdown",
   "id": "a712e5f7",
   "metadata": {},
   "source": [
    "#### 3.4 Displaying number of null values for each column\n",
    "Dataframe.isnull().sum() method is used to display number of null values for each column. The following result shows that arr_delay has null values. This information is useful in subsequent tasks"
   ]
  },
  {
   "cell_type": "code",
   "execution_count": 15,
   "id": "2547334c",
   "metadata": {},
   "outputs": [
    {
     "data": {
      "text/html": [
       "<div>\n",
       "<style scoped>\n",
       "    .dataframe tbody tr th:only-of-type {\n",
       "        vertical-align: middle;\n",
       "    }\n",
       "\n",
       "    .dataframe tbody tr th {\n",
       "        vertical-align: top;\n",
       "    }\n",
       "\n",
       "    .dataframe thead th {\n",
       "        text-align: right;\n",
       "    }\n",
       "</style>\n",
       "<table border=\"1\" class=\"dataframe\">\n",
       "  <thead>\n",
       "    <tr style=\"text-align: right;\">\n",
       "      <th></th>\n",
       "      <th>Total</th>\n",
       "      <th>Percent</th>\n",
       "    </tr>\n",
       "  </thead>\n",
       "  <tbody>\n",
       "    <tr>\n",
       "      <th>Address</th>\n",
       "      <td>0</td>\n",
       "      <td>0.0</td>\n",
       "    </tr>\n",
       "    <tr>\n",
       "      <th>AreaName</th>\n",
       "      <td>0</td>\n",
       "      <td>0.0</td>\n",
       "    </tr>\n",
       "    <tr>\n",
       "      <th>Price</th>\n",
       "      <td>0</td>\n",
       "      <td>0.0</td>\n",
       "    </tr>\n",
       "  </tbody>\n",
       "</table>\n",
       "</div>"
      ],
      "text/plain": [
       "          Total  Percent\n",
       "Address       0      0.0\n",
       "AreaName      0      0.0\n",
       "Price         0      0.0"
      ]
     },
     "execution_count": 15,
     "metadata": {},
     "output_type": "execute_result"
    }
   ],
   "source": [
    "total = dataset.isnull().sum().sort_values(ascending=False)\n",
    "percent = (dataset.isnull().sum()/dataset.isnull().count()).sort_values(ascending=False)\n",
    "missing_data = pd.concat([total, percent], axis=1, keys=['Total', 'Percent'])\n",
    "missing_data.head(20)"
   ]
  },
  {
   "cell_type": "markdown",
   "id": "ccb87b43",
   "metadata": {},
   "source": [
    "#### 3.5 Displaying unique Area names\n",
    "unique() method will be used to display the unique values for Aarea names"
   ]
  },
  {
   "cell_type": "code",
   "execution_count": 16,
   "id": "09440cf3",
   "metadata": {},
   "outputs": [
    {
     "data": {
      "text/plain": [
       "array(['Richview', 'Chedoke Park B', 'Ainslie Wood East', ..., 'Gershome',\n",
       "       'Thorner', 'Appleby'], dtype=object)"
      ]
     },
     "execution_count": 16,
     "metadata": {},
     "output_type": "execute_result"
    }
   ],
   "source": [
    "dataset['AreaName'].unique()"
   ]
  },
  {
   "cell_type": "markdown",
   "id": "67a8d9a3",
   "metadata": {},
   "source": [
    "#### 3.6 Creating new variables 'mean_price' and 'AreaCategory'\n",
    "Creating a new variable to store mean price of each area. As the price range shows a lot of variation for the given area, linear regression can also be performed on mean price as target variable"
   ]
  },
  {
   "cell_type": "code",
   "execution_count": 17,
   "id": "008fe1a9",
   "metadata": {},
   "outputs": [
    {
     "data": {
      "text/html": [
       "<div>\n",
       "<style scoped>\n",
       "    .dataframe tbody tr th:only-of-type {\n",
       "        vertical-align: middle;\n",
       "    }\n",
       "\n",
       "    .dataframe tbody tr th {\n",
       "        vertical-align: top;\n",
       "    }\n",
       "\n",
       "    .dataframe thead th {\n",
       "        text-align: right;\n",
       "    }\n",
       "</style>\n",
       "<table border=\"1\" class=\"dataframe\">\n",
       "  <thead>\n",
       "    <tr style=\"text-align: right;\">\n",
       "      <th></th>\n",
       "      <th>Address</th>\n",
       "      <th>AreaName</th>\n",
       "      <th>Price</th>\n",
       "      <th>mean_price</th>\n",
       "    </tr>\n",
       "  </thead>\n",
       "  <tbody>\n",
       "    <tr>\n",
       "      <th>0</th>\n",
       "      <td>86 Waterford Dr Toronto, ON</td>\n",
       "      <td>Richview</td>\n",
       "      <td>999888</td>\n",
       "      <td>727238.400000</td>\n",
       "    </tr>\n",
       "    <tr>\n",
       "      <th>1</th>\n",
       "      <td>#80 - 100 BEDDOE DR Hamilton, ON</td>\n",
       "      <td>Chedoke Park B</td>\n",
       "      <td>399900</td>\n",
       "      <td>399900.000000</td>\n",
       "    </tr>\n",
       "    <tr>\n",
       "      <th>2</th>\n",
       "      <td>213 Bowman Street Hamilton, ON</td>\n",
       "      <td>Ainslie Wood East</td>\n",
       "      <td>479000</td>\n",
       "      <td>555906.833333</td>\n",
       "    </tr>\n",
       "    <tr>\n",
       "      <th>3</th>\n",
       "      <td>102 NEIL Avenue Hamilton, ON</td>\n",
       "      <td>Greenford</td>\n",
       "      <td>285900</td>\n",
       "      <td>466700.250000</td>\n",
       "    </tr>\n",
       "    <tr>\n",
       "      <th>4</th>\n",
       "      <td>#1409 - 230 King St Toronto, ON</td>\n",
       "      <td>Downtown</td>\n",
       "      <td>362000</td>\n",
       "      <td>590745.634940</td>\n",
       "    </tr>\n",
       "  </tbody>\n",
       "</table>\n",
       "</div>"
      ],
      "text/plain": [
       "                            Address           AreaName   Price     mean_price\n",
       "0       86 Waterford Dr Toronto, ON           Richview  999888  727238.400000\n",
       "1  #80 - 100 BEDDOE DR Hamilton, ON     Chedoke Park B  399900  399900.000000\n",
       "2    213 Bowman Street Hamilton, ON  Ainslie Wood East  479000  555906.833333\n",
       "3      102 NEIL Avenue Hamilton, ON          Greenford  285900  466700.250000\n",
       "4   #1409 - 230 King St Toronto, ON           Downtown  362000  590745.634940"
      ]
     },
     "execution_count": 17,
     "metadata": {},
     "output_type": "execute_result"
    }
   ],
   "source": [
    "dataset['mean_price'] = dataset.groupby('AreaName').Price.transform('mean')\n",
    "# displaying first five values of dataset.\n",
    "dataset.head()"
   ]
  },
  {
   "cell_type": "markdown",
   "id": "474bdddd",
   "metadata": {},
   "source": [
    "Creating category codes for area name and storing them in new variable 'AreaCategory'. This encoding will convert the string to numeric and help understand any correlation between area and price or mean price"
   ]
  },
  {
   "cell_type": "code",
   "execution_count": 18,
   "id": "7db873be",
   "metadata": {
    "scrolled": true
   },
   "outputs": [
    {
     "data": {
      "text/html": [
       "<div>\n",
       "<style scoped>\n",
       "    .dataframe tbody tr th:only-of-type {\n",
       "        vertical-align: middle;\n",
       "    }\n",
       "\n",
       "    .dataframe tbody tr th {\n",
       "        vertical-align: top;\n",
       "    }\n",
       "\n",
       "    .dataframe thead th {\n",
       "        text-align: right;\n",
       "    }\n",
       "</style>\n",
       "<table border=\"1\" class=\"dataframe\">\n",
       "  <thead>\n",
       "    <tr style=\"text-align: right;\">\n",
       "      <th></th>\n",
       "      <th>Address</th>\n",
       "      <th>AreaName</th>\n",
       "      <th>Price</th>\n",
       "      <th>mean_price</th>\n",
       "      <th>AreaCategory</th>\n",
       "    </tr>\n",
       "  </thead>\n",
       "  <tbody>\n",
       "    <tr>\n",
       "      <th>0</th>\n",
       "      <td>86 Waterford Dr Toronto, ON</td>\n",
       "      <td>Richview</td>\n",
       "      <td>999888</td>\n",
       "      <td>727238.400000</td>\n",
       "      <td>830</td>\n",
       "    </tr>\n",
       "    <tr>\n",
       "      <th>1</th>\n",
       "      <td>#80 - 100 BEDDOE DR Hamilton, ON</td>\n",
       "      <td>Chedoke Park B</td>\n",
       "      <td>399900</td>\n",
       "      <td>399900.000000</td>\n",
       "      <td>218</td>\n",
       "    </tr>\n",
       "    <tr>\n",
       "      <th>2</th>\n",
       "      <td>213 Bowman Street Hamilton, ON</td>\n",
       "      <td>Ainslie Wood East</td>\n",
       "      <td>479000</td>\n",
       "      <td>555906.833333</td>\n",
       "      <td>7</td>\n",
       "    </tr>\n",
       "    <tr>\n",
       "      <th>3</th>\n",
       "      <td>102 NEIL Avenue Hamilton, ON</td>\n",
       "      <td>Greenford</td>\n",
       "      <td>285900</td>\n",
       "      <td>466700.250000</td>\n",
       "      <td>434</td>\n",
       "    </tr>\n",
       "    <tr>\n",
       "      <th>4</th>\n",
       "      <td>#1409 - 230 King St Toronto, ON</td>\n",
       "      <td>Downtown</td>\n",
       "      <td>362000</td>\n",
       "      <td>590745.634940</td>\n",
       "      <td>308</td>\n",
       "    </tr>\n",
       "  </tbody>\n",
       "</table>\n",
       "</div>"
      ],
      "text/plain": [
       "                            Address           AreaName   Price     mean_price  \\\n",
       "0       86 Waterford Dr Toronto, ON           Richview  999888  727238.400000   \n",
       "1  #80 - 100 BEDDOE DR Hamilton, ON     Chedoke Park B  399900  399900.000000   \n",
       "2    213 Bowman Street Hamilton, ON  Ainslie Wood East  479000  555906.833333   \n",
       "3      102 NEIL Avenue Hamilton, ON          Greenford  285900  466700.250000   \n",
       "4   #1409 - 230 King St Toronto, ON           Downtown  362000  590745.634940   \n",
       "\n",
       "   AreaCategory  \n",
       "0           830  \n",
       "1           218  \n",
       "2             7  \n",
       "3           434  \n",
       "4           308  "
      ]
     },
     "execution_count": 18,
     "metadata": {},
     "output_type": "execute_result"
    }
   ],
   "source": [
    "dataset['AreaCategory'] = dataset.AreaName.astype('category').cat.codes\n",
    "# displaying first five values of dataset\n",
    "dataset.head()"
   ]
  },
  {
   "cell_type": "markdown",
   "id": "596b8740",
   "metadata": {},
   "source": [
    "#### 3.7 Displaying correlation between variables\n"
   ]
  },
  {
   "cell_type": "code",
   "execution_count": 19,
   "id": "c3518273",
   "metadata": {},
   "outputs": [
    {
     "data": {
      "text/html": [
       "<div>\n",
       "<style scoped>\n",
       "    .dataframe tbody tr th:only-of-type {\n",
       "        vertical-align: middle;\n",
       "    }\n",
       "\n",
       "    .dataframe tbody tr th {\n",
       "        vertical-align: top;\n",
       "    }\n",
       "\n",
       "    .dataframe thead th {\n",
       "        text-align: right;\n",
       "    }\n",
       "</style>\n",
       "<table border=\"1\" class=\"dataframe\">\n",
       "  <thead>\n",
       "    <tr style=\"text-align: right;\">\n",
       "      <th></th>\n",
       "      <th>Price</th>\n",
       "      <th>mean_price</th>\n",
       "      <th>AreaCategory</th>\n",
       "    </tr>\n",
       "  </thead>\n",
       "  <tbody>\n",
       "    <tr>\n",
       "      <th>Price</th>\n",
       "      <td>1.000000</td>\n",
       "      <td>0.515539</td>\n",
       "      <td>0.014026</td>\n",
       "    </tr>\n",
       "    <tr>\n",
       "      <th>mean_price</th>\n",
       "      <td>0.515539</td>\n",
       "      <td>1.000000</td>\n",
       "      <td>0.027207</td>\n",
       "    </tr>\n",
       "    <tr>\n",
       "      <th>AreaCategory</th>\n",
       "      <td>0.014026</td>\n",
       "      <td>0.027207</td>\n",
       "      <td>1.000000</td>\n",
       "    </tr>\n",
       "  </tbody>\n",
       "</table>\n",
       "</div>"
      ],
      "text/plain": [
       "                 Price  mean_price  AreaCategory\n",
       "Price         1.000000    0.515539      0.014026\n",
       "mean_price    0.515539    1.000000      0.027207\n",
       "AreaCategory  0.014026    0.027207      1.000000"
      ]
     },
     "execution_count": 19,
     "metadata": {},
     "output_type": "execute_result"
    }
   ],
   "source": [
    "dataset.corr()"
   ]
  },
  {
   "cell_type": "code",
   "execution_count": 20,
   "id": "2e53ddbb",
   "metadata": {},
   "outputs": [
    {
     "data": {
      "text/plain": [
       "<AxesSubplot:>"
      ]
     },
     "execution_count": 20,
     "metadata": {},
     "output_type": "execute_result"
    },
    {
     "data": {
      "image/png": "[encoded data removed]",
      "text/plain": [
       "<Figure size 600x400 with 2 Axes>"
      ]
     },
     "metadata": {},
     "output_type": "display_data"
    }
   ],
   "source": [
    "#Building Heatmap for displaying correlation\n",
    "sb.heatmap(dataset.corr(), annot = True, cmap = 'magma')"
   ]
  },
  {
   "cell_type": "markdown",
   "id": "ce174bcf",
   "metadata": {},
   "source": [
    "Conclusion: There is a very weak correlation between Price and Area as well as between mean price and Area"
   ]
  },
  {
   "cell_type": "markdown",
   "id": "34212e71",
   "metadata": {},
   "source": [
    "### 4. Feature Engineering and Data Vizualisation "
   ]
  },
  {
   "cell_type": "markdown",
   "id": "609f6b39",
   "metadata": {},
   "source": [
    "###### Plotting Pairplot for the dataset variables"
   ]
  },
  {
   "cell_type": "code",
   "execution_count": 21,
   "id": "e4a7bc8f",
   "metadata": {},
   "outputs": [
    {
     "data": {
      "text/plain": [
       "<seaborn.axisgrid.PairGrid at 0x2632f2997c0>"
      ]
     },
     "execution_count": 21,
     "metadata": {},
     "output_type": "execute_result"
    },
    {
     "data": {
      "image/png": "[encoded data removed]",
      "text/plain": [
       "<Figure size 750x750 with 12 Axes>"
      ]
     },
     "metadata": {},
     "output_type": "display_data"
    }
   ],
   "source": [
    "sb.pairplot(dataset)"
   ]
  },
  {
   "cell_type": "markdown",
   "id": "7688bc15",
   "metadata": {},
   "source": [
    "From the plot it can be seen that there is no linear relationship between price and area.\n",
    "Also, it can be seen from the scatter plot of mean price vs area that there is no linear relationship between mean price and area. Plotting the individual scatterplot for area vs price. "
   ]
  },
  {
   "cell_type": "markdown",
   "id": "dddb5b3d",
   "metadata": {},
   "source": [
    "##### Plotting scatterplot for Area vs Price"
   ]
  },
  {
   "cell_type": "code",
   "execution_count": 22,
   "id": "8c46d6ae",
   "metadata": {},
   "outputs": [
    {
     "data": {
      "image/png": "[encoded data removed]",
      "text/plain": [
       "<Figure size 600x400 with 1 Axes>"
      ]
     },
     "metadata": {},
     "output_type": "display_data"
    }
   ],
   "source": [
    "dataset.plot(x='AreaName', y='Price', style='o')  \n",
    "plt.title(' Area vs Price')  \n",
    "plt.xlabel('Area')  \n",
    "plt.ylabel('Price')  \n",
    "plt.show()"
   ]
  },
  {
   "cell_type": "markdown",
   "id": "f5c7d4a3",
   "metadata": {},
   "source": [
    "From the scatterplot it can be seen that there is no linear relationship between price and area."
   ]
  },
  {
   "cell_type": "markdown",
   "id": "af8b8642",
   "metadata": {},
   "source": [
    "#### Report: Creatng a Vizualization to display top 5 areas with highest mean price\n",
    "Step 1: Creating a dataframe report to contain top 5 areas with highest mean price <br>\n",
    "Step 2: Using plot method on dataframe to generate bar plot <br>\n",
    "Step 3: adding data labels"
   ]
  },
  {
   "cell_type": "code",
   "execution_count": 23,
   "id": "4f3027be",
   "metadata": {},
   "outputs": [
    {
     "data": {
      "text/plain": [
       "[Text(0, 0, '1.51833e+07'),\n",
       " Text(0, 0, '9e+06'),\n",
       " Text(0, 0, '4.4999e+06'),\n",
       " Text(0, 0, '4.43624e+06'),\n",
       " Text(0, 0, '4.19833e+06')]"
      ]
     },
     "execution_count": 23,
     "metadata": {},
     "output_type": "execute_result"
    },
    {
     "data": {
      "image/png": "[encoded data removed]",
      "text/plain": [
       "<Figure size 1500x800 with 1 Axes>"
      ]
     },
     "metadata": {},
     "output_type": "display_data"
    }
   ],
   "source": [
    "#step 1\n",
    "report = dataset.groupby('AreaName')['Price'].mean().to_frame().nlargest(5, 'Price')\n",
    "#step 2\n",
    "ax3 = report.plot(kind='bar', title='Top 5 Area with highest mean Prices', ylabel='', color = 'green', \n",
    "         xlabel='Area', figsize=(15, 8))\n",
    "#step 3\n",
    "ax3.bar_label(ax3.containers[0])"
   ]
  },
  {
   "cell_type": "markdown",
   "id": "ef1907a4",
   "metadata": {},
   "source": [
    "Conclusion: Bridle Path has the highest mean price of property followed by Appleby"
   ]
  },
  {
   "cell_type": "code",
   "execution_count": 24,
   "id": "3e3a7298",
   "metadata": {},
   "outputs": [
    {
     "name": "stderr",
     "output_type": "stream",
     "text": [
      "C:\\Users\\100902467\\Anaconda3\\lib\\site-packages\\seaborn\\distributions.py:2619: FutureWarning: `distplot` is a deprecated function and will be removed in a future version. Please adapt your code to use either `displot` (a figure-level function with similar flexibility) or `histplot` (an axes-level function for histograms).\n",
      "  warnings.warn(msg, FutureWarning)\n"
     ]
    },
    {
     "data": {
      "text/plain": [
       "<AxesSubplot:xlabel='Price'>"
      ]
     },
     "execution_count": 24,
     "metadata": {},
     "output_type": "execute_result"
    },
    {
     "data": {
      "image/png": "[encoded data removed]",
      "text/plain": [
       "<Figure size 600x400 with 1 Axes>"
      ]
     },
     "metadata": {},
     "output_type": "display_data"
    }
   ],
   "source": [
    "sb.distplot(dataset['Price'], kde = False)"
   ]
  },
  {
   "cell_type": "markdown",
   "id": "35ebfc6c",
   "metadata": {},
   "source": [
    "The distribution of price is positive skew or right skew"
   ]
  },
  {
   "cell_type": "code",
   "execution_count": 25,
   "id": "8b05d38e",
   "metadata": {},
   "outputs": [
    {
     "data": {
      "text/plain": [
       "<AxesSubplot:xlabel='AreaCategory'>"
      ]
     },
     "execution_count": 25,
     "metadata": {},
     "output_type": "execute_result"
    },
    {
     "data": {
      "image/png": "[encoded data removed]",
      "text/plain": [
       "<Figure size 600x400 with 1 Axes>"
      ]
     },
     "metadata": {},
     "output_type": "display_data"
    }
   ],
   "source": [
    "sb.distplot(dataset['AreaCategory'], kde = False)"
   ]
  },
  {
   "cell_type": "markdown",
   "id": "598e305d",
   "metadata": {},
   "source": [
    "The distribution of area is almost even in dataset"
   ]
  },
  {
   "cell_type": "markdown",
   "id": "29383d0c",
   "metadata": {},
   "source": [
    "### 5. Regression Modelling"
   ]
  },
  {
   "cell_type": "markdown",
   "id": "436ab54e",
   "metadata": {},
   "source": [
    "Splitting the dataset into target variables (y1 and y2) and dependent variable series (X)"
   ]
  },
  {
   "cell_type": "code",
   "execution_count": 26,
   "id": "dc807295",
   "metadata": {},
   "outputs": [],
   "source": [
    "X = dataset['AreaCategory'].values.reshape(-1,1)"
   ]
  },
  {
   "cell_type": "code",
   "execution_count": 27,
   "id": "f59653b1",
   "metadata": {},
   "outputs": [],
   "source": [
    "y1 = dataset['Price'].values.reshape(-1,1)"
   ]
  },
  {
   "cell_type": "code",
   "execution_count": 28,
   "id": "29043420",
   "metadata": {},
   "outputs": [],
   "source": [
    "y2 = dataset['mean_price'].values.reshape(-1,1)"
   ]
  },
  {
   "cell_type": "markdown",
   "id": "e8af25c0",
   "metadata": {},
   "source": [
    "Splitting the dataset into test and training sets.We split 80% of the data to the training set while 20% of the data to test set using below code. The test_size variable is where we actually specify the proportion of the test set."
   ]
  },
  {
   "cell_type": "code",
   "execution_count": 29,
   "id": "e68d0133",
   "metadata": {},
   "outputs": [],
   "source": [
    "# Defining Training and test set w.r.t Price variable\n",
    "X_train1, X_test1, y_train1, y_test1 = train_test_split(X, y1, test_size=0.2, random_state=0)"
   ]
  },
  {
   "cell_type": "code",
   "execution_count": 30,
   "id": "72469a68",
   "metadata": {},
   "outputs": [],
   "source": [
    "# Defining Training and test set w.r.t mean_price variable\n",
    "X_train2, X_test2, y_train2, y_test2 = train_test_split(X, y1, test_size=0.2, random_state=0)"
   ]
  },
  {
   "cell_type": "code",
   "execution_count": 31,
   "id": "100a207a",
   "metadata": {},
   "outputs": [
    {
     "data": {
      "text/plain": [
       "LinearRegression()"
      ]
     },
     "execution_count": 31,
     "metadata": {},
     "output_type": "execute_result"
    }
   ],
   "source": [
    "# training the Linear Regrssion algorithM w.r.t Price variable\n",
    "regressor1 = LinearRegression() \n",
    "regressor1.fit(X_train1, y_train1)\n"
   ]
  },
  {
   "cell_type": "code",
   "execution_count": 32,
   "id": "75613e84",
   "metadata": {},
   "outputs": [
    {
     "data": {
      "text/plain": [
       "LinearRegression()"
      ]
     },
     "execution_count": 32,
     "metadata": {},
     "output_type": "execute_result"
    }
   ],
   "source": [
    "# training the Linear Regrssion algorithM w.r.t mean_Price variable\n",
    "regressor2 = LinearRegression() \n",
    "regressor2.fit(X_train2, y_train2)"
   ]
  },
  {
   "cell_type": "markdown",
   "id": "79e46e64",
   "metadata": {},
   "source": [
    "The linear regression model basically finds the best value for the intercept and slope, which results in a line that best fits the data. To see the value of the intercept and slope calculated by the linear regression algorithm for our dataset, execute the following code. y = mx + b ( m = slope || b = intercept)"
   ]
  },
  {
   "cell_type": "code",
   "execution_count": 33,
   "id": "c9ec553e",
   "metadata": {},
   "outputs": [
    {
     "name": "stdout",
     "output_type": "stream",
     "text": [
      "[[13.06666913]]\n",
      "[559463.90095227]\n"
     ]
    }
   ],
   "source": [
    "# Given that it is a line ( y= mx+b ) , let's calculate the slope and intercept w.r.t Price Variable\n",
    "\n",
    "#For retrieving the slope:\n",
    "print(regressor1.coef_)\n",
    "\n",
    "#To retrieve the intercept:\n",
    "print(regressor1.intercept_)"
   ]
  },
  {
   "cell_type": "code",
   "execution_count": 34,
   "id": "438fadad",
   "metadata": {},
   "outputs": [
    {
     "name": "stdout",
     "output_type": "stream",
     "text": [
      "[[13.06666913]]\n",
      "[559463.90095227]\n"
     ]
    }
   ],
   "source": [
    "# Given that it is a line ( y= mx+b ) , let's calculate the slope and intercept w.r.t mean_price Variable\n",
    "\n",
    "#For retrieving the slope:\n",
    "print(regressor2.coef_)\n",
    "\n",
    "#To retrieve the intercept:\n",
    "print(regressor2.intercept_)"
   ]
  },
  {
   "cell_type": "markdown",
   "id": "a388e332",
   "metadata": {},
   "source": [
    "The coeffecient and intercept for both regression models is same."
   ]
  },
  {
   "cell_type": "markdown",
   "id": "ad690cd1",
   "metadata": {},
   "source": [
    "### 6. Measuring accuracy of the model\n",
    "Now that we have trained our algorithm, it’s time to make some predictions. To do so, we will use our test data and see how accurately our algorithm predicts the percentage score using R2 score value"
   ]
  },
  {
   "cell_type": "code",
   "execution_count": 35,
   "id": "b9d03e71",
   "metadata": {},
   "outputs": [
    {
     "data": {
      "text/plain": [
       "0.00011352163010580618"
      ]
     },
     "execution_count": 35,
     "metadata": {},
     "output_type": "execute_result"
    }
   ],
   "source": [
    "regressor1.score(X, y1)"
   ]
  },
  {
   "cell_type": "code",
   "execution_count": 36,
   "id": "fd09ca5d",
   "metadata": {},
   "outputs": [
    {
     "data": {
      "text/plain": [
       "0.0004271248811856809"
      ]
     },
     "execution_count": 36,
     "metadata": {},
     "output_type": "execute_result"
    }
   ],
   "source": [
    "regressor2.score(X, y2)"
   ]
  },
  {
   "cell_type": "markdown",
   "id": "9d27d016",
   "metadata": {},
   "source": [
    "Both the models have very low performance score.\n",
    "Therefore, Linear Regression is not good model to find relation between the Area and price of property or between area and mean price for given dataset.\n",
    "The same can be validated through the Mean Absolute Error.  "
   ]
  },
  {
   "cell_type": "code",
   "execution_count": 37,
   "id": "066669b8",
   "metadata": {},
   "outputs": [],
   "source": [
    "y_pred1 = regressor1.predict(X_test1)\n",
    "y_pred2 = regressor2.predict(X_test2)"
   ]
  },
  {
   "cell_type": "code",
   "execution_count": 38,
   "id": "8059e109",
   "metadata": {},
   "outputs": [
    {
     "data": {
      "text/html": [
       "<div>\n",
       "<style scoped>\n",
       "    .dataframe tbody tr th:only-of-type {\n",
       "        vertical-align: middle;\n",
       "    }\n",
       "\n",
       "    .dataframe tbody tr th {\n",
       "        vertical-align: top;\n",
       "    }\n",
       "\n",
       "    .dataframe thead th {\n",
       "        text-align: right;\n",
       "    }\n",
       "</style>\n",
       "<table border=\"1\" class=\"dataframe\">\n",
       "  <thead>\n",
       "    <tr style=\"text-align: right;\">\n",
       "      <th></th>\n",
       "      <th>Actual price</th>\n",
       "      <th>Predicted price</th>\n",
       "    </tr>\n",
       "  </thead>\n",
       "  <tbody>\n",
       "    <tr>\n",
       "      <th>0</th>\n",
       "      <td>519900</td>\n",
       "      <td>571589.769900</td>\n",
       "    </tr>\n",
       "    <tr>\n",
       "      <th>1</th>\n",
       "      <td>988000</td>\n",
       "      <td>570296.169657</td>\n",
       "    </tr>\n",
       "    <tr>\n",
       "      <th>2</th>\n",
       "      <td>329900</td>\n",
       "      <td>564390.035212</td>\n",
       "    </tr>\n",
       "    <tr>\n",
       "      <th>3</th>\n",
       "      <td>659888</td>\n",
       "      <td>565160.968691</td>\n",
       "    </tr>\n",
       "    <tr>\n",
       "      <th>4</th>\n",
       "      <td>425550</td>\n",
       "      <td>562168.701461</td>\n",
       "    </tr>\n",
       "    <tr>\n",
       "      <th>...</th>\n",
       "      <td>...</td>\n",
       "      <td>...</td>\n",
       "    </tr>\n",
       "    <tr>\n",
       "      <th>4969</th>\n",
       "      <td>89900</td>\n",
       "      <td>567944.169214</td>\n",
       "    </tr>\n",
       "    <tr>\n",
       "      <th>4970</th>\n",
       "      <td>1800000</td>\n",
       "      <td>573432.170247</td>\n",
       "    </tr>\n",
       "    <tr>\n",
       "      <th>4971</th>\n",
       "      <td>375000</td>\n",
       "      <td>561881.234740</td>\n",
       "    </tr>\n",
       "    <tr>\n",
       "      <th>4972</th>\n",
       "      <td>99900</td>\n",
       "      <td>572974.836828</td>\n",
       "    </tr>\n",
       "    <tr>\n",
       "      <th>4973</th>\n",
       "      <td>319500</td>\n",
       "      <td>563488.435043</td>\n",
       "    </tr>\n",
       "  </tbody>\n",
       "</table>\n",
       "<p>4974 rows × 2 columns</p>\n",
       "</div>"
      ],
      "text/plain": [
       "      Actual price  Predicted price\n",
       "0           519900    571589.769900\n",
       "1           988000    570296.169657\n",
       "2           329900    564390.035212\n",
       "3           659888    565160.968691\n",
       "4           425550    562168.701461\n",
       "...            ...              ...\n",
       "4969         89900    567944.169214\n",
       "4970       1800000    573432.170247\n",
       "4971        375000    561881.234740\n",
       "4972         99900    572974.836828\n",
       "4973        319500    563488.435043\n",
       "\n",
       "[4974 rows x 2 columns]"
      ]
     },
     "execution_count": 38,
     "metadata": {},
     "output_type": "execute_result"
    }
   ],
   "source": [
    "df = pd.DataFrame({'Actual price': y_test1.flatten(), 'Predicted price': y_pred1.flatten()})\n",
    "df"
   ]
  },
  {
   "cell_type": "code",
   "execution_count": 39,
   "id": "e6915fb8",
   "metadata": {},
   "outputs": [
    {
     "data": {
      "image/png": "[encoded data removed]",
      "text/plain": [
       "<Figure size 1600x1000 with 1 Axes>"
      ]
     },
     "metadata": {},
     "output_type": "display_data"
    }
   ],
   "source": [
    "df1 = df.head(25)\n",
    "df1.plot(kind='bar',figsize=(16,10))\n",
    "plt.grid(which='major', linestyle='-', linewidth='0.5', color='blue')\n",
    "plt.grid(which='minor', linestyle=':', linewidth='0.5', color='orange')\n",
    "plt.show()"
   ]
  },
  {
   "cell_type": "markdown",
   "id": "bf52cd59",
   "metadata": {},
   "source": [
    "The plot shows that our model is not very precise, the predicted percentages are far away from the actual ones. Let's plot our straight line with the test data :"
   ]
  },
  {
   "cell_type": "code",
   "execution_count": 40,
   "id": "d797be02",
   "metadata": {},
   "outputs": [
    {
     "data": {
      "image/png": "[encoded data removed]",
      "text/plain": [
       "<Figure size 600x400 with 1 Axes>"
      ]
     },
     "metadata": {},
     "output_type": "display_data"
    }
   ],
   "source": [
    "plt.scatter(X_test1, y_test1,  color='gray')\n",
    "plt.plot(X_test1, y_pred1, color='red', linewidth=2)\n",
    "plt.show()"
   ]
  },
  {
   "cell_type": "markdown",
   "id": "4db1236f",
   "metadata": {},
   "source": [
    "The straight line in the above graph shows our algorithm is not correct. The final step is to evaluate the performance of the algorithm. This step is particularly important to compare how well different algorithms perform on a particular dataset. For regression algorithms, three evaluation metrics are commonly used:"
   ]
  },
  {
   "cell_type": "code",
   "execution_count": 41,
   "id": "b02b0370",
   "metadata": {},
   "outputs": [
    {
     "name": "stdout",
     "output_type": "stream",
     "text": [
      "Mean Absolute Error: 400397.09014149033\n",
      "Mean Squared Error: 593979842740.6466\n",
      "Root Mean Squared Error: 770700.8776046947\n"
     ]
    }
   ],
   "source": [
    "print('Mean Absolute Error:', metrics.mean_absolute_error(y_test1, y_pred1))  \n",
    "print('Mean Squared Error:', metrics.mean_squared_error(y_test1, y_pred1))  \n",
    "print('Root Mean Squared Error:', np.sqrt(metrics.mean_squared_error(y_test1, y_pred1)))"
   ]
  },
  {
   "cell_type": "markdown",
   "id": "e645c83b",
   "metadata": {},
   "source": [
    "All the values (Mean Absolute Error, Mean Squared Error, Root Mean Squared Error) are so high that we can conclude regression model is not appropriate to find relation price and area. \n",
    "Therefore, we can conclude we cannot predict prices from the given attributes of the dataset.\n",
    "There is no relation between prices and area"
   ]
  },
  {
   "cell_type": "markdown",
   "id": "fbd7b72b",
   "metadata": {},
   "source": [
    "### 7. Summary\n",
    "\n",
    "The given dataset is not complete and the price of property does not depend solely and completely on the price and mean_price of the property because: <br>\n",
    "1. The correlation coeffecient between price and mean price is very low as can be seen from heatmap above. (Correlation coefficient between Area and price: 0.014 and Correlation coeffecient between Area and price: 0.027. <br>\n",
    "2. Also, it can be seen from the scatter plot of mean price vs area and price vs area that there is no linear relationship between mean price and area. Plotting the individual scatterplot for area vs price. <br>\n",
    "3. The Linear Regression models between area and price and area and mean price have very low performance score. Therefore, Linear Regression is not good model to find relation between the Area and price of property or between area and mean price for given dataset. The same was validated through the Mean Absolute Error which was very high. The plot shows that our model is not very precise, the predicted percentages are far away from the actual ones.<br>\n"
   ]
  },
  {
   "cell_type": "markdown",
   "id": "54d9f7be",
   "metadata": {},
   "source": [
    "### 8. Conclusion\n",
    "\n",
    "The Regression Model shows poor performance. This is because there are so many factors that affect property price that the model did not consider. These factors include things like:\n",
    "\n",
    "1. the age of a property\n",
    "2. the size of each bedroom\n",
    "3. the number of bathrooms\n",
    "4. the condition the property is in\n",
    "5. the amenities available in the local area\n",
    "6. the exact style and layout of the property\n",
    "7. if there are any furnishings provided alongside\n",
    "8. if there is any private parking, and if so, for how many vehicles\n",
    "9. if there is any land/garden, and if so, the size\n",
    "10. the number of bathrooms\n",
    "All of these are important features in the valuation process, which simply play too big a role. With data for these, I feel a better model could be created, as each one allows you to narrow down the price range, some more so than others. We can conclude that the data provided in the dataset does not provide enough information to predict property price    "
   ]
  },
  {
   "cell_type": "code",
   "execution_count": null,
   "id": "faf775da",
   "metadata": {},
   "outputs": [],
   "source": []
  }
 ],
 "metadata": {
  "kernelspec": {
   "display_name": "Python 3 (ipykernel)",
   "language": "python",
   "name": "python3"
  },
  "language_info": {
   "codemirror_mode": {
    "name": "ipython",
    "version": 3
   },
   "file_extension": ".py",
   "mimetype": "text/x-python",
   "name": "python",
   "nbconvert_exporter": "python",
   "pygments_lexer": "ipython3",
   "version": "3.9.12"
  }
 },
 "nbformat": 4,
 "nbformat_minor": 5
}
